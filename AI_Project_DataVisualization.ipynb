{
 "cells": [
  {
   "cell_type": "markdown",
   "metadata": {},
   "source": [
    "## AI Project UCS415 \n",
    "#### Finding Popularity of Spotify Songs \n",
    "Nitansh Jain  102017025"
   ]
  },
  {
   "cell_type": "markdown",
   "metadata": {},
   "source": [
    "``` Importing Pandas and Numpy ``` "
   ]
  },
  {
   "cell_type": "code",
   "execution_count": 699,
   "metadata": {},
   "outputs": [],
   "source": [
    "import pandas as pd\n",
    "import numpy as np\n",
    "import matplotlib.pyplot as plt\n",
    "import seaborn as sns\n",
    "# import sklearn"
   ]
  },
  {
   "cell_type": "markdown",
   "metadata": {},
   "source": [
    "Converting data from the csv file to a dataframe"
   ]
  },
  {
   "cell_type": "code",
   "execution_count": 700,
   "metadata": {},
   "outputs": [
    {
     "data": {
      "text/html": [
       "<div>\n",
       "<style scoped>\n",
       "    .dataframe tbody tr th:only-of-type {\n",
       "        vertical-align: middle;\n",
       "    }\n",
       "\n",
       "    .dataframe tbody tr th {\n",
       "        vertical-align: top;\n",
       "    }\n",
       "\n",
       "    .dataframe thead th {\n",
       "        text-align: right;\n",
       "    }\n",
       "</style>\n",
       "<table border=\"1\" class=\"dataframe\">\n",
       "  <thead>\n",
       "    <tr style=\"text-align: right;\">\n",
       "      <th></th>\n",
       "      <th>title</th>\n",
       "      <th>artist</th>\n",
       "      <th>top genre</th>\n",
       "      <th>year</th>\n",
       "      <th>added</th>\n",
       "      <th>bpm</th>\n",
       "      <th>nrgy</th>\n",
       "      <th>dnce</th>\n",
       "      <th>dB</th>\n",
       "      <th>live</th>\n",
       "      <th>val</th>\n",
       "      <th>dur</th>\n",
       "      <th>acous</th>\n",
       "      <th>spch</th>\n",
       "      <th>top year</th>\n",
       "      <th>artist_type</th>\n",
       "      <th>pop</th>\n",
       "    </tr>\n",
       "  </thead>\n",
       "  <tbody>\n",
       "    <tr>\n",
       "      <th>0</th>\n",
       "      <td>STARSTRUKK (feat. Katy Perry)</td>\n",
       "      <td>3OH!3</td>\n",
       "      <td>dance pop</td>\n",
       "      <td>2009</td>\n",
       "      <td>2022‑02‑17</td>\n",
       "      <td>140</td>\n",
       "      <td>81</td>\n",
       "      <td>61</td>\n",
       "      <td>-6</td>\n",
       "      <td>23</td>\n",
       "      <td>23</td>\n",
       "      <td>203</td>\n",
       "      <td>0</td>\n",
       "      <td>6</td>\n",
       "      <td>2010</td>\n",
       "      <td>Duo</td>\n",
       "      <td>70</td>\n",
       "    </tr>\n",
       "    <tr>\n",
       "      <th>1</th>\n",
       "      <td>My First Kiss (feat. Ke$ha)</td>\n",
       "      <td>3OH!3</td>\n",
       "      <td>dance pop</td>\n",
       "      <td>2010</td>\n",
       "      <td>2022‑02‑17</td>\n",
       "      <td>138</td>\n",
       "      <td>89</td>\n",
       "      <td>68</td>\n",
       "      <td>-4</td>\n",
       "      <td>36</td>\n",
       "      <td>83</td>\n",
       "      <td>192</td>\n",
       "      <td>1</td>\n",
       "      <td>8</td>\n",
       "      <td>2010</td>\n",
       "      <td>Duo</td>\n",
       "      <td>68</td>\n",
       "    </tr>\n",
       "    <tr>\n",
       "      <th>2</th>\n",
       "      <td>I Need A Dollar</td>\n",
       "      <td>Aloe Blacc</td>\n",
       "      <td>pop soul</td>\n",
       "      <td>2010</td>\n",
       "      <td>2022‑02‑17</td>\n",
       "      <td>95</td>\n",
       "      <td>48</td>\n",
       "      <td>84</td>\n",
       "      <td>-7</td>\n",
       "      <td>9</td>\n",
       "      <td>96</td>\n",
       "      <td>243</td>\n",
       "      <td>20</td>\n",
       "      <td>3</td>\n",
       "      <td>2010</td>\n",
       "      <td>Solo</td>\n",
       "      <td>72</td>\n",
       "    </tr>\n",
       "    <tr>\n",
       "      <th>3</th>\n",
       "      <td>Airplanes (feat. Hayley Williams of Paramore)</td>\n",
       "      <td>B.o.B</td>\n",
       "      <td>atl hip hop</td>\n",
       "      <td>2010</td>\n",
       "      <td>2022‑02‑17</td>\n",
       "      <td>93</td>\n",
       "      <td>87</td>\n",
       "      <td>66</td>\n",
       "      <td>-4</td>\n",
       "      <td>4</td>\n",
       "      <td>38</td>\n",
       "      <td>180</td>\n",
       "      <td>11</td>\n",
       "      <td>12</td>\n",
       "      <td>2010</td>\n",
       "      <td>Solo</td>\n",
       "      <td>80</td>\n",
       "    </tr>\n",
       "    <tr>\n",
       "      <th>4</th>\n",
       "      <td>Nothin' on You (feat. Bruno Mars)</td>\n",
       "      <td>B.o.B</td>\n",
       "      <td>atl hip hop</td>\n",
       "      <td>2010</td>\n",
       "      <td>2022‑02‑17</td>\n",
       "      <td>104</td>\n",
       "      <td>85</td>\n",
       "      <td>69</td>\n",
       "      <td>-6</td>\n",
       "      <td>9</td>\n",
       "      <td>74</td>\n",
       "      <td>268</td>\n",
       "      <td>39</td>\n",
       "      <td>5</td>\n",
       "      <td>2010</td>\n",
       "      <td>Solo</td>\n",
       "      <td>79</td>\n",
       "    </tr>\n",
       "  </tbody>\n",
       "</table>\n",
       "</div>"
      ],
      "text/plain": [
       "                                           title      artist    top genre  \\\n",
       "0                  STARSTRUKK (feat. Katy Perry)       3OH!3    dance pop   \n",
       "1                    My First Kiss (feat. Ke$ha)       3OH!3    dance pop   \n",
       "2                                I Need A Dollar  Aloe Blacc     pop soul   \n",
       "3  Airplanes (feat. Hayley Williams of Paramore)       B.o.B  atl hip hop   \n",
       "4              Nothin' on You (feat. Bruno Mars)       B.o.B  atl hip hop   \n",
       "\n",
       "   year       added  bpm  nrgy  dnce  dB  live  val  dur  acous  spch  \\\n",
       "0  2009  2022‑02‑17  140    81    61  -6    23   23  203      0     6   \n",
       "1  2010  2022‑02‑17  138    89    68  -4    36   83  192      1     8   \n",
       "2  2010  2022‑02‑17   95    48    84  -7     9   96  243     20     3   \n",
       "3  2010  2022‑02‑17   93    87    66  -4     4   38  180     11    12   \n",
       "4  2010  2022‑02‑17  104    85    69  -6     9   74  268     39     5   \n",
       "\n",
       "   top year artist_type  pop  \n",
       "0      2010         Duo   70  \n",
       "1      2010         Duo   68  \n",
       "2      2010        Solo   72  \n",
       "3      2010        Solo   80  \n",
       "4      2010        Solo   79  "
      ]
     },
     "execution_count": 700,
     "metadata": {},
     "output_type": "execute_result"
    }
   ],
   "source": [
    "spotify_df = pd.read_csv('spotify_data.csv')\n",
    "spotify_df.head()"
   ]
  },
  {
   "cell_type": "code",
   "execution_count": 701,
   "metadata": {},
   "outputs": [
    {
     "name": "stdout",
     "output_type": "stream",
     "text": [
      "title          0\n",
      "artist         0\n",
      "top genre      0\n",
      "year           0\n",
      "added          0\n",
      "bpm            0\n",
      "nrgy           0\n",
      "dnce           0\n",
      "dB             0\n",
      "live           0\n",
      "val            0\n",
      "dur            0\n",
      "acous          0\n",
      "spch           0\n",
      "top year       0\n",
      "artist_type    0\n",
      "pop            0\n",
      "dtype: int64\n"
     ]
    }
   ],
   "source": [
    "# checking if any null or nan values are present\n",
    "print(spotify_df.isna().sum())"
   ]
  },
  {
   "cell_type": "code",
   "execution_count": 702,
   "metadata": {},
   "outputs": [
    {
     "data": {
      "text/plain": [
       "title          object\n",
       "artist         object\n",
       "top genre      object\n",
       "year            int64\n",
       "added          object\n",
       "bpm             int64\n",
       "nrgy            int64\n",
       "dnce            int64\n",
       "dB              int64\n",
       "live            int64\n",
       "val             int64\n",
       "dur             int64\n",
       "acous           int64\n",
       "spch            int64\n",
       "top year        int64\n",
       "artist_type    object\n",
       "pop             int64\n",
       "dtype: object"
      ]
     },
     "execution_count": 702,
     "metadata": {},
     "output_type": "execute_result"
    }
   ],
   "source": [
    "# checking data types of all columns\n",
    "spotify_df.dtypes"
   ]
  },
  {
   "cell_type": "code",
   "execution_count": 703,
   "metadata": {},
   "outputs": [
    {
     "name": "stdout",
     "output_type": "stream",
     "text": [
      "Solo          748\n",
      "Band/Group    169\n",
      "Duo            70\n",
      "Trio           13\n",
      "Name: artist_type, dtype: int64\n",
      "2    748\n",
      "0    169\n",
      "1     70\n",
      "3     13\n",
      "Name: artist_type, dtype: int64\n"
     ]
    }
   ],
   "source": [
    "# converting artist type column values to a number [0,1,2]\n",
    "print(spotify_df['artist_type'].value_counts())\n",
    "spotify_df['artist_type'] = spotify_df['artist_type'].astype('category').cat.codes\n",
    "print(spotify_df['artist_type'].value_counts())"
   ]
  },
  {
   "cell_type": "code",
   "execution_count": 704,
   "metadata": {},
   "outputs": [
    {
     "data": {
      "text/html": [
       "<div>\n",
       "<style scoped>\n",
       "    .dataframe tbody tr th:only-of-type {\n",
       "        vertical-align: middle;\n",
       "    }\n",
       "\n",
       "    .dataframe tbody tr th {\n",
       "        vertical-align: top;\n",
       "    }\n",
       "\n",
       "    .dataframe thead th {\n",
       "        text-align: right;\n",
       "    }\n",
       "</style>\n",
       "<table border=\"1\" class=\"dataframe\">\n",
       "  <thead>\n",
       "    <tr style=\"text-align: right;\">\n",
       "      <th></th>\n",
       "      <th>title</th>\n",
       "      <th>artist</th>\n",
       "      <th>top genre</th>\n",
       "      <th>year</th>\n",
       "      <th>bpm</th>\n",
       "      <th>nrgy</th>\n",
       "      <th>dnce</th>\n",
       "      <th>dB</th>\n",
       "      <th>live</th>\n",
       "      <th>val</th>\n",
       "      <th>dur</th>\n",
       "      <th>acous</th>\n",
       "      <th>spch</th>\n",
       "      <th>artist_type</th>\n",
       "      <th>pop</th>\n",
       "    </tr>\n",
       "  </thead>\n",
       "  <tbody>\n",
       "    <tr>\n",
       "      <th>0</th>\n",
       "      <td>STARSTRUKK (feat. Katy Perry)</td>\n",
       "      <td>3OH!3</td>\n",
       "      <td>dance pop</td>\n",
       "      <td>2009</td>\n",
       "      <td>140</td>\n",
       "      <td>81</td>\n",
       "      <td>61</td>\n",
       "      <td>-6</td>\n",
       "      <td>23</td>\n",
       "      <td>23</td>\n",
       "      <td>203</td>\n",
       "      <td>0</td>\n",
       "      <td>6</td>\n",
       "      <td>1</td>\n",
       "      <td>70</td>\n",
       "    </tr>\n",
       "    <tr>\n",
       "      <th>1</th>\n",
       "      <td>My First Kiss (feat. Ke$ha)</td>\n",
       "      <td>3OH!3</td>\n",
       "      <td>dance pop</td>\n",
       "      <td>2010</td>\n",
       "      <td>138</td>\n",
       "      <td>89</td>\n",
       "      <td>68</td>\n",
       "      <td>-4</td>\n",
       "      <td>36</td>\n",
       "      <td>83</td>\n",
       "      <td>192</td>\n",
       "      <td>1</td>\n",
       "      <td>8</td>\n",
       "      <td>1</td>\n",
       "      <td>68</td>\n",
       "    </tr>\n",
       "    <tr>\n",
       "      <th>2</th>\n",
       "      <td>I Need A Dollar</td>\n",
       "      <td>Aloe Blacc</td>\n",
       "      <td>pop soul</td>\n",
       "      <td>2010</td>\n",
       "      <td>95</td>\n",
       "      <td>48</td>\n",
       "      <td>84</td>\n",
       "      <td>-7</td>\n",
       "      <td>9</td>\n",
       "      <td>96</td>\n",
       "      <td>243</td>\n",
       "      <td>20</td>\n",
       "      <td>3</td>\n",
       "      <td>2</td>\n",
       "      <td>72</td>\n",
       "    </tr>\n",
       "    <tr>\n",
       "      <th>3</th>\n",
       "      <td>Airplanes (feat. Hayley Williams of Paramore)</td>\n",
       "      <td>B.o.B</td>\n",
       "      <td>atl hip hop</td>\n",
       "      <td>2010</td>\n",
       "      <td>93</td>\n",
       "      <td>87</td>\n",
       "      <td>66</td>\n",
       "      <td>-4</td>\n",
       "      <td>4</td>\n",
       "      <td>38</td>\n",
       "      <td>180</td>\n",
       "      <td>11</td>\n",
       "      <td>12</td>\n",
       "      <td>2</td>\n",
       "      <td>80</td>\n",
       "    </tr>\n",
       "    <tr>\n",
       "      <th>4</th>\n",
       "      <td>Nothin' on You (feat. Bruno Mars)</td>\n",
       "      <td>B.o.B</td>\n",
       "      <td>atl hip hop</td>\n",
       "      <td>2010</td>\n",
       "      <td>104</td>\n",
       "      <td>85</td>\n",
       "      <td>69</td>\n",
       "      <td>-6</td>\n",
       "      <td>9</td>\n",
       "      <td>74</td>\n",
       "      <td>268</td>\n",
       "      <td>39</td>\n",
       "      <td>5</td>\n",
       "      <td>2</td>\n",
       "      <td>79</td>\n",
       "    </tr>\n",
       "    <tr>\n",
       "      <th>...</th>\n",
       "      <td>...</td>\n",
       "      <td>...</td>\n",
       "      <td>...</td>\n",
       "      <td>...</td>\n",
       "      <td>...</td>\n",
       "      <td>...</td>\n",
       "      <td>...</td>\n",
       "      <td>...</td>\n",
       "      <td>...</td>\n",
       "      <td>...</td>\n",
       "      <td>...</td>\n",
       "      <td>...</td>\n",
       "      <td>...</td>\n",
       "      <td>...</td>\n",
       "      <td>...</td>\n",
       "    </tr>\n",
       "    <tr>\n",
       "      <th>995</th>\n",
       "      <td>SICKO MODE</td>\n",
       "      <td>Travis Scott</td>\n",
       "      <td>hip hop</td>\n",
       "      <td>2018</td>\n",
       "      <td>155</td>\n",
       "      <td>73</td>\n",
       "      <td>83</td>\n",
       "      <td>-4</td>\n",
       "      <td>12</td>\n",
       "      <td>45</td>\n",
       "      <td>313</td>\n",
       "      <td>1</td>\n",
       "      <td>22</td>\n",
       "      <td>2</td>\n",
       "      <td>86</td>\n",
       "    </tr>\n",
       "    <tr>\n",
       "      <th>996</th>\n",
       "      <td>EARFQUAKE</td>\n",
       "      <td>Tyler, The Creator</td>\n",
       "      <td>hip hop</td>\n",
       "      <td>2019</td>\n",
       "      <td>80</td>\n",
       "      <td>50</td>\n",
       "      <td>55</td>\n",
       "      <td>-9</td>\n",
       "      <td>80</td>\n",
       "      <td>41</td>\n",
       "      <td>190</td>\n",
       "      <td>23</td>\n",
       "      <td>7</td>\n",
       "      <td>2</td>\n",
       "      <td>85</td>\n",
       "    </tr>\n",
       "    <tr>\n",
       "      <th>997</th>\n",
       "      <td>Boasty (feat. Idris Elba)</td>\n",
       "      <td>Wiley</td>\n",
       "      <td>grime</td>\n",
       "      <td>2019</td>\n",
       "      <td>103</td>\n",
       "      <td>77</td>\n",
       "      <td>89</td>\n",
       "      <td>-5</td>\n",
       "      <td>9</td>\n",
       "      <td>46</td>\n",
       "      <td>177</td>\n",
       "      <td>1</td>\n",
       "      <td>7</td>\n",
       "      <td>2</td>\n",
       "      <td>68</td>\n",
       "    </tr>\n",
       "    <tr>\n",
       "      <th>998</th>\n",
       "      <td>Strike a Pose (feat. Aitch)</td>\n",
       "      <td>Young T &amp; Bugsey</td>\n",
       "      <td>afroswing</td>\n",
       "      <td>2019</td>\n",
       "      <td>138</td>\n",
       "      <td>58</td>\n",
       "      <td>53</td>\n",
       "      <td>-6</td>\n",
       "      <td>10</td>\n",
       "      <td>59</td>\n",
       "      <td>214</td>\n",
       "      <td>1</td>\n",
       "      <td>10</td>\n",
       "      <td>1</td>\n",
       "      <td>67</td>\n",
       "    </tr>\n",
       "    <tr>\n",
       "      <th>999</th>\n",
       "      <td>The London (feat. J. Cole &amp; Travis Scott)</td>\n",
       "      <td>Young Thug</td>\n",
       "      <td>atl hip hop</td>\n",
       "      <td>2019</td>\n",
       "      <td>98</td>\n",
       "      <td>59</td>\n",
       "      <td>80</td>\n",
       "      <td>-7</td>\n",
       "      <td>13</td>\n",
       "      <td>18</td>\n",
       "      <td>200</td>\n",
       "      <td>2</td>\n",
       "      <td>15</td>\n",
       "      <td>2</td>\n",
       "      <td>75</td>\n",
       "    </tr>\n",
       "  </tbody>\n",
       "</table>\n",
       "<p>1000 rows × 15 columns</p>\n",
       "</div>"
      ],
      "text/plain": [
       "                                             title              artist  \\\n",
       "0                    STARSTRUKK (feat. Katy Perry)               3OH!3   \n",
       "1                      My First Kiss (feat. Ke$ha)               3OH!3   \n",
       "2                                  I Need A Dollar          Aloe Blacc   \n",
       "3    Airplanes (feat. Hayley Williams of Paramore)               B.o.B   \n",
       "4                Nothin' on You (feat. Bruno Mars)               B.o.B   \n",
       "..                                             ...                 ...   \n",
       "995                                     SICKO MODE        Travis Scott   \n",
       "996                                      EARFQUAKE  Tyler, The Creator   \n",
       "997                      Boasty (feat. Idris Elba)               Wiley   \n",
       "998                    Strike a Pose (feat. Aitch)    Young T & Bugsey   \n",
       "999      The London (feat. J. Cole & Travis Scott)          Young Thug   \n",
       "\n",
       "       top genre  year  bpm  nrgy  dnce  dB  live  val  dur  acous  spch  \\\n",
       "0      dance pop  2009  140    81    61  -6    23   23  203      0     6   \n",
       "1      dance pop  2010  138    89    68  -4    36   83  192      1     8   \n",
       "2       pop soul  2010   95    48    84  -7     9   96  243     20     3   \n",
       "3    atl hip hop  2010   93    87    66  -4     4   38  180     11    12   \n",
       "4    atl hip hop  2010  104    85    69  -6     9   74  268     39     5   \n",
       "..           ...   ...  ...   ...   ...  ..   ...  ...  ...    ...   ...   \n",
       "995      hip hop  2018  155    73    83  -4    12   45  313      1    22   \n",
       "996      hip hop  2019   80    50    55  -9    80   41  190     23     7   \n",
       "997        grime  2019  103    77    89  -5     9   46  177      1     7   \n",
       "998    afroswing  2019  138    58    53  -6    10   59  214      1    10   \n",
       "999  atl hip hop  2019   98    59    80  -7    13   18  200      2    15   \n",
       "\n",
       "     artist_type  pop  \n",
       "0              1   70  \n",
       "1              1   68  \n",
       "2              2   72  \n",
       "3              2   80  \n",
       "4              2   79  \n",
       "..           ...  ...  \n",
       "995            2   86  \n",
       "996            2   85  \n",
       "997            2   68  \n",
       "998            1   67  \n",
       "999            2   75  \n",
       "\n",
       "[1000 rows x 15 columns]"
      ]
     },
     "execution_count": 704,
     "metadata": {},
     "output_type": "execute_result"
    }
   ],
   "source": [
    "# dropping column added and top year from dataframe\n",
    "# spotify_df.drop(['added', 'top year'], axis=1, inplace=True)\n",
    "# spotify_df"
   ]
  },
  {
   "cell_type": "code",
   "execution_count": 705,
   "metadata": {},
   "outputs": [
    {
     "data": {
      "text/html": [
       "<div>\n",
       "<style scoped>\n",
       "    .dataframe tbody tr th:only-of-type {\n",
       "        vertical-align: middle;\n",
       "    }\n",
       "\n",
       "    .dataframe tbody tr th {\n",
       "        vertical-align: top;\n",
       "    }\n",
       "\n",
       "    .dataframe thead th {\n",
       "        text-align: right;\n",
       "    }\n",
       "</style>\n",
       "<table border=\"1\" class=\"dataframe\">\n",
       "  <thead>\n",
       "    <tr style=\"text-align: right;\">\n",
       "      <th></th>\n",
       "      <th>title</th>\n",
       "      <th>artist</th>\n",
       "      <th>genre</th>\n",
       "      <th>year</th>\n",
       "      <th>bpm</th>\n",
       "      <th>nrgy</th>\n",
       "      <th>dnce</th>\n",
       "      <th>dB</th>\n",
       "      <th>live</th>\n",
       "      <th>val</th>\n",
       "      <th>dur</th>\n",
       "      <th>acous</th>\n",
       "      <th>spch</th>\n",
       "      <th>artist_type</th>\n",
       "      <th>popularity</th>\n",
       "    </tr>\n",
       "  </thead>\n",
       "  <tbody>\n",
       "    <tr>\n",
       "      <th>0</th>\n",
       "      <td>STARSTRUKK (feat. Katy Perry)</td>\n",
       "      <td>3OH!3</td>\n",
       "      <td>dance pop</td>\n",
       "      <td>2009</td>\n",
       "      <td>140</td>\n",
       "      <td>81</td>\n",
       "      <td>61</td>\n",
       "      <td>-6</td>\n",
       "      <td>23</td>\n",
       "      <td>23</td>\n",
       "      <td>203</td>\n",
       "      <td>0</td>\n",
       "      <td>6</td>\n",
       "      <td>1</td>\n",
       "      <td>70</td>\n",
       "    </tr>\n",
       "    <tr>\n",
       "      <th>1</th>\n",
       "      <td>My First Kiss (feat. Ke$ha)</td>\n",
       "      <td>3OH!3</td>\n",
       "      <td>dance pop</td>\n",
       "      <td>2010</td>\n",
       "      <td>138</td>\n",
       "      <td>89</td>\n",
       "      <td>68</td>\n",
       "      <td>-4</td>\n",
       "      <td>36</td>\n",
       "      <td>83</td>\n",
       "      <td>192</td>\n",
       "      <td>1</td>\n",
       "      <td>8</td>\n",
       "      <td>1</td>\n",
       "      <td>68</td>\n",
       "    </tr>\n",
       "    <tr>\n",
       "      <th>2</th>\n",
       "      <td>I Need A Dollar</td>\n",
       "      <td>Aloe Blacc</td>\n",
       "      <td>pop soul</td>\n",
       "      <td>2010</td>\n",
       "      <td>95</td>\n",
       "      <td>48</td>\n",
       "      <td>84</td>\n",
       "      <td>-7</td>\n",
       "      <td>9</td>\n",
       "      <td>96</td>\n",
       "      <td>243</td>\n",
       "      <td>20</td>\n",
       "      <td>3</td>\n",
       "      <td>2</td>\n",
       "      <td>72</td>\n",
       "    </tr>\n",
       "    <tr>\n",
       "      <th>3</th>\n",
       "      <td>Airplanes (feat. Hayley Williams of Paramore)</td>\n",
       "      <td>B.o.B</td>\n",
       "      <td>atl hip hop</td>\n",
       "      <td>2010</td>\n",
       "      <td>93</td>\n",
       "      <td>87</td>\n",
       "      <td>66</td>\n",
       "      <td>-4</td>\n",
       "      <td>4</td>\n",
       "      <td>38</td>\n",
       "      <td>180</td>\n",
       "      <td>11</td>\n",
       "      <td>12</td>\n",
       "      <td>2</td>\n",
       "      <td>80</td>\n",
       "    </tr>\n",
       "    <tr>\n",
       "      <th>4</th>\n",
       "      <td>Nothin' on You (feat. Bruno Mars)</td>\n",
       "      <td>B.o.B</td>\n",
       "      <td>atl hip hop</td>\n",
       "      <td>2010</td>\n",
       "      <td>104</td>\n",
       "      <td>85</td>\n",
       "      <td>69</td>\n",
       "      <td>-6</td>\n",
       "      <td>9</td>\n",
       "      <td>74</td>\n",
       "      <td>268</td>\n",
       "      <td>39</td>\n",
       "      <td>5</td>\n",
       "      <td>2</td>\n",
       "      <td>79</td>\n",
       "    </tr>\n",
       "  </tbody>\n",
       "</table>\n",
       "</div>"
      ],
      "text/plain": [
       "                                           title      artist        genre  \\\n",
       "0                  STARSTRUKK (feat. Katy Perry)       3OH!3    dance pop   \n",
       "1                    My First Kiss (feat. Ke$ha)       3OH!3    dance pop   \n",
       "2                                I Need A Dollar  Aloe Blacc     pop soul   \n",
       "3  Airplanes (feat. Hayley Williams of Paramore)       B.o.B  atl hip hop   \n",
       "4              Nothin' on You (feat. Bruno Mars)       B.o.B  atl hip hop   \n",
       "\n",
       "   year  bpm  nrgy  dnce  dB  live  val  dur  acous  spch  artist_type  \\\n",
       "0  2009  140    81    61  -6    23   23  203      0     6            1   \n",
       "1  2010  138    89    68  -4    36   83  192      1     8            1   \n",
       "2  2010   95    48    84  -7     9   96  243     20     3            2   \n",
       "3  2010   93    87    66  -4     4   38  180     11    12            2   \n",
       "4  2010  104    85    69  -6     9   74  268     39     5            2   \n",
       "\n",
       "   popularity  \n",
       "0          70  \n",
       "1          68  \n",
       "2          72  \n",
       "3          80  \n",
       "4          79  "
      ]
     },
     "execution_count": 705,
     "metadata": {},
     "output_type": "execute_result"
    }
   ],
   "source": [
    "# converting name of column top genre to genre\n",
    "spotify_df = spotify_df.rename(columns={'top genre': 'genre', 'pop': 'popularity'})\n",
    "spotify_df.head()"
   ]
  },
  {
   "cell_type": "code",
   "execution_count": 706,
   "metadata": {},
   "outputs": [
    {
     "data": {
      "text/plain": [
       "dance pop           361\n",
       "pop                  57\n",
       "atl hip hop          39\n",
       "art pop              37\n",
       "hip hop              21\n",
       "                   ... \n",
       "french shoegaze       1\n",
       "new french touch      1\n",
       "hip pop               1\n",
       "australian psych      1\n",
       "uk drill              1\n",
       "Name: genre, Length: 132, dtype: int64"
      ]
     },
     "execution_count": 706,
     "metadata": {},
     "output_type": "execute_result"
    }
   ],
   "source": [
    "spotify_df['genre'].value_counts()"
   ]
  },
  {
   "cell_type": "code",
   "execution_count": 707,
   "metadata": {},
   "outputs": [
    {
     "data": {
      "text/html": [
       "<div>\n",
       "<style scoped>\n",
       "    .dataframe tbody tr th:only-of-type {\n",
       "        vertical-align: middle;\n",
       "    }\n",
       "\n",
       "    .dataframe tbody tr th {\n",
       "        vertical-align: top;\n",
       "    }\n",
       "\n",
       "    .dataframe thead th {\n",
       "        text-align: right;\n",
       "    }\n",
       "</style>\n",
       "<table border=\"1\" class=\"dataframe\">\n",
       "  <thead>\n",
       "    <tr style=\"text-align: right;\">\n",
       "      <th></th>\n",
       "      <th>bpm</th>\n",
       "      <th>nrgy</th>\n",
       "      <th>dnce</th>\n",
       "      <th>dB</th>\n",
       "      <th>live</th>\n",
       "      <th>val</th>\n",
       "      <th>dur</th>\n",
       "      <th>acous</th>\n",
       "      <th>spch</th>\n",
       "      <th>artist_type</th>\n",
       "      <th>popularity</th>\n",
       "    </tr>\n",
       "  </thead>\n",
       "  <tbody>\n",
       "    <tr>\n",
       "      <th>0</th>\n",
       "      <td>140</td>\n",
       "      <td>81</td>\n",
       "      <td>61</td>\n",
       "      <td>-6</td>\n",
       "      <td>23</td>\n",
       "      <td>23</td>\n",
       "      <td>203</td>\n",
       "      <td>0</td>\n",
       "      <td>6</td>\n",
       "      <td>1</td>\n",
       "      <td>70</td>\n",
       "    </tr>\n",
       "    <tr>\n",
       "      <th>1</th>\n",
       "      <td>138</td>\n",
       "      <td>89</td>\n",
       "      <td>68</td>\n",
       "      <td>-4</td>\n",
       "      <td>36</td>\n",
       "      <td>83</td>\n",
       "      <td>192</td>\n",
       "      <td>1</td>\n",
       "      <td>8</td>\n",
       "      <td>1</td>\n",
       "      <td>68</td>\n",
       "    </tr>\n",
       "    <tr>\n",
       "      <th>2</th>\n",
       "      <td>95</td>\n",
       "      <td>48</td>\n",
       "      <td>84</td>\n",
       "      <td>-7</td>\n",
       "      <td>9</td>\n",
       "      <td>96</td>\n",
       "      <td>243</td>\n",
       "      <td>20</td>\n",
       "      <td>3</td>\n",
       "      <td>2</td>\n",
       "      <td>72</td>\n",
       "    </tr>\n",
       "    <tr>\n",
       "      <th>3</th>\n",
       "      <td>93</td>\n",
       "      <td>87</td>\n",
       "      <td>66</td>\n",
       "      <td>-4</td>\n",
       "      <td>4</td>\n",
       "      <td>38</td>\n",
       "      <td>180</td>\n",
       "      <td>11</td>\n",
       "      <td>12</td>\n",
       "      <td>2</td>\n",
       "      <td>80</td>\n",
       "    </tr>\n",
       "    <tr>\n",
       "      <th>4</th>\n",
       "      <td>104</td>\n",
       "      <td>85</td>\n",
       "      <td>69</td>\n",
       "      <td>-6</td>\n",
       "      <td>9</td>\n",
       "      <td>74</td>\n",
       "      <td>268</td>\n",
       "      <td>39</td>\n",
       "      <td>5</td>\n",
       "      <td>2</td>\n",
       "      <td>79</td>\n",
       "    </tr>\n",
       "    <tr>\n",
       "      <th>...</th>\n",
       "      <td>...</td>\n",
       "      <td>...</td>\n",
       "      <td>...</td>\n",
       "      <td>...</td>\n",
       "      <td>...</td>\n",
       "      <td>...</td>\n",
       "      <td>...</td>\n",
       "      <td>...</td>\n",
       "      <td>...</td>\n",
       "      <td>...</td>\n",
       "      <td>...</td>\n",
       "    </tr>\n",
       "    <tr>\n",
       "      <th>995</th>\n",
       "      <td>155</td>\n",
       "      <td>73</td>\n",
       "      <td>83</td>\n",
       "      <td>-4</td>\n",
       "      <td>12</td>\n",
       "      <td>45</td>\n",
       "      <td>313</td>\n",
       "      <td>1</td>\n",
       "      <td>22</td>\n",
       "      <td>2</td>\n",
       "      <td>86</td>\n",
       "    </tr>\n",
       "    <tr>\n",
       "      <th>996</th>\n",
       "      <td>80</td>\n",
       "      <td>50</td>\n",
       "      <td>55</td>\n",
       "      <td>-9</td>\n",
       "      <td>80</td>\n",
       "      <td>41</td>\n",
       "      <td>190</td>\n",
       "      <td>23</td>\n",
       "      <td>7</td>\n",
       "      <td>2</td>\n",
       "      <td>85</td>\n",
       "    </tr>\n",
       "    <tr>\n",
       "      <th>997</th>\n",
       "      <td>103</td>\n",
       "      <td>77</td>\n",
       "      <td>89</td>\n",
       "      <td>-5</td>\n",
       "      <td>9</td>\n",
       "      <td>46</td>\n",
       "      <td>177</td>\n",
       "      <td>1</td>\n",
       "      <td>7</td>\n",
       "      <td>2</td>\n",
       "      <td>68</td>\n",
       "    </tr>\n",
       "    <tr>\n",
       "      <th>998</th>\n",
       "      <td>138</td>\n",
       "      <td>58</td>\n",
       "      <td>53</td>\n",
       "      <td>-6</td>\n",
       "      <td>10</td>\n",
       "      <td>59</td>\n",
       "      <td>214</td>\n",
       "      <td>1</td>\n",
       "      <td>10</td>\n",
       "      <td>1</td>\n",
       "      <td>67</td>\n",
       "    </tr>\n",
       "    <tr>\n",
       "      <th>999</th>\n",
       "      <td>98</td>\n",
       "      <td>59</td>\n",
       "      <td>80</td>\n",
       "      <td>-7</td>\n",
       "      <td>13</td>\n",
       "      <td>18</td>\n",
       "      <td>200</td>\n",
       "      <td>2</td>\n",
       "      <td>15</td>\n",
       "      <td>2</td>\n",
       "      <td>75</td>\n",
       "    </tr>\n",
       "  </tbody>\n",
       "</table>\n",
       "<p>1000 rows × 11 columns</p>\n",
       "</div>"
      ],
      "text/plain": [
       "     bpm  nrgy  dnce  dB  live  val  dur  acous  spch  artist_type  popularity\n",
       "0    140    81    61  -6    23   23  203      0     6            1          70\n",
       "1    138    89    68  -4    36   83  192      1     8            1          68\n",
       "2     95    48    84  -7     9   96  243     20     3            2          72\n",
       "3     93    87    66  -4     4   38  180     11    12            2          80\n",
       "4    104    85    69  -6     9   74  268     39     5            2          79\n",
       "..   ...   ...   ...  ..   ...  ...  ...    ...   ...          ...         ...\n",
       "995  155    73    83  -4    12   45  313      1    22            2          86\n",
       "996   80    50    55  -9    80   41  190     23     7            2          85\n",
       "997  103    77    89  -5     9   46  177      1     7            2          68\n",
       "998  138    58    53  -6    10   59  214      1    10            1          67\n",
       "999   98    59    80  -7    13   18  200      2    15            2          75\n",
       "\n",
       "[1000 rows x 11 columns]"
      ]
     },
     "execution_count": 707,
     "metadata": {},
     "output_type": "execute_result"
    }
   ],
   "source": [
    "# getting columns from spotify_df from bpm to artist_type via loc\n",
    "spotify_features = spotify_df.loc[:,'bpm':'popularity']\n",
    "spotify_features"
   ]
  },
  {
   "cell_type": "code",
   "execution_count": 708,
   "metadata": {},
   "outputs": [
    {
     "name": "stdout",
     "output_type": "stream",
     "text": [
      "(1000, 9)\n",
      "(1000,)\n"
     ]
    }
   ],
   "source": [
    "# splitting dataframe into dependent and independent variables\n",
    "spotify_features_x = spotify_features.drop(['artist_type','popularity'], axis=1)\n",
    "spotify_features_y = spotify_features['popularity']\n",
    "\n",
    "print(spotify_features_x.shape)\n",
    "print(spotify_features_y.shape)"
   ]
  },
  {
   "cell_type": "code",
   "execution_count": 709,
   "metadata": {},
   "outputs": [
    {
     "data": {
      "image/png": "[encoded data removed]",
      "text/plain": [
       "<Figure size 432x288 with 1 Axes>"
      ]
     },
     "metadata": {
      "needs_background": "light"
     },
     "output_type": "display_data"
    }
   ],
   "source": [
    "# checking relation of bpm with the popularity\n",
    "plt.scatter(spotify_features.bpm, spotify_features.popularity, color='red')\n",
    "plt.xlabel('Beats per Minute')\n",
    "plt.ylabel('Popularity')\n",
    "plt.show()\n",
    "\n"
   ]
  },
  {
   "cell_type": "code",
   "execution_count": 710,
   "metadata": {},
   "outputs": [
    {
     "data": {
      "image/png": "[encoded data removed]",
      "text/plain": [
       "<Figure size 432x288 with 1 Axes>"
      ]
     },
     "metadata": {
      "needs_background": "light"
     },
     "output_type": "display_data"
    }
   ],
   "source": [
    "# checking relation of energy with the popularity\n",
    "plt.scatter(spotify_features.nrgy, spotify_features.popularity, color='red')\n",
    "plt.xlabel('Energy')\n",
    "plt.ylabel('Popularity')\n",
    "plt.show()\n"
   ]
  },
  {
   "cell_type": "code",
   "execution_count": 711,
   "metadata": {},
   "outputs": [
    {
     "data": {
      "image/png": "[encoded data removed]",
      "text/plain": [
       "<Figure size 432x288 with 1 Axes>"
      ]
     },
     "metadata": {
      "needs_background": "light"
     },
     "output_type": "display_data"
    }
   ],
   "source": [
    "# checking relation of bpm with the popularity\n",
    "plt.scatter(spotify_features.bpm, spotify_features.popularity, color='red')\n",
    "plt.xlabel('Beats per Minute')\n",
    "plt.ylabel('Popularity')\n",
    "plt.show()\n"
   ]
  },
  {
   "cell_type": "code",
   "execution_count": 712,
   "metadata": {},
   "outputs": [
    {
     "data": {
      "image/png": "[encoded data removed]",
      "text/plain": [
       "<Figure size 432x288 with 1 Axes>"
      ]
     },
     "metadata": {
      "needs_background": "light"
     },
     "output_type": "display_data"
    }
   ],
   "source": [
    "# checking relation of danceability with the popularity\n",
    "plt.scatter(spotify_features.dnce, spotify_features.popularity, color='red')\n",
    "plt.xlabel('Danceability')\n",
    "plt.ylabel('Popularity')\n",
    "plt.show()"
   ]
  },
  {
   "cell_type": "code",
   "execution_count": 713,
   "metadata": {},
   "outputs": [
    {
     "data": {
      "image/png": "[encoded data removed]",
      "text/plain": [
       "<Figure size 432x288 with 1 Axes>"
      ]
     },
     "metadata": {
      "needs_background": "light"
     },
     "output_type": "display_data"
    }
   ],
   "source": [
    "# converting negative decibel value to positive\n",
    "# spotify_features['dB'] = np.abs(spotify_features['dB'])\n",
    "# checking relation of decibels with the popularity\n",
    "plt.scatter(spotify_features.dB, spotify_features.popularity, color='red')\n",
    "plt.xlabel('Decibel Level')\n",
    "plt.ylabel('Popularity')\n",
    "plt.show()"
   ]
  },
  {
   "cell_type": "code",
   "execution_count": 714,
   "metadata": {},
   "outputs": [
    {
     "data": {
      "image/png": "[encoded data removed]",
      "text/plain": [
       "<Figure size 432x288 with 1 Axes>"
      ]
     },
     "metadata": {
      "needs_background": "light"
     },
     "output_type": "display_data"
    }
   ],
   "source": [
    "# checking relation of live with the popularity\n",
    "plt.scatter(spotify_features.live, spotify_features.popularity, color='red')\n",
    "plt.xlabel('Likely to be a Live Recording')\n",
    "plt.ylabel('Popularity')\n",
    "plt.show()"
   ]
  },
  {
   "cell_type": "code",
   "execution_count": 715,
   "metadata": {},
   "outputs": [
    {
     "data": {
      "image/png": "[encoded data removed]",
      "text/plain": [
       "<Figure size 432x288 with 1 Axes>"
      ]
     },
     "metadata": {
      "needs_background": "light"
     },
     "output_type": "display_data"
    }
   ],
   "source": [
    "# checking relation of val with the popularity\n",
    "plt.scatter(spotify_features.val, spotify_features.popularity, color='red')\n",
    "plt.xlabel('Positive Mood of the Song')\n",
    "plt.ylabel('Popularity')\n",
    "plt.show()"
   ]
  },
  {
   "cell_type": "code",
   "execution_count": 716,
   "metadata": {},
   "outputs": [
    {
     "data": {
      "image/png": "[encoded data removed]",
      "text/plain": [
       "<Figure size 432x288 with 1 Axes>"
      ]
     },
     "metadata": {
      "needs_background": "light"
     },
     "output_type": "display_data"
    }
   ],
   "source": [
    "# checking relation of Duration with the popularity\n",
    "plt.scatter(spotify_features.dur, spotify_features.popularity, color='red')\n",
    "plt.xlabel('Duration of the song')\n",
    "plt.ylabel('Popularity')\n",
    "plt.show()"
   ]
  },
  {
   "cell_type": "code",
   "execution_count": 717,
   "metadata": {},
   "outputs": [
    {
     "data": {
      "image/png": "[encoded data removed]",
      "text/plain": [
       "<Figure size 432x288 with 1 Axes>"
      ]
     },
     "metadata": {
      "needs_background": "light"
     },
     "output_type": "display_data"
    }
   ],
   "source": [
    "# checking relation of Acoustics with the popularity\n",
    "plt.scatter(spotify_features.acous, spotify_features.popularity, color='red')\n",
    "plt.xlabel('Acoustics')\n",
    "plt.ylabel('Popularity')\n",
    "plt.show()"
   ]
  },
  {
   "cell_type": "code",
   "execution_count": 718,
   "metadata": {},
   "outputs": [
    {
     "data": {
      "image/png": "[encoded data removed]",
      "text/plain": [
       "<Figure size 432x288 with 1 Axes>"
      ]
     },
     "metadata": {
      "needs_background": "light"
     },
     "output_type": "display_data"
    }
   ],
   "source": [
    "# checking relation of Duration with the popularity\n",
    "plt.scatter(spotify_features.spch, spotify_features.popularity, color='red')\n",
    "plt.xlabel('Spoken Word')\n",
    "plt.ylabel('Popularity')\n",
    "plt.show()"
   ]
  },
  {
   "cell_type": "code",
   "execution_count": 719,
   "metadata": {},
   "outputs": [
    {
     "data": {
      "text/plain": [
       "[Text(0, 0, 'Band/Group'),\n",
       " Text(1, 0, 'Duo'),\n",
       " Text(2, 0, 'Solo'),\n",
       " Text(3, 0, 'Trio')]"
      ]
     },
     "execution_count": 719,
     "metadata": {},
     "output_type": "execute_result"
    },
    {
     "data": {
      "image/png": "[encoded data removed]",
      "text/plain": [
       "<Figure size 432x288 with 1 Axes>"
      ]
     },
     "metadata": {
      "needs_background": "light"
     },
     "output_type": "display_data"
    }
   ],
   "source": [
    "# # creating boxplot based on artist_type\n",
    "ax = sns.boxplot(x='artist_type', y='popularity', data=spotify_df)\n",
    "ax.set_xticklabels(['Band/Group','Duo', 'Solo', 'Trio'])\n"
   ]
  },
  {
   "cell_type": "code",
   "execution_count": 720,
   "metadata": {},
   "outputs": [
    {
     "data": {
      "text/html": [
       "<div>\n",
       "<style scoped>\n",
       "    .dataframe tbody tr th:only-of-type {\n",
       "        vertical-align: middle;\n",
       "    }\n",
       "\n",
       "    .dataframe tbody tr th {\n",
       "        vertical-align: top;\n",
       "    }\n",
       "\n",
       "    .dataframe thead th {\n",
       "        text-align: right;\n",
       "    }\n",
       "</style>\n",
       "<table border=\"1\" class=\"dataframe\">\n",
       "  <thead>\n",
       "    <tr style=\"text-align: right;\">\n",
       "      <th></th>\n",
       "      <th>bpm</th>\n",
       "      <th>nrgy</th>\n",
       "      <th>dnce</th>\n",
       "      <th>dB</th>\n",
       "      <th>live</th>\n",
       "      <th>val</th>\n",
       "      <th>dur</th>\n",
       "      <th>acous</th>\n",
       "      <th>spch</th>\n",
       "      <th>artist_type</th>\n",
       "      <th>popularity</th>\n",
       "    </tr>\n",
       "  </thead>\n",
       "  <tbody>\n",
       "    <tr>\n",
       "      <th>bpm</th>\n",
       "      <td>1.000000</td>\n",
       "      <td>0.118557</td>\n",
       "      <td>-0.111660</td>\n",
       "      <td>0.089568</td>\n",
       "      <td>0.014672</td>\n",
       "      <td>0.021128</td>\n",
       "      <td>-0.016536</td>\n",
       "      <td>-0.124614</td>\n",
       "      <td>0.149368</td>\n",
       "      <td>0.003363</td>\n",
       "      <td>-0.025058</td>\n",
       "    </tr>\n",
       "    <tr>\n",
       "      <th>nrgy</th>\n",
       "      <td>0.118557</td>\n",
       "      <td>1.000000</td>\n",
       "      <td>-0.129279</td>\n",
       "      <td>0.713428</td>\n",
       "      <td>0.184094</td>\n",
       "      <td>0.372866</td>\n",
       "      <td>-0.049662</td>\n",
       "      <td>-0.504083</td>\n",
       "      <td>-0.099790</td>\n",
       "      <td>-0.127276</td>\n",
       "      <td>-0.234011</td>\n",
       "    </tr>\n",
       "    <tr>\n",
       "      <th>dnce</th>\n",
       "      <td>-0.111660</td>\n",
       "      <td>-0.129279</td>\n",
       "      <td>1.000000</td>\n",
       "      <td>-0.040538</td>\n",
       "      <td>-0.113324</td>\n",
       "      <td>0.264781</td>\n",
       "      <td>-0.168483</td>\n",
       "      <td>-0.075999</td>\n",
       "      <td>0.161734</td>\n",
       "      <td>0.192161</td>\n",
       "      <td>0.093176</td>\n",
       "    </tr>\n",
       "    <tr>\n",
       "      <th>dB</th>\n",
       "      <td>0.089568</td>\n",
       "      <td>0.713428</td>\n",
       "      <td>-0.040538</td>\n",
       "      <td>1.000000</td>\n",
       "      <td>0.128134</td>\n",
       "      <td>0.317128</td>\n",
       "      <td>-0.082541</td>\n",
       "      <td>-0.392393</td>\n",
       "      <td>-0.165838</td>\n",
       "      <td>-0.030464</td>\n",
       "      <td>-0.145403</td>\n",
       "    </tr>\n",
       "    <tr>\n",
       "      <th>live</th>\n",
       "      <td>0.014672</td>\n",
       "      <td>0.184094</td>\n",
       "      <td>-0.113324</td>\n",
       "      <td>0.128134</td>\n",
       "      <td>1.000000</td>\n",
       "      <td>0.028092</td>\n",
       "      <td>-0.003094</td>\n",
       "      <td>-0.116081</td>\n",
       "      <td>0.043516</td>\n",
       "      <td>-0.017186</td>\n",
       "      <td>-0.137305</td>\n",
       "    </tr>\n",
       "    <tr>\n",
       "      <th>val</th>\n",
       "      <td>0.021128</td>\n",
       "      <td>0.372866</td>\n",
       "      <td>0.264781</td>\n",
       "      <td>0.317128</td>\n",
       "      <td>0.028092</td>\n",
       "      <td>1.000000</td>\n",
       "      <td>-0.185863</td>\n",
       "      <td>-0.164048</td>\n",
       "      <td>0.013192</td>\n",
       "      <td>-0.080910</td>\n",
       "      <td>-0.003752</td>\n",
       "    </tr>\n",
       "    <tr>\n",
       "      <th>dur</th>\n",
       "      <td>-0.016536</td>\n",
       "      <td>-0.049662</td>\n",
       "      <td>-0.168483</td>\n",
       "      <td>-0.082541</td>\n",
       "      <td>-0.003094</td>\n",
       "      <td>-0.185863</td>\n",
       "      <td>1.000000</td>\n",
       "      <td>0.026474</td>\n",
       "      <td>-0.035451</td>\n",
       "      <td>-0.044714</td>\n",
       "      <td>0.009219</td>\n",
       "    </tr>\n",
       "    <tr>\n",
       "      <th>acous</th>\n",
       "      <td>-0.124614</td>\n",
       "      <td>-0.504083</td>\n",
       "      <td>-0.075999</td>\n",
       "      <td>-0.392393</td>\n",
       "      <td>-0.116081</td>\n",
       "      <td>-0.164048</td>\n",
       "      <td>0.026474</td>\n",
       "      <td>1.000000</td>\n",
       "      <td>-0.010204</td>\n",
       "      <td>0.057935</td>\n",
       "      <td>0.128195</td>\n",
       "    </tr>\n",
       "    <tr>\n",
       "      <th>spch</th>\n",
       "      <td>0.149368</td>\n",
       "      <td>-0.099790</td>\n",
       "      <td>0.161734</td>\n",
       "      <td>-0.165838</td>\n",
       "      <td>0.043516</td>\n",
       "      <td>0.013192</td>\n",
       "      <td>-0.035451</td>\n",
       "      <td>-0.010204</td>\n",
       "      <td>1.000000</td>\n",
       "      <td>0.189485</td>\n",
       "      <td>0.061441</td>\n",
       "    </tr>\n",
       "    <tr>\n",
       "      <th>artist_type</th>\n",
       "      <td>0.003363</td>\n",
       "      <td>-0.127276</td>\n",
       "      <td>0.192161</td>\n",
       "      <td>-0.030464</td>\n",
       "      <td>-0.017186</td>\n",
       "      <td>-0.080910</td>\n",
       "      <td>-0.044714</td>\n",
       "      <td>0.057935</td>\n",
       "      <td>0.189485</td>\n",
       "      <td>1.000000</td>\n",
       "      <td>-0.007490</td>\n",
       "    </tr>\n",
       "    <tr>\n",
       "      <th>popularity</th>\n",
       "      <td>-0.025058</td>\n",
       "      <td>-0.234011</td>\n",
       "      <td>0.093176</td>\n",
       "      <td>-0.145403</td>\n",
       "      <td>-0.137305</td>\n",
       "      <td>-0.003752</td>\n",
       "      <td>0.009219</td>\n",
       "      <td>0.128195</td>\n",
       "      <td>0.061441</td>\n",
       "      <td>-0.007490</td>\n",
       "      <td>1.000000</td>\n",
       "    </tr>\n",
       "  </tbody>\n",
       "</table>\n",
       "</div>"
      ],
      "text/plain": [
       "                  bpm      nrgy      dnce        dB      live       val  \\\n",
       "bpm          1.000000  0.118557 -0.111660  0.089568  0.014672  0.021128   \n",
       "nrgy         0.118557  1.000000 -0.129279  0.713428  0.184094  0.372866   \n",
       "dnce        -0.111660 -0.129279  1.000000 -0.040538 -0.113324  0.264781   \n",
       "dB           0.089568  0.713428 -0.040538  1.000000  0.128134  0.317128   \n",
       "live         0.014672  0.184094 -0.113324  0.128134  1.000000  0.028092   \n",
       "val          0.021128  0.372866  0.264781  0.317128  0.028092  1.000000   \n",
       "dur         -0.016536 -0.049662 -0.168483 -0.082541 -0.003094 -0.185863   \n",
       "acous       -0.124614 -0.504083 -0.075999 -0.392393 -0.116081 -0.164048   \n",
       "spch         0.149368 -0.099790  0.161734 -0.165838  0.043516  0.013192   \n",
       "artist_type  0.003363 -0.127276  0.192161 -0.030464 -0.017186 -0.080910   \n",
       "popularity  -0.025058 -0.234011  0.093176 -0.145403 -0.137305 -0.003752   \n",
       "\n",
       "                  dur     acous      spch  artist_type  popularity  \n",
       "bpm         -0.016536 -0.124614  0.149368     0.003363   -0.025058  \n",
       "nrgy        -0.049662 -0.504083 -0.099790    -0.127276   -0.234011  \n",
       "dnce        -0.168483 -0.075999  0.161734     0.192161    0.093176  \n",
       "dB          -0.082541 -0.392393 -0.165838    -0.030464   -0.145403  \n",
       "live        -0.003094 -0.116081  0.043516    -0.017186   -0.137305  \n",
       "val         -0.185863 -0.164048  0.013192    -0.080910   -0.003752  \n",
       "dur          1.000000  0.026474 -0.035451    -0.044714    0.009219  \n",
       "acous        0.026474  1.000000 -0.010204     0.057935    0.128195  \n",
       "spch        -0.035451 -0.010204  1.000000     0.189485    0.061441  \n",
       "artist_type -0.044714  0.057935  0.189485     1.000000   -0.007490  \n",
       "popularity   0.009219  0.128195  0.061441    -0.007490    1.000000  "
      ]
     },
     "execution_count": 720,
     "metadata": {},
     "output_type": "execute_result"
    }
   ],
   "source": [
    "# checking correlation table\n",
    "spotify_features.head()\n",
    "spotify_features.corr(method='pearson')"
   ]
  },
  {
   "cell_type": "code",
   "execution_count": 721,
   "metadata": {},
   "outputs": [
    {
     "name": "stdout",
     "output_type": "stream",
     "text": [
      "   bpm  nrgy  dnce  dB  live  val  dur  acous  spch\n",
      "0  140    81    61  -6    23   23  203      0     6\n",
      "1  138    89    68  -4    36   83  192      1     8\n",
      "2   95    48    84  -7     9   96  243     20     3\n",
      "3   93    87    66  -4     4   38  180     11    12\n",
      "4  104    85    69  -6     9   74  268     39     5\n",
      "0    70\n",
      "1    68\n",
      "2    72\n",
      "3    80\n",
      "4    79\n",
      "Name: popularity, dtype: int64\n"
     ]
    },
    {
     "data": {
      "text/plain": [
       "array([70, 68, 72, 80, 79])"
      ]
     },
     "execution_count": 721,
     "metadata": {},
     "output_type": "execute_result"
    }
   ],
   "source": [
    "print(spotify_features_x.head())\n",
    "spotify_features_x_np = np.asarray(spotify_features[['bpm', 'dnce', 'nrgy', 'dB', 'live', 'val', 'acous', 'spch']])\n",
    "spotify_features_x_np[0:5]\n",
    "\n",
    "print(spotify_features_y.head())\n",
    "spotify_features_y_np = np.asarray(spotify_features['popularity'])\n",
    "spotify_features_y_np[0:5]"
   ]
  },
  {
   "cell_type": "code",
   "execution_count": 722,
   "metadata": {},
   "outputs": [],
   "source": [
    "from sklearn import preprocessing\n",
    "spotify_features_X = preprocessing.MinMaxScaler().fit_transform(spotify_features_x_np)\n",
    "spotify_features_Y = preprocessing.MinMaxScaler().fit_transform(spotify_features_y_np.reshape(-1, 1))\n"
   ]
  },
  {
   "cell_type": "code",
   "execution_count": 723,
   "metadata": {},
   "outputs": [
    {
     "name": "stdout",
     "output_type": "stream",
     "text": [
      "(800, 8) (200, 8)\n",
      "(800, 1) (200, 1)\n",
      "[[0.18439716 0.67532468 0.75       0.70588235 0.18518519 0.17204301\n",
      "  0.17346939 0.09803922]\n",
      " [0.09929078 0.2987013  0.7173913  0.82352941 0.11111111 0.60215054\n",
      "  0.21428571 0.15686275]\n",
      " [0.26241135 0.62337662 0.68478261 0.64705882 0.07407407 0.17204301\n",
      "  0.31632653 0.17647059]\n",
      " [0.24822695 0.5974026  0.82608696 0.76470588 0.12345679 0.38709677\n",
      "  0.06122449 0.11764706]\n",
      " [0.44680851 0.71428571 0.38043478 0.58823529 0.18518519 0.35483871\n",
      "  0.81632653 0.15686275]]\n"
     ]
    }
   ],
   "source": [
    "from sklearn.model_selection import train_test_split\n",
    "x_train, x_test, y_train, y_test = train_test_split(spotify_features_X, spotify_features_Y, test_size=0.2, random_state=42)\n",
    "print(x_train.shape, x_test.shape)\n",
    "print(y_train.shape, y_test.shape)\n",
    "print(x_train[0:5])"
   ]
  },
  {
   "cell_type": "markdown",
   "metadata": {},
   "source": [
    "Using Multi Linear Regression"
   ]
  },
  {
   "cell_type": "code",
   "execution_count": 724,
   "metadata": {},
   "outputs": [
    {
     "data": {
      "text/plain": [
       "LinearRegression()"
      ]
     },
     "execution_count": 724,
     "metadata": {},
     "output_type": "execute_result"
    }
   ],
   "source": [
    "from sklearn.linear_model import LinearRegression\n",
    "lr = LinearRegression()\n",
    "lr"
   ]
  },
  {
   "cell_type": "code",
   "execution_count": 725,
   "metadata": {},
   "outputs": [
    {
     "name": "stdout",
     "output_type": "stream",
     "text": [
      "[0.73373669]\n",
      "[[ 0.00301699  0.03557822 -0.22515371  0.06863781 -0.07499739  0.04527591\n",
      "   0.01457456  0.03067535]]\n"
     ]
    }
   ],
   "source": [
    "lr.fit(x_train, y_train)\n",
    "print(lr.intercept_)\n",
    "print(lr.coef_)"
   ]
  },
  {
   "cell_type": "code",
   "execution_count": 726,
   "metadata": {},
   "outputs": [
    {
     "name": "stdout",
     "output_type": "stream",
     "text": [
      "[[0.8       ]\n",
      " [0.86666667]\n",
      " [0.83333333]\n",
      " [0.68333333]\n",
      " [0.71666667]]\n"
     ]
    },
    {
     "data": {
      "text/plain": [
       "array([[0.65647735],\n",
       "       [0.62332408],\n",
       "       [0.70999827],\n",
       "       [0.60549389],\n",
       "       [0.72586189]])"
      ]
     },
     "execution_count": 726,
     "metadata": {},
     "output_type": "execute_result"
    }
   ],
   "source": [
    "yhat_spotify_pop_lr = lr.predict(x_test)\n",
    "print(y_test[0:5])\n",
    "yhat_spotify_pop_lr[0:5]"
   ]
  },
  {
   "cell_type": "code",
   "execution_count": 727,
   "metadata": {},
   "outputs": [
    {
     "name": "stdout",
     "output_type": "stream",
     "text": [
      "Residual sum of squares: 0.02\n",
      "Root Mean Square Error: 0.14\n",
      "R2 score: 0.07\n"
     ]
    }
   ],
   "source": [
    "print('Residual sum of squares: %.2f' % np.mean((y_test - yhat_spotify_pop_lr) ** 2))\n",
    "print('Root Mean Square Error: %.2f' % np.sqrt(np.mean((y_test - yhat_spotify_pop_lr) ** 2)))\n",
    "print('R2 score: %.2f' % r2_score(y_test, yhat_spotify_pop_lr))\n"
   ]
  },
  {
   "cell_type": "markdown",
   "metadata": {},
   "source": [
    "Using Polynomial Regression"
   ]
  },
  {
   "cell_type": "code",
   "execution_count": 728,
   "metadata": {},
   "outputs": [],
   "source": [
    "from sklearn.preprocessing import PolynomialFeatures\n",
    "from sklearn import linear_model\n",
    "poly = PolynomialFeatures(degree=2)\n",
    "train_spotify_pop_poly = poly.fit_transform(x_train)\n"
   ]
  },
  {
   "cell_type": "code",
   "execution_count": 729,
   "metadata": {},
   "outputs": [
    {
     "name": "stdout",
     "output_type": "stream",
     "text": [
      "[0.85921841]\n",
      "[[-3.25268633e-16  4.87127442e-02  3.69705846e-01  4.38078775e-01\n",
      "  -5.19454220e-01 -2.83022786e-01 -5.42290816e-01 -3.81793099e-01\n",
      "  -2.14624791e-01  1.40204045e-02 -8.53342192e-02 -1.66351844e-01\n",
      "  -9.45315939e-02  1.76401540e-01  2.50016385e-01 -2.66231569e-02\n",
      "   9.36626885e-02 -4.49435292e-01 -3.33098577e-01  4.73999001e-01\n",
      "   1.34328596e-01  1.48028435e-01 -4.04578317e-02  1.65116670e-01\n",
      "  -3.43887290e-01 -2.71021094e-01  4.77917825e-02  4.91232626e-01\n",
      "  -1.75820612e-01  1.71082560e-01  2.40992224e-01 -1.68691313e-01\n",
      "   2.56064192e-01  4.38921274e-01 -8.36146196e-02  2.04327541e-01\n",
      "  -1.85882732e-01  4.29057283e-01  4.09041957e-01 -7.47880629e-02\n",
      "   2.21977747e-02 -2.06073046e-01  1.91009033e-01  2.52408190e-01\n",
      "   7.93882967e-02]]\n"
     ]
    }
   ],
   "source": [
    "clf = linear_model.LinearRegression()\n",
    "clf.fit(train_spotify_pop_poly, y_train)\n",
    "print(clf.intercept_)\n",
    "print(clf.coef_)"
   ]
  },
  {
   "cell_type": "code",
   "execution_count": 730,
   "metadata": {},
   "outputs": [
    {
     "name": "stdout",
     "output_type": "stream",
     "text": [
      "Mean Square Error: 0.02\n",
      "Root Mean Square Error: 0.14\n",
      "R2 score: 0.06\n"
     ]
    }
   ],
   "source": [
    "from sklearn.metrics import r2_score\n",
    "x_test_poly = poly.fit_transform(x_test)\n",
    "yhat_test_spotify_pop_poly_lr = clf.predict(x_test_poly)\n",
    "# print(yhat_test_spotify_pop_poly_lr)\n",
    "print('Mean Square Error: %.2f' % np.mean((y_test - yhat_test_spotify_pop_poly_lr) ** 2))\n",
    "print('Root Mean Square Error: %.2f' % np.sqrt(np.mean((y_test - yhat_test_spotify_pop_poly_lr) ** 2)))\n",
    "print('R2 score: %.2f' % r2_score(y_test, yhat_test_spotify_pop_poly_lr))"
   ]
  }
 ],
 "metadata": {
  "interpreter": {
   "hash": "aee8b7b246df8f9039afb4144a1f6fd8d2ca17a180786b69acc140d282b71a49"
  },
  "kernelspec": {
   "display_name": "Python 3.9.8 64-bit",
   "language": "python",
   "name": "python3"
  },
  "language_info": {
   "codemirror_mode": {
    "name": "ipython",
    "version": 3
   },
   "file_extension": ".py",
   "mimetype": "text/x-python",
   "name": "python",
   "nbconvert_exporter": "python",
   "pygments_lexer": "ipython3",
   "version": "3.10.4"
  },
  "orig_nbformat": 4
 },
 "nbformat": 4,
 "nbformat_minor": 2
}
