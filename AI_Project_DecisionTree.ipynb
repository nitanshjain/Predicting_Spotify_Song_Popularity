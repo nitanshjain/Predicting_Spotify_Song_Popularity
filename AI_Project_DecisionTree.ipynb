{
 "cells": [
  {
   "cell_type": "markdown",
   "metadata": {},
   "source": [
    "## AI Project UCS415 \n",
    "#### Finding Popularity of Spotify Songs\n",
    "Predicting which songs will have a popularity score over 75 using Decision Tree \n",
    "\n",
    "Nitansh Jain  102017025"
   ]
  },
  {
   "cell_type": "code",
   "execution_count": 474,
   "metadata": {},
   "outputs": [],
   "source": [
    "import pandas as pd\n",
    "import numpy as np\n",
    "import matplotlib.pyplot as plt\n",
    "import seaborn as sns"
   ]
  },
  {
   "cell_type": "code",
   "execution_count": 475,
   "metadata": {},
   "outputs": [
    {
     "data": {
      "text/html": [
       "<div>\n",
       "<style scoped>\n",
       "    .dataframe tbody tr th:only-of-type {\n",
       "        vertical-align: middle;\n",
       "    }\n",
       "\n",
       "    .dataframe tbody tr th {\n",
       "        vertical-align: top;\n",
       "    }\n",
       "\n",
       "    .dataframe thead th {\n",
       "        text-align: right;\n",
       "    }\n",
       "</style>\n",
       "<table border=\"1\" class=\"dataframe\">\n",
       "  <thead>\n",
       "    <tr style=\"text-align: right;\">\n",
       "      <th></th>\n",
       "      <th>title</th>\n",
       "      <th>artist</th>\n",
       "      <th>top genre</th>\n",
       "      <th>year</th>\n",
       "      <th>added</th>\n",
       "      <th>bpm</th>\n",
       "      <th>nrgy</th>\n",
       "      <th>dnce</th>\n",
       "      <th>dB</th>\n",
       "      <th>live</th>\n",
       "      <th>val</th>\n",
       "      <th>dur</th>\n",
       "      <th>acous</th>\n",
       "      <th>spch</th>\n",
       "      <th>top year</th>\n",
       "      <th>artist_type</th>\n",
       "      <th>pop</th>\n",
       "    </tr>\n",
       "  </thead>\n",
       "  <tbody>\n",
       "    <tr>\n",
       "      <th>0</th>\n",
       "      <td>STARSTRUKK (feat. Katy Perry)</td>\n",
       "      <td>3OH!3</td>\n",
       "      <td>dance pop</td>\n",
       "      <td>2009</td>\n",
       "      <td>2022‑02‑17</td>\n",
       "      <td>140</td>\n",
       "      <td>81</td>\n",
       "      <td>61</td>\n",
       "      <td>-6</td>\n",
       "      <td>23</td>\n",
       "      <td>23</td>\n",
       "      <td>203</td>\n",
       "      <td>0</td>\n",
       "      <td>6</td>\n",
       "      <td>2010</td>\n",
       "      <td>Duo</td>\n",
       "      <td>70</td>\n",
       "    </tr>\n",
       "    <tr>\n",
       "      <th>1</th>\n",
       "      <td>My First Kiss (feat. Ke$ha)</td>\n",
       "      <td>3OH!3</td>\n",
       "      <td>dance pop</td>\n",
       "      <td>2010</td>\n",
       "      <td>2022‑02‑17</td>\n",
       "      <td>138</td>\n",
       "      <td>89</td>\n",
       "      <td>68</td>\n",
       "      <td>-4</td>\n",
       "      <td>36</td>\n",
       "      <td>83</td>\n",
       "      <td>192</td>\n",
       "      <td>1</td>\n",
       "      <td>8</td>\n",
       "      <td>2010</td>\n",
       "      <td>Duo</td>\n",
       "      <td>68</td>\n",
       "    </tr>\n",
       "    <tr>\n",
       "      <th>2</th>\n",
       "      <td>I Need A Dollar</td>\n",
       "      <td>Aloe Blacc</td>\n",
       "      <td>pop soul</td>\n",
       "      <td>2010</td>\n",
       "      <td>2022‑02‑17</td>\n",
       "      <td>95</td>\n",
       "      <td>48</td>\n",
       "      <td>84</td>\n",
       "      <td>-7</td>\n",
       "      <td>9</td>\n",
       "      <td>96</td>\n",
       "      <td>243</td>\n",
       "      <td>20</td>\n",
       "      <td>3</td>\n",
       "      <td>2010</td>\n",
       "      <td>Solo</td>\n",
       "      <td>72</td>\n",
       "    </tr>\n",
       "    <tr>\n",
       "      <th>3</th>\n",
       "      <td>Airplanes (feat. Hayley Williams of Paramore)</td>\n",
       "      <td>B.o.B</td>\n",
       "      <td>atl hip hop</td>\n",
       "      <td>2010</td>\n",
       "      <td>2022‑02‑17</td>\n",
       "      <td>93</td>\n",
       "      <td>87</td>\n",
       "      <td>66</td>\n",
       "      <td>-4</td>\n",
       "      <td>4</td>\n",
       "      <td>38</td>\n",
       "      <td>180</td>\n",
       "      <td>11</td>\n",
       "      <td>12</td>\n",
       "      <td>2010</td>\n",
       "      <td>Solo</td>\n",
       "      <td>80</td>\n",
       "    </tr>\n",
       "    <tr>\n",
       "      <th>4</th>\n",
       "      <td>Nothin' on You (feat. Bruno Mars)</td>\n",
       "      <td>B.o.B</td>\n",
       "      <td>atl hip hop</td>\n",
       "      <td>2010</td>\n",
       "      <td>2022‑02‑17</td>\n",
       "      <td>104</td>\n",
       "      <td>85</td>\n",
       "      <td>69</td>\n",
       "      <td>-6</td>\n",
       "      <td>9</td>\n",
       "      <td>74</td>\n",
       "      <td>268</td>\n",
       "      <td>39</td>\n",
       "      <td>5</td>\n",
       "      <td>2010</td>\n",
       "      <td>Solo</td>\n",
       "      <td>79</td>\n",
       "    </tr>\n",
       "  </tbody>\n",
       "</table>\n",
       "</div>"
      ],
      "text/plain": [
       "                                           title      artist    top genre  \\\n",
       "0                  STARSTRUKK (feat. Katy Perry)       3OH!3    dance pop   \n",
       "1                    My First Kiss (feat. Ke$ha)       3OH!3    dance pop   \n",
       "2                                I Need A Dollar  Aloe Blacc     pop soul   \n",
       "3  Airplanes (feat. Hayley Williams of Paramore)       B.o.B  atl hip hop   \n",
       "4              Nothin' on You (feat. Bruno Mars)       B.o.B  atl hip hop   \n",
       "\n",
       "   year       added  bpm  nrgy  dnce  dB  live  val  dur  acous  spch  \\\n",
       "0  2009  2022‑02‑17  140    81    61  -6    23   23  203      0     6   \n",
       "1  2010  2022‑02‑17  138    89    68  -4    36   83  192      1     8   \n",
       "2  2010  2022‑02‑17   95    48    84  -7     9   96  243     20     3   \n",
       "3  2010  2022‑02‑17   93    87    66  -4     4   38  180     11    12   \n",
       "4  2010  2022‑02‑17  104    85    69  -6     9   74  268     39     5   \n",
       "\n",
       "   top year artist_type  pop  \n",
       "0      2010         Duo   70  \n",
       "1      2010         Duo   68  \n",
       "2      2010        Solo   72  \n",
       "3      2010        Solo   80  \n",
       "4      2010        Solo   79  "
      ]
     },
     "execution_count": 475,
     "metadata": {},
     "output_type": "execute_result"
    }
   ],
   "source": [
    "spotify_df = pd.read_csv('spotify_data.csv')\n",
    "spotify_df.head()"
   ]
  },
  {
   "cell_type": "code",
   "execution_count": 476,
   "metadata": {},
   "outputs": [
    {
     "name": "stdout",
     "output_type": "stream",
     "text": [
      "Solo          748\n",
      "Band/Group    168\n",
      "Duo            70\n",
      "Trio           13\n",
      "Name: artist_type, dtype: int64\n",
      "2    748\n",
      "0    168\n",
      "1     70\n",
      "3     13\n",
      "Name: artist_type, dtype: int64\n"
     ]
    }
   ],
   "source": [
    "# converting artist type column values to a number [0,1,2]\n",
    "print(spotify_df['artist_type'].value_counts())\n",
    "spotify_df['artist_type'] = spotify_df['artist_type'].astype('category').cat.codes\n",
    "print(spotify_df['artist_type'].value_counts())"
   ]
  },
  {
   "cell_type": "code",
   "execution_count": 477,
   "metadata": {},
   "outputs": [
    {
     "data": {
      "text/html": [
       "<div>\n",
       "<style scoped>\n",
       "    .dataframe tbody tr th:only-of-type {\n",
       "        vertical-align: middle;\n",
       "    }\n",
       "\n",
       "    .dataframe tbody tr th {\n",
       "        vertical-align: top;\n",
       "    }\n",
       "\n",
       "    .dataframe thead th {\n",
       "        text-align: right;\n",
       "    }\n",
       "</style>\n",
       "<table border=\"1\" class=\"dataframe\">\n",
       "  <thead>\n",
       "    <tr style=\"text-align: right;\">\n",
       "      <th></th>\n",
       "      <th>title</th>\n",
       "      <th>artist</th>\n",
       "      <th>genre</th>\n",
       "      <th>year</th>\n",
       "      <th>added</th>\n",
       "      <th>bpm</th>\n",
       "      <th>nrgy</th>\n",
       "      <th>dnce</th>\n",
       "      <th>dB</th>\n",
       "      <th>live</th>\n",
       "      <th>val</th>\n",
       "      <th>dur</th>\n",
       "      <th>acous</th>\n",
       "      <th>spch</th>\n",
       "      <th>top year</th>\n",
       "      <th>artist_type</th>\n",
       "      <th>popularity</th>\n",
       "    </tr>\n",
       "  </thead>\n",
       "  <tbody>\n",
       "    <tr>\n",
       "      <th>0</th>\n",
       "      <td>STARSTRUKK (feat. Katy Perry)</td>\n",
       "      <td>3OH!3</td>\n",
       "      <td>dance pop</td>\n",
       "      <td>2009</td>\n",
       "      <td>2022‑02‑17</td>\n",
       "      <td>140</td>\n",
       "      <td>81</td>\n",
       "      <td>61</td>\n",
       "      <td>-6</td>\n",
       "      <td>23</td>\n",
       "      <td>23</td>\n",
       "      <td>203</td>\n",
       "      <td>0</td>\n",
       "      <td>6</td>\n",
       "      <td>2010</td>\n",
       "      <td>1</td>\n",
       "      <td>70</td>\n",
       "    </tr>\n",
       "    <tr>\n",
       "      <th>1</th>\n",
       "      <td>My First Kiss (feat. Ke$ha)</td>\n",
       "      <td>3OH!3</td>\n",
       "      <td>dance pop</td>\n",
       "      <td>2010</td>\n",
       "      <td>2022‑02‑17</td>\n",
       "      <td>138</td>\n",
       "      <td>89</td>\n",
       "      <td>68</td>\n",
       "      <td>-4</td>\n",
       "      <td>36</td>\n",
       "      <td>83</td>\n",
       "      <td>192</td>\n",
       "      <td>1</td>\n",
       "      <td>8</td>\n",
       "      <td>2010</td>\n",
       "      <td>1</td>\n",
       "      <td>68</td>\n",
       "    </tr>\n",
       "    <tr>\n",
       "      <th>2</th>\n",
       "      <td>I Need A Dollar</td>\n",
       "      <td>Aloe Blacc</td>\n",
       "      <td>pop soul</td>\n",
       "      <td>2010</td>\n",
       "      <td>2022‑02‑17</td>\n",
       "      <td>95</td>\n",
       "      <td>48</td>\n",
       "      <td>84</td>\n",
       "      <td>-7</td>\n",
       "      <td>9</td>\n",
       "      <td>96</td>\n",
       "      <td>243</td>\n",
       "      <td>20</td>\n",
       "      <td>3</td>\n",
       "      <td>2010</td>\n",
       "      <td>2</td>\n",
       "      <td>72</td>\n",
       "    </tr>\n",
       "    <tr>\n",
       "      <th>3</th>\n",
       "      <td>Airplanes (feat. Hayley Williams of Paramore)</td>\n",
       "      <td>B.o.B</td>\n",
       "      <td>atl hip hop</td>\n",
       "      <td>2010</td>\n",
       "      <td>2022‑02‑17</td>\n",
       "      <td>93</td>\n",
       "      <td>87</td>\n",
       "      <td>66</td>\n",
       "      <td>-4</td>\n",
       "      <td>4</td>\n",
       "      <td>38</td>\n",
       "      <td>180</td>\n",
       "      <td>11</td>\n",
       "      <td>12</td>\n",
       "      <td>2010</td>\n",
       "      <td>2</td>\n",
       "      <td>80</td>\n",
       "    </tr>\n",
       "    <tr>\n",
       "      <th>4</th>\n",
       "      <td>Nothin' on You (feat. Bruno Mars)</td>\n",
       "      <td>B.o.B</td>\n",
       "      <td>atl hip hop</td>\n",
       "      <td>2010</td>\n",
       "      <td>2022‑02‑17</td>\n",
       "      <td>104</td>\n",
       "      <td>85</td>\n",
       "      <td>69</td>\n",
       "      <td>-6</td>\n",
       "      <td>9</td>\n",
       "      <td>74</td>\n",
       "      <td>268</td>\n",
       "      <td>39</td>\n",
       "      <td>5</td>\n",
       "      <td>2010</td>\n",
       "      <td>2</td>\n",
       "      <td>79</td>\n",
       "    </tr>\n",
       "  </tbody>\n",
       "</table>\n",
       "</div>"
      ],
      "text/plain": [
       "                                           title      artist        genre  \\\n",
       "0                  STARSTRUKK (feat. Katy Perry)       3OH!3    dance pop   \n",
       "1                    My First Kiss (feat. Ke$ha)       3OH!3    dance pop   \n",
       "2                                I Need A Dollar  Aloe Blacc     pop soul   \n",
       "3  Airplanes (feat. Hayley Williams of Paramore)       B.o.B  atl hip hop   \n",
       "4              Nothin' on You (feat. Bruno Mars)       B.o.B  atl hip hop   \n",
       "\n",
       "   year       added  bpm  nrgy  dnce  dB  live  val  dur  acous  spch  \\\n",
       "0  2009  2022‑02‑17  140    81    61  -6    23   23  203      0     6   \n",
       "1  2010  2022‑02‑17  138    89    68  -4    36   83  192      1     8   \n",
       "2  2010  2022‑02‑17   95    48    84  -7     9   96  243     20     3   \n",
       "3  2010  2022‑02‑17   93    87    66  -4     4   38  180     11    12   \n",
       "4  2010  2022‑02‑17  104    85    69  -6     9   74  268     39     5   \n",
       "\n",
       "   top year  artist_type  popularity  \n",
       "0      2010            1          70  \n",
       "1      2010            1          68  \n",
       "2      2010            2          72  \n",
       "3      2010            2          80  \n",
       "4      2010            2          79  "
      ]
     },
     "execution_count": 477,
     "metadata": {},
     "output_type": "execute_result"
    }
   ],
   "source": [
    "# converting name of column top genre to genre\n",
    "spotify_df = spotify_df.rename(columns={'top genre': 'genre', 'pop': 'popularity'})\n",
    "spotify_df.head()"
   ]
  },
  {
   "cell_type": "code",
   "execution_count": 478,
   "metadata": {},
   "outputs": [],
   "source": [
    "from sklearn import preprocessing\n",
    "le_artist = preprocessing.LabelEncoder()\n",
    "le_artist.fit(spotify_df['artist'])\n",
    "spotify_df['artist'] = le_artist.transform(spotify_df['artist'])\n",
    "\n",
    "le_genre = preprocessing.LabelEncoder()\n",
    "le_genre.fit(spotify_df['genre'])\n",
    "spotify_df['genre'] = le_genre.transform(spotify_df['genre'])\n",
    "\n",
    "le_artist_type = preprocessing.LabelEncoder()\n",
    "le_artist_type.fit(spotify_df['artist_type'])\n",
    "spotify_df['artist_type'] = le_artist_type.transform(spotify_df['artist_type'])"
   ]
  },
  {
   "cell_type": "code",
   "execution_count": 479,
   "metadata": {},
   "outputs": [
    {
     "data": {
      "text/html": [
       "<div>\n",
       "<style scoped>\n",
       "    .dataframe tbody tr th:only-of-type {\n",
       "        vertical-align: middle;\n",
       "    }\n",
       "\n",
       "    .dataframe tbody tr th {\n",
       "        vertical-align: top;\n",
       "    }\n",
       "\n",
       "    .dataframe thead th {\n",
       "        text-align: right;\n",
       "    }\n",
       "</style>\n",
       "<table border=\"1\" class=\"dataframe\">\n",
       "  <thead>\n",
       "    <tr style=\"text-align: right;\">\n",
       "      <th></th>\n",
       "      <th>artist</th>\n",
       "      <th>genre</th>\n",
       "      <th>year</th>\n",
       "      <th>bpm</th>\n",
       "      <th>nrgy</th>\n",
       "      <th>dnce</th>\n",
       "      <th>dB</th>\n",
       "      <th>live</th>\n",
       "      <th>val</th>\n",
       "      <th>dur</th>\n",
       "      <th>acous</th>\n",
       "      <th>spch</th>\n",
       "      <th>artist_type</th>\n",
       "      <th>popularity</th>\n",
       "    </tr>\n",
       "  </thead>\n",
       "  <tbody>\n",
       "    <tr>\n",
       "      <th>0</th>\n",
       "      <td>2</td>\n",
       "      <td>50</td>\n",
       "      <td>2009</td>\n",
       "      <td>140</td>\n",
       "      <td>81</td>\n",
       "      <td>61</td>\n",
       "      <td>-6</td>\n",
       "      <td>23</td>\n",
       "      <td>23</td>\n",
       "      <td>203</td>\n",
       "      <td>0</td>\n",
       "      <td>6</td>\n",
       "      <td>1</td>\n",
       "      <td>70</td>\n",
       "    </tr>\n",
       "    <tr>\n",
       "      <th>1</th>\n",
       "      <td>2</td>\n",
       "      <td>50</td>\n",
       "      <td>2010</td>\n",
       "      <td>138</td>\n",
       "      <td>89</td>\n",
       "      <td>68</td>\n",
       "      <td>-4</td>\n",
       "      <td>36</td>\n",
       "      <td>83</td>\n",
       "      <td>192</td>\n",
       "      <td>1</td>\n",
       "      <td>8</td>\n",
       "      <td>1</td>\n",
       "      <td>68</td>\n",
       "    </tr>\n",
       "    <tr>\n",
       "      <th>2</th>\n",
       "      <td>17</td>\n",
       "      <td>121</td>\n",
       "      <td>2010</td>\n",
       "      <td>95</td>\n",
       "      <td>48</td>\n",
       "      <td>84</td>\n",
       "      <td>-7</td>\n",
       "      <td>9</td>\n",
       "      <td>96</td>\n",
       "      <td>243</td>\n",
       "      <td>20</td>\n",
       "      <td>3</td>\n",
       "      <td>2</td>\n",
       "      <td>72</td>\n",
       "    </tr>\n",
       "    <tr>\n",
       "      <th>3</th>\n",
       "      <td>34</td>\n",
       "      <td>14</td>\n",
       "      <td>2010</td>\n",
       "      <td>93</td>\n",
       "      <td>87</td>\n",
       "      <td>66</td>\n",
       "      <td>-4</td>\n",
       "      <td>4</td>\n",
       "      <td>38</td>\n",
       "      <td>180</td>\n",
       "      <td>11</td>\n",
       "      <td>12</td>\n",
       "      <td>2</td>\n",
       "      <td>80</td>\n",
       "    </tr>\n",
       "    <tr>\n",
       "      <th>4</th>\n",
       "      <td>34</td>\n",
       "      <td>14</td>\n",
       "      <td>2010</td>\n",
       "      <td>104</td>\n",
       "      <td>85</td>\n",
       "      <td>69</td>\n",
       "      <td>-6</td>\n",
       "      <td>9</td>\n",
       "      <td>74</td>\n",
       "      <td>268</td>\n",
       "      <td>39</td>\n",
       "      <td>5</td>\n",
       "      <td>2</td>\n",
       "      <td>79</td>\n",
       "    </tr>\n",
       "  </tbody>\n",
       "</table>\n",
       "</div>"
      ],
      "text/plain": [
       "   artist  genre  year  bpm  nrgy  dnce  dB  live  val  dur  acous  spch  \\\n",
       "0       2     50  2009  140    81    61  -6    23   23  203      0     6   \n",
       "1       2     50  2010  138    89    68  -4    36   83  192      1     8   \n",
       "2      17    121  2010   95    48    84  -7     9   96  243     20     3   \n",
       "3      34     14  2010   93    87    66  -4     4   38  180     11    12   \n",
       "4      34     14  2010  104    85    69  -6     9   74  268     39     5   \n",
       "\n",
       "   artist_type  popularity  \n",
       "0            1          70  \n",
       "1            1          68  \n",
       "2            2          72  \n",
       "3            2          80  \n",
       "4            2          79  "
      ]
     },
     "execution_count": 479,
     "metadata": {},
     "output_type": "execute_result"
    }
   ],
   "source": [
    "# dropping added from dataset\n",
    "spotify_df.drop(['added', 'title','top year'], axis=1, inplace=True)\n",
    "spotify_df.head()"
   ]
  },
  {
   "cell_type": "code",
   "execution_count": 480,
   "metadata": {},
   "outputs": [],
   "source": [
    "X = spotify_df.drop(['popularity'], axis=1)\n",
    "Y = np.where(spotify_df['popularity'] >= 74, 1, 0)\n",
    "\n"
   ]
  },
  {
   "cell_type": "code",
   "execution_count": 481,
   "metadata": {},
   "outputs": [
    {
     "data": {
      "image/png": "[encoded data removed]",
      "text/plain": [
       "<Figure size 864x432 with 1 Axes>"
      ]
     },
     "metadata": {
      "needs_background": "light"
     },
     "output_type": "display_data"
    }
   ],
   "source": [
    "# Visulaizing the data before normalization\n",
    "fig = plt.figure(figsize=(12,6))\n",
    "plt.boxplot(X)\n",
    "plt.show()"
   ]
  },
  {
   "cell_type": "code",
   "execution_count": 482,
   "metadata": {},
   "outputs": [
    {
     "data": {
      "text/plain": [
       "array([[-1.653523  , -0.23023725, -1.81468308,  0.7152911 ,  0.71974499,\n",
       "        -0.45094756, -0.16893356,  0.379378  , -1.29628842, -0.43503584,\n",
       "        -0.73806936, -0.43869671, -0.78247567],\n",
       "       [-1.653523  , -0.23023725, -1.48045218,  0.63903715,  1.22181376,\n",
       "         0.08372119,  0.8208883 ,  1.34735092,  1.48854108, -0.71209228,\n",
       "        -0.68665156, -0.22307161, -0.78247567]])"
      ]
     },
     "execution_count": 482,
     "metadata": {},
     "output_type": "execute_result"
    }
   ],
   "source": [
    "from sklearn import preprocessing\n",
    "scaler = preprocessing.StandardScaler()\n",
    "X = scaler.fit_transform(X)\n",
    "X[0:2]"
   ]
  },
  {
   "cell_type": "code",
   "execution_count": 483,
   "metadata": {},
   "outputs": [
    {
     "data": {
      "image/png": "[encoded data removed]",
      "text/plain": [
       "<Figure size 864x432 with 1 Axes>"
      ]
     },
     "metadata": {
      "needs_background": "light"
     },
     "output_type": "display_data"
    }
   ],
   "source": [
    "# after normalization of data using min_max scaler\n",
    "# xticks_values = [0, 'bpm', 'nrgy', 'dnce', 'dB', 'live', 'val', 'dur', 'acous', 'spch']\n",
    "# print(len(xticks_values))\n",
    "fig = plt.figure(figsize=(12,6))\n",
    "plt.boxplot(X)\n",
    "# plt.xticks(range(0,len(xticks_values)), xticks_values)\n",
    "plt.show()"
   ]
  },
  {
   "cell_type": "code",
   "execution_count": 484,
   "metadata": {},
   "outputs": [],
   "source": [
    "from sklearn.model_selection import train_test_split\n",
    "x_train, x_test, y_train, y_test = train_test_split(X, Y, test_size=0.33, random_state=42)\n"
   ]
  },
  {
   "cell_type": "code",
   "execution_count": 485,
   "metadata": {},
   "outputs": [],
   "source": [
    "from sklearn.tree import DecisionTreeClassifier\n",
    "poplTree = DecisionTreeClassifier(criterion='entropy', max_depth=3)"
   ]
  },
  {
   "cell_type": "code",
   "execution_count": 486,
   "metadata": {},
   "outputs": [
    {
     "data": {
      "text/plain": [
       "DecisionTreeClassifier(criterion='entropy', max_depth=3)"
      ]
     },
     "execution_count": 486,
     "metadata": {},
     "output_type": "execute_result"
    }
   ],
   "source": [
    "poplTree.fit(x_train, y_train)"
   ]
  },
  {
   "cell_type": "code",
   "execution_count": 487,
   "metadata": {},
   "outputs": [],
   "source": [
    "predPoplTree = poplTree.predict(x_test)"
   ]
  },
  {
   "cell_type": "code",
   "execution_count": 488,
   "metadata": {},
   "outputs": [
    {
     "name": "stdout",
     "output_type": "stream",
     "text": [
      "[0 1 1 0 1]\n",
      "[1 1 0 0 1]\n"
     ]
    }
   ],
   "source": [
    "print(predPoplTree[0:5])\n",
    "print(y_test[0:5])"
   ]
  },
  {
   "cell_type": "code",
   "execution_count": 489,
   "metadata": {},
   "outputs": [
    {
     "name": "stdout",
     "output_type": "stream",
     "text": [
      "DecisionTrees's Accuracy:  0.6636363636363637\n"
     ]
    }
   ],
   "source": [
    "from sklearn import metrics\n",
    "import matplotlib.pyplot as plt\n",
    "print(\"DecisionTrees's Accuracy: \", metrics.accuracy_score(y_test, predPoplTree))"
   ]
  },
  {
   "cell_type": "code",
   "execution_count": 490,
   "metadata": {},
   "outputs": [
    {
     "data": {
      "image/png": "[encoded data removed]",
      "text/plain": [
       "<Figure size 432x288 with 1 Axes>"
      ]
     },
     "metadata": {
      "needs_background": "light"
     },
     "output_type": "display_data"
    }
   ],
   "source": [
    "import sklearn.tree as tree\n",
    "\n",
    "fig = tree.plot_tree(poplTree, filled=True)\n",
    "plt.show()"
   ]
  }
 ],
 "metadata": {
  "interpreter": {
   "hash": "aee8b7b246df8f9039afb4144a1f6fd8d2ca17a180786b69acc140d282b71a49"
  },
  "kernelspec": {
   "display_name": "Python 3.10.4 64-bit",
   "language": "python",
   "name": "python3"
  },
  "language_info": {
   "codemirror_mode": {
    "name": "ipython",
    "version": 3
   },
   "file_extension": ".py",
   "mimetype": "text/x-python",
   "name": "python",
   "nbconvert_exporter": "python",
   "pygments_lexer": "ipython3",
   "version": "3.10.4"
  },
  "orig_nbformat": 4
 },
 "nbformat": 4,
 "nbformat_minor": 2
}
