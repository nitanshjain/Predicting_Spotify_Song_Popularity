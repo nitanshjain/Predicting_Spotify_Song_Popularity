{
 "cells": [
  {
   "cell_type": "markdown",
   "metadata": {},
   "source": [
    "## AI Project UCS415 \n",
    "#### Finding Popularity of Spotify Songs\n",
    "Predicting which songs will have a popularity score over 72.5 using KNN \n",
    "\n",
    "Nitansh Jain  102017025"
   ]
  },
  {
   "cell_type": "code",
   "execution_count": 2916,
   "metadata": {},
   "outputs": [],
   "source": [
    "import pandas as pd\n",
    "import numpy as np\n",
    "import matplotlib.pyplot as plt\n",
    "import seaborn as sns\n",
    "from sklearn.metrics import confusion_matrix\n",
    "\n",
    "%matplotlib inline"
   ]
  },
  {
   "cell_type": "code",
   "execution_count": 2917,
   "metadata": {},
   "outputs": [
    {
     "data": {
      "text/html": [
       "<div>\n",
       "<style scoped>\n",
       "    .dataframe tbody tr th:only-of-type {\n",
       "        vertical-align: middle;\n",
       "    }\n",
       "\n",
       "    .dataframe tbody tr th {\n",
       "        vertical-align: top;\n",
       "    }\n",
       "\n",
       "    .dataframe thead th {\n",
       "        text-align: right;\n",
       "    }\n",
       "</style>\n",
       "<table border=\"1\" class=\"dataframe\">\n",
       "  <thead>\n",
       "    <tr style=\"text-align: right;\">\n",
       "      <th></th>\n",
       "      <th>Unnamed: 0</th>\n",
       "      <th>title</th>\n",
       "      <th>artist</th>\n",
       "      <th>top genre</th>\n",
       "      <th>year</th>\n",
       "      <th>bpm</th>\n",
       "      <th>nrgy</th>\n",
       "      <th>dnce</th>\n",
       "      <th>dB</th>\n",
       "      <th>live</th>\n",
       "      <th>val</th>\n",
       "      <th>dur</th>\n",
       "      <th>acous</th>\n",
       "      <th>spch</th>\n",
       "      <th>pop</th>\n",
       "    </tr>\n",
       "  </thead>\n",
       "  <tbody>\n",
       "    <tr>\n",
       "      <th>0</th>\n",
       "      <td>1</td>\n",
       "      <td>Hey, Soul Sister</td>\n",
       "      <td>Train</td>\n",
       "      <td>neo mellow</td>\n",
       "      <td>2010</td>\n",
       "      <td>97</td>\n",
       "      <td>89</td>\n",
       "      <td>67</td>\n",
       "      <td>-4</td>\n",
       "      <td>8</td>\n",
       "      <td>80</td>\n",
       "      <td>217</td>\n",
       "      <td>19</td>\n",
       "      <td>4</td>\n",
       "      <td>83</td>\n",
       "    </tr>\n",
       "    <tr>\n",
       "      <th>1</th>\n",
       "      <td>2</td>\n",
       "      <td>Love The Way You Lie</td>\n",
       "      <td>Eminem</td>\n",
       "      <td>detroit hip hop</td>\n",
       "      <td>2010</td>\n",
       "      <td>87</td>\n",
       "      <td>93</td>\n",
       "      <td>75</td>\n",
       "      <td>-5</td>\n",
       "      <td>52</td>\n",
       "      <td>64</td>\n",
       "      <td>263</td>\n",
       "      <td>24</td>\n",
       "      <td>23</td>\n",
       "      <td>82</td>\n",
       "    </tr>\n",
       "    <tr>\n",
       "      <th>2</th>\n",
       "      <td>3</td>\n",
       "      <td>TiK ToK</td>\n",
       "      <td>Kesha</td>\n",
       "      <td>dance pop</td>\n",
       "      <td>2010</td>\n",
       "      <td>120</td>\n",
       "      <td>84</td>\n",
       "      <td>76</td>\n",
       "      <td>-3</td>\n",
       "      <td>29</td>\n",
       "      <td>71</td>\n",
       "      <td>200</td>\n",
       "      <td>10</td>\n",
       "      <td>14</td>\n",
       "      <td>80</td>\n",
       "    </tr>\n",
       "    <tr>\n",
       "      <th>3</th>\n",
       "      <td>4</td>\n",
       "      <td>Bad Romance</td>\n",
       "      <td>Lady Gaga</td>\n",
       "      <td>dance pop</td>\n",
       "      <td>2010</td>\n",
       "      <td>119</td>\n",
       "      <td>92</td>\n",
       "      <td>70</td>\n",
       "      <td>-4</td>\n",
       "      <td>8</td>\n",
       "      <td>71</td>\n",
       "      <td>295</td>\n",
       "      <td>0</td>\n",
       "      <td>4</td>\n",
       "      <td>79</td>\n",
       "    </tr>\n",
       "    <tr>\n",
       "      <th>4</th>\n",
       "      <td>5</td>\n",
       "      <td>Just the Way You Are</td>\n",
       "      <td>Bruno Mars</td>\n",
       "      <td>pop</td>\n",
       "      <td>2010</td>\n",
       "      <td>109</td>\n",
       "      <td>84</td>\n",
       "      <td>64</td>\n",
       "      <td>-5</td>\n",
       "      <td>9</td>\n",
       "      <td>43</td>\n",
       "      <td>221</td>\n",
       "      <td>2</td>\n",
       "      <td>4</td>\n",
       "      <td>78</td>\n",
       "    </tr>\n",
       "  </tbody>\n",
       "</table>\n",
       "</div>"
      ],
      "text/plain": [
       "   Unnamed: 0                 title      artist        top genre  year  bpm  \\\n",
       "0           1      Hey, Soul Sister       Train       neo mellow  2010   97   \n",
       "1           2  Love The Way You Lie      Eminem  detroit hip hop  2010   87   \n",
       "2           3               TiK ToK       Kesha        dance pop  2010  120   \n",
       "3           4           Bad Romance   Lady Gaga        dance pop  2010  119   \n",
       "4           5  Just the Way You Are  Bruno Mars              pop  2010  109   \n",
       "\n",
       "   nrgy  dnce  dB  live  val  dur  acous  spch  pop  \n",
       "0    89    67  -4     8   80  217     19     4   83  \n",
       "1    93    75  -5    52   64  263     24    23   82  \n",
       "2    84    76  -3    29   71  200     10    14   80  \n",
       "3    92    70  -4     8   71  295      0     4   79  \n",
       "4    84    64  -5     9   43  221      2     4   78  "
      ]
     },
     "execution_count": 2917,
     "metadata": {},
     "output_type": "execute_result"
    }
   ],
   "source": [
    "spotify_df = pd.read_csv('top10s.csv', encoding='latin-1')\n",
    "spotify_df.head()"
   ]
  },
  {
   "cell_type": "code",
   "execution_count": 2918,
   "metadata": {},
   "outputs": [
    {
     "name": "stdout",
     "output_type": "stream",
     "text": [
      "Unnamed: 0    0\n",
      "title         0\n",
      "artist        0\n",
      "top genre     0\n",
      "year          0\n",
      "bpm           0\n",
      "nrgy          0\n",
      "dnce          0\n",
      "dB            0\n",
      "live          0\n",
      "val           0\n",
      "dur           0\n",
      "acous         0\n",
      "spch          0\n",
      "pop           0\n",
      "dtype: int64\n"
     ]
    }
   ],
   "source": [
    "# checking if any null values are present\n",
    "print(spotify_df.isnull().sum())"
   ]
  },
  {
   "cell_type": "code",
   "execution_count": 2919,
   "metadata": {},
   "outputs": [
    {
     "data": {
      "text/plain": [
       "Unnamed: 0     int64\n",
       "title         object\n",
       "artist        object\n",
       "top genre     object\n",
       "year           int64\n",
       "bpm            int64\n",
       "nrgy           int64\n",
       "dnce           int64\n",
       "dB             int64\n",
       "live           int64\n",
       "val            int64\n",
       "dur            int64\n",
       "acous          int64\n",
       "spch           int64\n",
       "pop            int64\n",
       "dtype: object"
      ]
     },
     "execution_count": 2919,
     "metadata": {},
     "output_type": "execute_result"
    }
   ],
   "source": [
    "spotify_df.dtypes"
   ]
  },
  {
   "cell_type": "code",
   "execution_count": 2920,
   "metadata": {},
   "outputs": [
    {
     "data": {
      "text/html": [
       "<div>\n",
       "<style scoped>\n",
       "    .dataframe tbody tr th:only-of-type {\n",
       "        vertical-align: middle;\n",
       "    }\n",
       "\n",
       "    .dataframe tbody tr th {\n",
       "        vertical-align: top;\n",
       "    }\n",
       "\n",
       "    .dataframe thead th {\n",
       "        text-align: right;\n",
       "    }\n",
       "</style>\n",
       "<table border=\"1\" class=\"dataframe\">\n",
       "  <thead>\n",
       "    <tr style=\"text-align: right;\">\n",
       "      <th></th>\n",
       "      <th>Unnamed: 0</th>\n",
       "      <th>title</th>\n",
       "      <th>artist</th>\n",
       "      <th>genre</th>\n",
       "      <th>year</th>\n",
       "      <th>bpm</th>\n",
       "      <th>nrgy</th>\n",
       "      <th>dnce</th>\n",
       "      <th>dB</th>\n",
       "      <th>live</th>\n",
       "      <th>val</th>\n",
       "      <th>dur</th>\n",
       "      <th>acous</th>\n",
       "      <th>spch</th>\n",
       "      <th>popularity</th>\n",
       "    </tr>\n",
       "  </thead>\n",
       "  <tbody>\n",
       "    <tr>\n",
       "      <th>0</th>\n",
       "      <td>1</td>\n",
       "      <td>Hey, Soul Sister</td>\n",
       "      <td>Train</td>\n",
       "      <td>neo mellow</td>\n",
       "      <td>2010</td>\n",
       "      <td>97</td>\n",
       "      <td>89</td>\n",
       "      <td>67</td>\n",
       "      <td>-4</td>\n",
       "      <td>8</td>\n",
       "      <td>80</td>\n",
       "      <td>217</td>\n",
       "      <td>19</td>\n",
       "      <td>4</td>\n",
       "      <td>83</td>\n",
       "    </tr>\n",
       "    <tr>\n",
       "      <th>1</th>\n",
       "      <td>2</td>\n",
       "      <td>Love The Way You Lie</td>\n",
       "      <td>Eminem</td>\n",
       "      <td>detroit hip hop</td>\n",
       "      <td>2010</td>\n",
       "      <td>87</td>\n",
       "      <td>93</td>\n",
       "      <td>75</td>\n",
       "      <td>-5</td>\n",
       "      <td>52</td>\n",
       "      <td>64</td>\n",
       "      <td>263</td>\n",
       "      <td>24</td>\n",
       "      <td>23</td>\n",
       "      <td>82</td>\n",
       "    </tr>\n",
       "    <tr>\n",
       "      <th>2</th>\n",
       "      <td>3</td>\n",
       "      <td>TiK ToK</td>\n",
       "      <td>Kesha</td>\n",
       "      <td>dance pop</td>\n",
       "      <td>2010</td>\n",
       "      <td>120</td>\n",
       "      <td>84</td>\n",
       "      <td>76</td>\n",
       "      <td>-3</td>\n",
       "      <td>29</td>\n",
       "      <td>71</td>\n",
       "      <td>200</td>\n",
       "      <td>10</td>\n",
       "      <td>14</td>\n",
       "      <td>80</td>\n",
       "    </tr>\n",
       "    <tr>\n",
       "      <th>3</th>\n",
       "      <td>4</td>\n",
       "      <td>Bad Romance</td>\n",
       "      <td>Lady Gaga</td>\n",
       "      <td>dance pop</td>\n",
       "      <td>2010</td>\n",
       "      <td>119</td>\n",
       "      <td>92</td>\n",
       "      <td>70</td>\n",
       "      <td>-4</td>\n",
       "      <td>8</td>\n",
       "      <td>71</td>\n",
       "      <td>295</td>\n",
       "      <td>0</td>\n",
       "      <td>4</td>\n",
       "      <td>79</td>\n",
       "    </tr>\n",
       "    <tr>\n",
       "      <th>4</th>\n",
       "      <td>5</td>\n",
       "      <td>Just the Way You Are</td>\n",
       "      <td>Bruno Mars</td>\n",
       "      <td>pop</td>\n",
       "      <td>2010</td>\n",
       "      <td>109</td>\n",
       "      <td>84</td>\n",
       "      <td>64</td>\n",
       "      <td>-5</td>\n",
       "      <td>9</td>\n",
       "      <td>43</td>\n",
       "      <td>221</td>\n",
       "      <td>2</td>\n",
       "      <td>4</td>\n",
       "      <td>78</td>\n",
       "    </tr>\n",
       "  </tbody>\n",
       "</table>\n",
       "</div>"
      ],
      "text/plain": [
       "   Unnamed: 0                 title      artist            genre  year  bpm  \\\n",
       "0           1      Hey, Soul Sister       Train       neo mellow  2010   97   \n",
       "1           2  Love The Way You Lie      Eminem  detroit hip hop  2010   87   \n",
       "2           3               TiK ToK       Kesha        dance pop  2010  120   \n",
       "3           4           Bad Romance   Lady Gaga        dance pop  2010  119   \n",
       "4           5  Just the Way You Are  Bruno Mars              pop  2010  109   \n",
       "\n",
       "   nrgy  dnce  dB  live  val  dur  acous  spch  popularity  \n",
       "0    89    67  -4     8   80  217     19     4          83  \n",
       "1    93    75  -5    52   64  263     24    23          82  \n",
       "2    84    76  -3    29   71  200     10    14          80  \n",
       "3    92    70  -4     8   71  295      0     4          79  \n",
       "4    84    64  -5     9   43  221      2     4          78  "
      ]
     },
     "execution_count": 2920,
     "metadata": {},
     "output_type": "execute_result"
    }
   ],
   "source": [
    "# converting name of column top genre to genre\n",
    "spotify_df = spotify_df.rename(columns={'top genre': 'genre', 'pop': 'popularity'})\n",
    "spotify_df.head()"
   ]
  },
  {
   "cell_type": "code",
   "execution_count": 2921,
   "metadata": {},
   "outputs": [
    {
     "data": {
      "text/html": [
       "<div>\n",
       "<style scoped>\n",
       "    .dataframe tbody tr th:only-of-type {\n",
       "        vertical-align: middle;\n",
       "    }\n",
       "\n",
       "    .dataframe tbody tr th {\n",
       "        vertical-align: top;\n",
       "    }\n",
       "\n",
       "    .dataframe thead th {\n",
       "        text-align: right;\n",
       "    }\n",
       "</style>\n",
       "<table border=\"1\" class=\"dataframe\">\n",
       "  <thead>\n",
       "    <tr style=\"text-align: right;\">\n",
       "      <th></th>\n",
       "      <th>artist</th>\n",
       "      <th>genre</th>\n",
       "      <th>year</th>\n",
       "      <th>bpm</th>\n",
       "      <th>nrgy</th>\n",
       "      <th>dnce</th>\n",
       "      <th>dB</th>\n",
       "      <th>live</th>\n",
       "      <th>val</th>\n",
       "      <th>dur</th>\n",
       "      <th>acous</th>\n",
       "      <th>spch</th>\n",
       "      <th>popularity</th>\n",
       "    </tr>\n",
       "  </thead>\n",
       "  <tbody>\n",
       "    <tr>\n",
       "      <th>0</th>\n",
       "      <td>Train</td>\n",
       "      <td>neo mellow</td>\n",
       "      <td>2010</td>\n",
       "      <td>97</td>\n",
       "      <td>89</td>\n",
       "      <td>67</td>\n",
       "      <td>-4</td>\n",
       "      <td>8</td>\n",
       "      <td>80</td>\n",
       "      <td>217</td>\n",
       "      <td>19</td>\n",
       "      <td>4</td>\n",
       "      <td>83</td>\n",
       "    </tr>\n",
       "    <tr>\n",
       "      <th>1</th>\n",
       "      <td>Eminem</td>\n",
       "      <td>detroit hip hop</td>\n",
       "      <td>2010</td>\n",
       "      <td>87</td>\n",
       "      <td>93</td>\n",
       "      <td>75</td>\n",
       "      <td>-5</td>\n",
       "      <td>52</td>\n",
       "      <td>64</td>\n",
       "      <td>263</td>\n",
       "      <td>24</td>\n",
       "      <td>23</td>\n",
       "      <td>82</td>\n",
       "    </tr>\n",
       "    <tr>\n",
       "      <th>2</th>\n",
       "      <td>Kesha</td>\n",
       "      <td>dance pop</td>\n",
       "      <td>2010</td>\n",
       "      <td>120</td>\n",
       "      <td>84</td>\n",
       "      <td>76</td>\n",
       "      <td>-3</td>\n",
       "      <td>29</td>\n",
       "      <td>71</td>\n",
       "      <td>200</td>\n",
       "      <td>10</td>\n",
       "      <td>14</td>\n",
       "      <td>80</td>\n",
       "    </tr>\n",
       "    <tr>\n",
       "      <th>3</th>\n",
       "      <td>Lady Gaga</td>\n",
       "      <td>dance pop</td>\n",
       "      <td>2010</td>\n",
       "      <td>119</td>\n",
       "      <td>92</td>\n",
       "      <td>70</td>\n",
       "      <td>-4</td>\n",
       "      <td>8</td>\n",
       "      <td>71</td>\n",
       "      <td>295</td>\n",
       "      <td>0</td>\n",
       "      <td>4</td>\n",
       "      <td>79</td>\n",
       "    </tr>\n",
       "    <tr>\n",
       "      <th>4</th>\n",
       "      <td>Bruno Mars</td>\n",
       "      <td>pop</td>\n",
       "      <td>2010</td>\n",
       "      <td>109</td>\n",
       "      <td>84</td>\n",
       "      <td>64</td>\n",
       "      <td>-5</td>\n",
       "      <td>9</td>\n",
       "      <td>43</td>\n",
       "      <td>221</td>\n",
       "      <td>2</td>\n",
       "      <td>4</td>\n",
       "      <td>78</td>\n",
       "    </tr>\n",
       "  </tbody>\n",
       "</table>\n",
       "</div>"
      ],
      "text/plain": [
       "       artist            genre  year  bpm  nrgy  dnce  dB  live  val  dur  \\\n",
       "0       Train       neo mellow  2010   97    89    67  -4     8   80  217   \n",
       "1      Eminem  detroit hip hop  2010   87    93    75  -5    52   64  263   \n",
       "2       Kesha        dance pop  2010  120    84    76  -3    29   71  200   \n",
       "3   Lady Gaga        dance pop  2010  119    92    70  -4     8   71  295   \n",
       "4  Bruno Mars              pop  2010  109    84    64  -5     9   43  221   \n",
       "\n",
       "   acous  spch  popularity  \n",
       "0     19     4          83  \n",
       "1     24    23          82  \n",
       "2     10    14          80  \n",
       "3      0     4          79  \n",
       "4      2     4          78  "
      ]
     },
     "execution_count": 2921,
     "metadata": {},
     "output_type": "execute_result"
    }
   ],
   "source": [
    "# getting columns from spotify_df from bpm to artist_type via loc\n",
    "spotify_features = spotify_df\n",
    "\n",
    "# dropping column added and top year from dataframe\n",
    "spotify_features.drop(['title', 'Unnamed: 0'], axis=1, inplace=True)\n",
    "spotify_df.head()\n"
   ]
  },
  {
   "cell_type": "code",
   "execution_count": 2922,
   "metadata": {},
   "outputs": [
    {
     "data": {
      "text/html": [
       "<div>\n",
       "<style scoped>\n",
       "    .dataframe tbody tr th:only-of-type {\n",
       "        vertical-align: middle;\n",
       "    }\n",
       "\n",
       "    .dataframe tbody tr th {\n",
       "        vertical-align: top;\n",
       "    }\n",
       "\n",
       "    .dataframe thead th {\n",
       "        text-align: right;\n",
       "    }\n",
       "</style>\n",
       "<table border=\"1\" class=\"dataframe\">\n",
       "  <thead>\n",
       "    <tr style=\"text-align: right;\">\n",
       "      <th></th>\n",
       "      <th>year</th>\n",
       "      <th>bpm</th>\n",
       "      <th>nrgy</th>\n",
       "      <th>dnce</th>\n",
       "      <th>dB</th>\n",
       "      <th>live</th>\n",
       "      <th>val</th>\n",
       "      <th>dur</th>\n",
       "      <th>acous</th>\n",
       "      <th>spch</th>\n",
       "      <th>popularity</th>\n",
       "    </tr>\n",
       "  </thead>\n",
       "  <tbody>\n",
       "    <tr>\n",
       "      <th>year</th>\n",
       "      <td>1.000000</td>\n",
       "      <td>-0.104247</td>\n",
       "      <td>-0.225596</td>\n",
       "      <td>0.079269</td>\n",
       "      <td>-0.126471</td>\n",
       "      <td>-0.136331</td>\n",
       "      <td>-0.122025</td>\n",
       "      <td>-0.215344</td>\n",
       "      <td>0.101725</td>\n",
       "      <td>0.004778</td>\n",
       "      <td>0.241261</td>\n",
       "    </tr>\n",
       "    <tr>\n",
       "      <th>bpm</th>\n",
       "      <td>-0.104247</td>\n",
       "      <td>1.000000</td>\n",
       "      <td>0.126170</td>\n",
       "      <td>-0.131301</td>\n",
       "      <td>0.183870</td>\n",
       "      <td>0.081579</td>\n",
       "      <td>0.016021</td>\n",
       "      <td>-0.029359</td>\n",
       "      <td>-0.113257</td>\n",
       "      <td>0.058999</td>\n",
       "      <td>0.018983</td>\n",
       "    </tr>\n",
       "    <tr>\n",
       "      <th>nrgy</th>\n",
       "      <td>-0.225596</td>\n",
       "      <td>0.126170</td>\n",
       "      <td>1.000000</td>\n",
       "      <td>0.167209</td>\n",
       "      <td>0.537528</td>\n",
       "      <td>0.186738</td>\n",
       "      <td>0.409577</td>\n",
       "      <td>-0.143610</td>\n",
       "      <td>-0.562287</td>\n",
       "      <td>0.107313</td>\n",
       "      <td>-0.057645</td>\n",
       "    </tr>\n",
       "    <tr>\n",
       "      <th>dnce</th>\n",
       "      <td>0.079269</td>\n",
       "      <td>-0.131301</td>\n",
       "      <td>0.167209</td>\n",
       "      <td>1.000000</td>\n",
       "      <td>0.233170</td>\n",
       "      <td>-0.028801</td>\n",
       "      <td>0.501696</td>\n",
       "      <td>-0.176841</td>\n",
       "      <td>-0.240064</td>\n",
       "      <td>-0.028041</td>\n",
       "      <td>0.116054</td>\n",
       "    </tr>\n",
       "    <tr>\n",
       "      <th>dB</th>\n",
       "      <td>-0.126471</td>\n",
       "      <td>0.183870</td>\n",
       "      <td>0.537528</td>\n",
       "      <td>0.233170</td>\n",
       "      <td>1.000000</td>\n",
       "      <td>0.081934</td>\n",
       "      <td>0.282922</td>\n",
       "      <td>-0.104723</td>\n",
       "      <td>-0.190401</td>\n",
       "      <td>-0.001110</td>\n",
       "      <td>0.156897</td>\n",
       "    </tr>\n",
       "    <tr>\n",
       "      <th>live</th>\n",
       "      <td>-0.136331</td>\n",
       "      <td>0.081579</td>\n",
       "      <td>0.186738</td>\n",
       "      <td>-0.028801</td>\n",
       "      <td>0.081934</td>\n",
       "      <td>1.000000</td>\n",
       "      <td>0.020226</td>\n",
       "      <td>0.098339</td>\n",
       "      <td>-0.098167</td>\n",
       "      <td>0.144103</td>\n",
       "      <td>-0.075749</td>\n",
       "    </tr>\n",
       "    <tr>\n",
       "      <th>val</th>\n",
       "      <td>-0.122025</td>\n",
       "      <td>0.016021</td>\n",
       "      <td>0.409577</td>\n",
       "      <td>0.501696</td>\n",
       "      <td>0.282922</td>\n",
       "      <td>0.020226</td>\n",
       "      <td>1.000000</td>\n",
       "      <td>-0.262256</td>\n",
       "      <td>-0.249038</td>\n",
       "      <td>0.122013</td>\n",
       "      <td>0.038953</td>\n",
       "    </tr>\n",
       "    <tr>\n",
       "      <th>dur</th>\n",
       "      <td>-0.215344</td>\n",
       "      <td>-0.029359</td>\n",
       "      <td>-0.143610</td>\n",
       "      <td>-0.176841</td>\n",
       "      <td>-0.104723</td>\n",
       "      <td>0.098339</td>\n",
       "      <td>-0.262256</td>\n",
       "      <td>1.000000</td>\n",
       "      <td>0.091802</td>\n",
       "      <td>0.054564</td>\n",
       "      <td>-0.104363</td>\n",
       "    </tr>\n",
       "    <tr>\n",
       "      <th>acous</th>\n",
       "      <td>0.101725</td>\n",
       "      <td>-0.113257</td>\n",
       "      <td>-0.562287</td>\n",
       "      <td>-0.240064</td>\n",
       "      <td>-0.190401</td>\n",
       "      <td>-0.098167</td>\n",
       "      <td>-0.249038</td>\n",
       "      <td>0.091802</td>\n",
       "      <td>1.000000</td>\n",
       "      <td>0.002763</td>\n",
       "      <td>0.026704</td>\n",
       "    </tr>\n",
       "    <tr>\n",
       "      <th>spch</th>\n",
       "      <td>0.004778</td>\n",
       "      <td>0.058999</td>\n",
       "      <td>0.107313</td>\n",
       "      <td>-0.028041</td>\n",
       "      <td>-0.001110</td>\n",
       "      <td>0.144103</td>\n",
       "      <td>0.122013</td>\n",
       "      <td>0.054564</td>\n",
       "      <td>0.002763</td>\n",
       "      <td>1.000000</td>\n",
       "      <td>-0.041490</td>\n",
       "    </tr>\n",
       "    <tr>\n",
       "      <th>popularity</th>\n",
       "      <td>0.241261</td>\n",
       "      <td>0.018983</td>\n",
       "      <td>-0.057645</td>\n",
       "      <td>0.116054</td>\n",
       "      <td>0.156897</td>\n",
       "      <td>-0.075749</td>\n",
       "      <td>0.038953</td>\n",
       "      <td>-0.104363</td>\n",
       "      <td>0.026704</td>\n",
       "      <td>-0.041490</td>\n",
       "      <td>1.000000</td>\n",
       "    </tr>\n",
       "  </tbody>\n",
       "</table>\n",
       "</div>"
      ],
      "text/plain": [
       "                year       bpm      nrgy      dnce        dB      live  \\\n",
       "year        1.000000 -0.104247 -0.225596  0.079269 -0.126471 -0.136331   \n",
       "bpm        -0.104247  1.000000  0.126170 -0.131301  0.183870  0.081579   \n",
       "nrgy       -0.225596  0.126170  1.000000  0.167209  0.537528  0.186738   \n",
       "dnce        0.079269 -0.131301  0.167209  1.000000  0.233170 -0.028801   \n",
       "dB         -0.126471  0.183870  0.537528  0.233170  1.000000  0.081934   \n",
       "live       -0.136331  0.081579  0.186738 -0.028801  0.081934  1.000000   \n",
       "val        -0.122025  0.016021  0.409577  0.501696  0.282922  0.020226   \n",
       "dur        -0.215344 -0.029359 -0.143610 -0.176841 -0.104723  0.098339   \n",
       "acous       0.101725 -0.113257 -0.562287 -0.240064 -0.190401 -0.098167   \n",
       "spch        0.004778  0.058999  0.107313 -0.028041 -0.001110  0.144103   \n",
       "popularity  0.241261  0.018983 -0.057645  0.116054  0.156897 -0.075749   \n",
       "\n",
       "                 val       dur     acous      spch  popularity  \n",
       "year       -0.122025 -0.215344  0.101725  0.004778    0.241261  \n",
       "bpm         0.016021 -0.029359 -0.113257  0.058999    0.018983  \n",
       "nrgy        0.409577 -0.143610 -0.562287  0.107313   -0.057645  \n",
       "dnce        0.501696 -0.176841 -0.240064 -0.028041    0.116054  \n",
       "dB          0.282922 -0.104723 -0.190401 -0.001110    0.156897  \n",
       "live        0.020226  0.098339 -0.098167  0.144103   -0.075749  \n",
       "val         1.000000 -0.262256 -0.249038  0.122013    0.038953  \n",
       "dur        -0.262256  1.000000  0.091802  0.054564   -0.104363  \n",
       "acous      -0.249038  0.091802  1.000000  0.002763    0.026704  \n",
       "spch        0.122013  0.054564  0.002763  1.000000   -0.041490  \n",
       "popularity  0.038953 -0.104363  0.026704 -0.041490    1.000000  "
      ]
     },
     "execution_count": 2922,
     "metadata": {},
     "output_type": "execute_result"
    }
   ],
   "source": [
    "# checking correlation table\n",
    "spotify_features.head()\n",
    "spotify_features.corr(method='pearson')"
   ]
  },
  {
   "cell_type": "code",
   "execution_count": 2923,
   "metadata": {},
   "outputs": [],
   "source": [
    "from sklearn import preprocessing\n",
    "le_artist = preprocessing.LabelEncoder()\n",
    "le_artist.fit(spotify_features['artist'])\n",
    "spotify_features['artist'] = le_artist.transform(spotify_features['artist'])\n",
    "\n",
    "le_genre = preprocessing.LabelEncoder()\n",
    "le_genre.fit(spotify_features['genre'])\n",
    "spotify_features['genre'] = le_genre.transform(spotify_features['genre'])\n"
   ]
  },
  {
   "cell_type": "code",
   "execution_count": 2924,
   "metadata": {},
   "outputs": [
    {
     "name": "stdout",
     "output_type": "stream",
     "text": [
      "   artist  genre  year  bpm  nrgy  dnce  dB  live  val  dur  acous  spch\n",
      "0     174     46  2010   97    89    67  -4     8   80  217     19     4\n",
      "1      49     27  2010   87    93    75  -5    52   64  263     24    23\n",
      "2      89     25  2010  120    84    76  -3    29   71  200     10    14\n",
      "3      94     25  2010  119    92    70  -4     8   71  295      0     4\n",
      "4      19     48  2010  109    84    64  -5     9   43  221      2     4\n"
     ]
    }
   ],
   "source": [
    "# splitting spotify_features into dependent and independent variables\n",
    "spotify_features_x = spotify_features.drop(['popularity'], axis=1)\n",
    "spotify_features_y = spotify_features['popularity']\n",
    "print(spotify_features_x.head())"
   ]
  },
  {
   "cell_type": "code",
   "execution_count": 2925,
   "metadata": {},
   "outputs": [
    {
     "data": {
      "image/png": "[encoded data removed]",
      "text/plain": [
       "<Figure size 864x432 with 1 Axes>"
      ]
     },
     "metadata": {
      "needs_background": "light"
     },
     "output_type": "display_data"
    }
   ],
   "source": [
    "# Visulaizing the data before normalization\n",
    "fig = plt.figure(figsize=(12,6))\n",
    "plt.boxplot(spotify_features_x)\n",
    "plt.show()"
   ]
  },
  {
   "cell_type": "code",
   "execution_count": 2926,
   "metadata": {},
   "outputs": [
    {
     "data": {
      "text/html": [
       "<div>\n",
       "<style scoped>\n",
       "    .dataframe tbody tr th:only-of-type {\n",
       "        vertical-align: middle;\n",
       "    }\n",
       "\n",
       "    .dataframe tbody tr th {\n",
       "        vertical-align: top;\n",
       "    }\n",
       "\n",
       "    .dataframe thead th {\n",
       "        text-align: right;\n",
       "    }\n",
       "</style>\n",
       "<table border=\"1\" class=\"dataframe\">\n",
       "  <thead>\n",
       "    <tr style=\"text-align: right;\">\n",
       "      <th></th>\n",
       "      <th>artist</th>\n",
       "      <th>genre</th>\n",
       "      <th>year</th>\n",
       "      <th>bpm</th>\n",
       "      <th>nrgy</th>\n",
       "      <th>dnce</th>\n",
       "      <th>dB</th>\n",
       "      <th>live</th>\n",
       "      <th>val</th>\n",
       "      <th>dur</th>\n",
       "      <th>acous</th>\n",
       "      <th>spch</th>\n",
       "    </tr>\n",
       "  </thead>\n",
       "  <tbody>\n",
       "    <tr>\n",
       "      <th>0</th>\n",
       "      <td>174</td>\n",
       "      <td>46</td>\n",
       "      <td>2010</td>\n",
       "      <td>0.470874</td>\n",
       "      <td>0.908163</td>\n",
       "      <td>0.690722</td>\n",
       "      <td>0.965517</td>\n",
       "      <td>0.108108</td>\n",
       "      <td>0.816327</td>\n",
       "      <td>0.286207</td>\n",
       "      <td>0.191919</td>\n",
       "      <td>0.083333</td>\n",
       "    </tr>\n",
       "    <tr>\n",
       "      <th>1</th>\n",
       "      <td>49</td>\n",
       "      <td>27</td>\n",
       "      <td>2010</td>\n",
       "      <td>0.422330</td>\n",
       "      <td>0.948980</td>\n",
       "      <td>0.773196</td>\n",
       "      <td>0.948276</td>\n",
       "      <td>0.702703</td>\n",
       "      <td>0.653061</td>\n",
       "      <td>0.444828</td>\n",
       "      <td>0.242424</td>\n",
       "      <td>0.479167</td>\n",
       "    </tr>\n",
       "  </tbody>\n",
       "</table>\n",
       "</div>"
      ],
      "text/plain": [
       "   artist  genre  year       bpm      nrgy      dnce        dB      live  \\\n",
       "0     174     46  2010  0.470874  0.908163  0.690722  0.965517  0.108108   \n",
       "1      49     27  2010  0.422330  0.948980  0.773196  0.948276  0.702703   \n",
       "\n",
       "        val       dur     acous      spch  \n",
       "0  0.816327  0.286207  0.191919  0.083333  \n",
       "1  0.653061  0.444828  0.242424  0.479167  "
      ]
     },
     "execution_count": 2926,
     "metadata": {},
     "output_type": "execute_result"
    }
   ],
   "source": [
    "# normalizing spotify_features using min_max scaler\n",
    "from sklearn import preprocessing\n",
    "scaler = preprocessing.MinMaxScaler()\n",
    "spotify_features_scaled_x = spotify_features_x\n",
    "spotify_features_scaled_x.loc[:,'bpm':'spch'] = scaler.fit_transform(spotify_features_x.loc[:,'bpm':'spch'])\n",
    "spotify_features_scaled_x[0:2]"
   ]
  },
  {
   "cell_type": "code",
   "execution_count": 2927,
   "metadata": {},
   "outputs": [
    {
     "data": {
      "image/png": "[encoded data removed]",
      "text/plain": [
       "<Figure size 864x432 with 1 Axes>"
      ]
     },
     "metadata": {
      "needs_background": "light"
     },
     "output_type": "display_data"
    }
   ],
   "source": [
    "# after normalization of data using min_max scaler\n",
    "# xticks_values = [0,'artist', 'genre', 'year', 'bpm', 'nrgy', 'dnce', 'dB', 'live', 'val', 'dur', 'acous', 'spch', 'artist_type']\n",
    "# print(len(xticks_values))\n",
    "fig = plt.figure(figsize=(12,6))\n",
    "plt.boxplot(spotify_features_scaled_x)\n",
    "# plt.xticks(range(0,len(xticks_values)), xticks_values)\n",
    "plt.show()\n"
   ]
  },
  {
   "cell_type": "code",
   "execution_count": 2928,
   "metadata": {},
   "outputs": [
    {
     "name": "stdout",
     "output_type": "stream",
     "text": [
      "   artist  genre  year       bpm      nrgy      dnce        dB      live  \\\n",
      "0     174     46  2010  0.470874  0.908163  0.690722  0.965517  0.108108   \n",
      "1      49     27  2010  0.422330  0.948980  0.773196  0.948276  0.702703   \n",
      "\n",
      "        val       dur     acous      spch  \n",
      "0  0.816327  0.286207  0.191919  0.083333  \n",
      "1  0.653061  0.444828  0.242424  0.479167  \n"
     ]
    }
   ],
   "source": [
    "spotify_features_x_np = spotify_features_scaled_x.loc[:,:]\n",
    "print(spotify_features_x_np[0:2])"
   ]
  },
  {
   "cell_type": "code",
   "execution_count": 2929,
   "metadata": {},
   "outputs": [
    {
     "data": {
      "text/plain": [
       "array([1, 1, 1, 1, 1])"
      ]
     },
     "execution_count": 2929,
     "metadata": {},
     "output_type": "execute_result"
    }
   ],
   "source": [
    "spotify_features_y = np.where(spotify_features_y >= 75, 1, 0)\n",
    "spotify_features_y[0:5]"
   ]
  },
  {
   "cell_type": "code",
   "execution_count": 2930,
   "metadata": {},
   "outputs": [
    {
     "data": {
      "text/plain": [
       "array([1, 1, 1, 1, 1])"
      ]
     },
     "execution_count": 2930,
     "metadata": {},
     "output_type": "execute_result"
    }
   ],
   "source": [
    "spotify_features_scaled_y = scaler.fit_transform(spotify_features_y.reshape(-1,1))\n",
    "spotify_features_scaled_y[0:2]\n",
    "\n",
    "spotify_features_y_np = spotify_features_y\n",
    "spotify_features_y_np[0:5]"
   ]
  },
  {
   "cell_type": "code",
   "execution_count": 2931,
   "metadata": {},
   "outputs": [
    {
     "name": "stdout",
     "output_type": "stream",
     "text": [
      "   artist  genre  year       bpm      nrgy      dnce        dB      live  \\\n",
      "0     174     46  2010  0.470874  0.908163  0.690722  0.965517  0.108108   \n",
      "1      49     27  2010  0.422330  0.948980  0.773196  0.948276  0.702703   \n",
      "\n",
      "        val       dur     acous      spch  \n",
      "0  0.816327  0.286207  0.191919  0.083333  \n",
      "1  0.653061  0.444828  0.242424  0.479167  \n",
      "[1 1]\n"
     ]
    }
   ],
   "source": [
    "print(spotify_features_x_np[0:2])\n",
    "print(spotify_features_y_np[0:2])\n"
   ]
  },
  {
   "cell_type": "code",
   "execution_count": 2932,
   "metadata": {},
   "outputs": [],
   "source": [
    "from sklearn.model_selection import train_test_split\n",
    "x_train_knn, x_test_knn, y_train_knn, y_test_knn = train_test_split(spotify_features_x_np, spotify_features_y_np, test_size=0.25, random_state=42)"
   ]
  },
  {
   "cell_type": "code",
   "execution_count": 2933,
   "metadata": {},
   "outputs": [
    {
     "data": {
      "text/plain": [
       "KNeighborsClassifier()"
      ]
     },
     "execution_count": 2933,
     "metadata": {},
     "output_type": "execute_result"
    }
   ],
   "source": [
    "from sklearn.neighbors import KNeighborsClassifier\n",
    "n = KNeighborsClassifier(n_neighbors=5).fit(x_train_knn, y_train_knn)\n",
    "n"
   ]
  },
  {
   "cell_type": "code",
   "execution_count": 2934,
   "metadata": {},
   "outputs": [
    {
     "name": "stdout",
     "output_type": "stream",
     "text": [
      "[0 0 0 0 0 0 0 0 0 0 0 0 1 1 0 0 0 1 0 0]\n",
      "[1 1 0 0 0 1 0 1 0 0 1 0 1 1 1 0 0 1 0 0]\n"
     ]
    }
   ],
   "source": [
    "yhat_pred_knn = n.predict(x_test_knn)\n",
    "print(yhat_pred_knn[0:20])\n",
    "print(y_test_knn[0:20])"
   ]
  },
  {
   "cell_type": "code",
   "execution_count": 2935,
   "metadata": {},
   "outputs": [
    {
     "data": {
      "text/plain": [
       "0.7483443708609272"
      ]
     },
     "execution_count": 2935,
     "metadata": {},
     "output_type": "execute_result"
    }
   ],
   "source": [
    "from sklearn import metrics\n",
    "metrics.accuracy_score(y_test_knn, yhat_pred_knn)"
   ]
  },
  {
   "cell_type": "code",
   "execution_count": 2936,
   "metadata": {},
   "outputs": [
    {
     "name": "stdout",
     "output_type": "stream",
     "text": [
      "[0.70860927 0.72847682 0.7218543  0.72847682 0.74834437 0.68874172\n",
      " 0.70198675 0.69536424 0.68211921 0.69536424 0.70860927 0.70198675\n",
      " 0.71523179 0.70198675 0.69536424 0.70198675 0.69536424 0.69536424\n",
      " 0.68211921 0.70198675 0.68211921 0.71523179 0.69536424 0.68211921\n",
      " 0.68211921 0.70860927 0.7218543  0.70198675 0.71523179]\n",
      "(array([4]),)\n"
     ]
    }
   ],
   "source": [
    "ks = 30\n",
    "mean_acc = np.zeros((ks-1))\n",
    "std_acc = np.zeros((ks-1))\n",
    "\n",
    "for n in range(1, ks):\n",
    "    neigh = KNeighborsClassifier(n_neighbors = n).fit(x_train_knn,y_train_knn)\n",
    "    yhat = neigh.predict(x_test_knn)\n",
    "    mean_acc[n-1] = metrics.accuracy_score(y_test_knn,yhat)\n",
    "    std_acc[n-1] = np.std(yhat==y_test_knn)/np.sqrt(yhat.shape[0])\n",
    "print(mean_acc)\n",
    "print(np.where(mean_acc == np.max(mean_acc)))"
   ]
  },
  {
   "cell_type": "code",
   "execution_count": 2937,
   "metadata": {},
   "outputs": [
    {
     "name": "stdout",
     "output_type": "stream",
     "text": [
      "[[94  8]\n",
      " [30 19]]\n"
     ]
    }
   ],
   "source": [
    "cm_knn = confusion_matrix(y_test_knn, yhat_pred_knn)\n",
    "print(cm_knn)"
   ]
  },
  {
   "cell_type": "code",
   "execution_count": 2938,
   "metadata": {},
   "outputs": [
    {
     "name": "stdout",
     "output_type": "stream",
     "text": [
      "Classification Report: \n",
      "               precision    recall  f1-score   support\n",
      "\n",
      "           0       0.76      0.92      0.83       102\n",
      "           1       0.70      0.39      0.50        49\n",
      "\n",
      "    accuracy                           0.75       151\n",
      "   macro avg       0.73      0.65      0.67       151\n",
      "weighted avg       0.74      0.75      0.72       151\n",
      "\n"
     ]
    }
   ],
   "source": [
    "print('Classification Report: \\n', metrics.classification_report(y_test_knn, yhat_pred_knn))"
   ]
  },
  {
   "cell_type": "code",
   "execution_count": 2939,
   "metadata": {},
   "outputs": [],
   "source": [
    "error_rate = []\n",
    "for i in range(1,40):\n",
    "    Obj = KNeighborsClassifier(n_neighbors = i)\n",
    "    Obj.fit(x_train_knn,y_train_knn)\n",
    "    pred_i = Obj.predict(x_test_knn)\n",
    "    error_rate.append(np.mean(pred_i != y_test_knn))\n"
   ]
  },
  {
   "cell_type": "code",
   "execution_count": 2940,
   "metadata": {},
   "outputs": [
    {
     "data": {
      "text/plain": [
       "Text(0, 0.5, 'Error Rate')"
      ]
     },
     "execution_count": 2940,
     "metadata": {},
     "output_type": "execute_result"
    },
    {
     "data": {
      "image/png": "[encoded data removed]",
      "text/plain": [
       "<Figure size 720x432 with 1 Axes>"
      ]
     },
     "metadata": {
      "needs_background": "light"
     },
     "output_type": "display_data"
    }
   ],
   "source": [
    "plt.figure(figsize=(10,6))\n",
    "plt.plot(range(1,40),error_rate,color='red',linestyle='dashed',marker='o',markerfacecolor='blue',markersize=10)\n",
    "plt.title('Error Rate vs K Value')\n",
    "plt.xlabel('K')\n",
    "plt.ylabel('Error Rate')"
   ]
  },
  {
   "cell_type": "code",
   "execution_count": 2941,
   "metadata": {},
   "outputs": [
    {
     "data": {
      "text/plain": [
       "array([0.68852459, 0.73770492, 0.73770492, 0.7       , 0.66666667,\n",
       "       0.7       , 0.71666667, 0.66666667, 0.7       , 0.65      ])"
      ]
     },
     "execution_count": 2941,
     "metadata": {},
     "output_type": "execute_result"
    }
   ],
   "source": [
    "from sklearn.model_selection import cross_val_score\n",
    "knn = KNeighborsClassifier(n_neighbors=7)\n",
    "scores = cross_val_score(knn, spotify_features_x_np, spotify_features_y_np, cv=10)\n",
    "scores"
   ]
  },
  {
   "cell_type": "code",
   "execution_count": 2942,
   "metadata": {},
   "outputs": [
    {
     "name": "stdout",
     "output_type": "stream",
     "text": [
      "0.70 accuracy with a standard deviation of 0.03\n"
     ]
    }
   ],
   "source": [
    "print('%.2f accuracy with a standard deviation of %.2f' % (np.mean(scores), np.std(scores)))"
   ]
  },
  {
   "cell_type": "code",
   "execution_count": 2943,
   "metadata": {},
   "outputs": [],
   "source": [
    "from sklearn.model_selection import cross_val_predict\n",
    "yhat_pred_knn_cross_val = cross_val_predict(knn, spotify_features_x_np, spotify_features_y_np, cv=10)"
   ]
  },
  {
   "cell_type": "code",
   "execution_count": 2944,
   "metadata": {},
   "outputs": [
    {
     "data": {
      "text/plain": [
       "0.6965174129353234"
      ]
     },
     "execution_count": 2944,
     "metadata": {},
     "output_type": "execute_result"
    }
   ],
   "source": [
    "metrics.accuracy_score(spotify_features_y, yhat_pred_knn_cross_val)"
   ]
  },
  {
   "cell_type": "code",
   "execution_count": 2945,
   "metadata": {},
   "outputs": [
    {
     "name": "stdout",
     "output_type": "stream",
     "text": [
      "[[350  64]\n",
      " [119  70]]\n"
     ]
    }
   ],
   "source": [
    "cm_cross_val_score = confusion_matrix(spotify_features_y, yhat_pred_knn_cross_val)\n",
    "print(cm_cross_val_score)"
   ]
  },
  {
   "cell_type": "code",
   "execution_count": 2946,
   "metadata": {},
   "outputs": [
    {
     "name": "stdout",
     "output_type": "stream",
     "text": [
      "Classification Report: \n",
      "               precision    recall  f1-score   support\n",
      "\n",
      "           0       0.75      0.85      0.79       414\n",
      "           1       0.52      0.37      0.43       189\n",
      "\n",
      "    accuracy                           0.70       603\n",
      "   macro avg       0.63      0.61      0.61       603\n",
      "weighted avg       0.68      0.70      0.68       603\n",
      "\n"
     ]
    }
   ],
   "source": [
    "print('Classification Report: \\n', metrics.classification_report(spotify_features_y, yhat_pred_knn_cross_val))"
   ]
  }
 ],
 "metadata": {
  "interpreter": {
   "hash": "aee8b7b246df8f9039afb4144a1f6fd8d2ca17a180786b69acc140d282b71a49"
  },
  "kernelspec": {
   "display_name": "Python 3.10.4 64-bit",
   "language": "python",
   "name": "python3"
  },
  "language_info": {
   "codemirror_mode": {
    "name": "ipython",
    "version": 3
   },
   "file_extension": ".py",
   "mimetype": "text/x-python",
   "name": "python",
   "nbconvert_exporter": "python",
   "pygments_lexer": "ipython3",
   "version": "3.10.4"
  },
  "orig_nbformat": 4
 },
 "nbformat": 4,
 "nbformat_minor": 2
}
