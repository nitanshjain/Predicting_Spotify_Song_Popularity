{
 "cells": [
  {
   "cell_type": "markdown",
   "metadata": {},
   "source": [
    "## AI Project UCS415 \n",
    "#### Finding Popularity of Spotify Songs\n",
    "Predicting which songs will have a popularity score over 72.5 using KNN \n",
    "\n",
    "Nitansh Jain  102017025"
   ]
  },
  {
   "cell_type": "code",
   "execution_count": 619,
   "metadata": {},
   "outputs": [],
   "source": [
    "import pandas as pd\n",
    "import numpy as np\n",
    "import matplotlib.pyplot as plt\n",
    "import seaborn as sns\n",
    "from sklearn.metrics import confusion_matrix\n",
    "import openpyxl\n",
    "\n",
    "%matplotlib inline"
   ]
  },
  {
   "cell_type": "code",
   "execution_count": 620,
   "metadata": {},
   "outputs": [
    {
     "data": {
      "text/html": [
       "<div>\n",
       "<style scoped>\n",
       "    .dataframe tbody tr th:only-of-type {\n",
       "        vertical-align: middle;\n",
       "    }\n",
       "\n",
       "    .dataframe tbody tr th {\n",
       "        vertical-align: top;\n",
       "    }\n",
       "\n",
       "    .dataframe thead th {\n",
       "        text-align: right;\n",
       "    }\n",
       "</style>\n",
       "<table border=\"1\" class=\"dataframe\">\n",
       "  <thead>\n",
       "    <tr style=\"text-align: right;\">\n",
       "      <th></th>\n",
       "      <th>Unnamed: 0</th>\n",
       "      <th>title</th>\n",
       "      <th>artist</th>\n",
       "      <th>top genre</th>\n",
       "      <th>year</th>\n",
       "      <th>bpm</th>\n",
       "      <th>nrgy</th>\n",
       "      <th>dnce</th>\n",
       "      <th>dB</th>\n",
       "      <th>live</th>\n",
       "      <th>val</th>\n",
       "      <th>dur</th>\n",
       "      <th>acous</th>\n",
       "      <th>spch</th>\n",
       "      <th>pop</th>\n",
       "    </tr>\n",
       "  </thead>\n",
       "  <tbody>\n",
       "    <tr>\n",
       "      <th>0</th>\n",
       "      <td>1</td>\n",
       "      <td>Hey, Soul Sister</td>\n",
       "      <td>Train</td>\n",
       "      <td>neo mellow</td>\n",
       "      <td>2010</td>\n",
       "      <td>97</td>\n",
       "      <td>89</td>\n",
       "      <td>67</td>\n",
       "      <td>-4</td>\n",
       "      <td>8</td>\n",
       "      <td>80</td>\n",
       "      <td>217</td>\n",
       "      <td>19</td>\n",
       "      <td>4</td>\n",
       "      <td>83</td>\n",
       "    </tr>\n",
       "    <tr>\n",
       "      <th>1</th>\n",
       "      <td>2</td>\n",
       "      <td>Love The Way You Lie</td>\n",
       "      <td>Eminem</td>\n",
       "      <td>detroit hip hop</td>\n",
       "      <td>2010</td>\n",
       "      <td>87</td>\n",
       "      <td>93</td>\n",
       "      <td>75</td>\n",
       "      <td>-5</td>\n",
       "      <td>52</td>\n",
       "      <td>64</td>\n",
       "      <td>263</td>\n",
       "      <td>24</td>\n",
       "      <td>23</td>\n",
       "      <td>82</td>\n",
       "    </tr>\n",
       "    <tr>\n",
       "      <th>2</th>\n",
       "      <td>3</td>\n",
       "      <td>TiK ToK</td>\n",
       "      <td>Kesha</td>\n",
       "      <td>dance pop</td>\n",
       "      <td>2010</td>\n",
       "      <td>120</td>\n",
       "      <td>84</td>\n",
       "      <td>76</td>\n",
       "      <td>-3</td>\n",
       "      <td>29</td>\n",
       "      <td>71</td>\n",
       "      <td>200</td>\n",
       "      <td>10</td>\n",
       "      <td>14</td>\n",
       "      <td>80</td>\n",
       "    </tr>\n",
       "    <tr>\n",
       "      <th>3</th>\n",
       "      <td>4</td>\n",
       "      <td>Bad Romance</td>\n",
       "      <td>Lady Gaga</td>\n",
       "      <td>dance pop</td>\n",
       "      <td>2010</td>\n",
       "      <td>119</td>\n",
       "      <td>92</td>\n",
       "      <td>70</td>\n",
       "      <td>-4</td>\n",
       "      <td>8</td>\n",
       "      <td>71</td>\n",
       "      <td>295</td>\n",
       "      <td>0</td>\n",
       "      <td>4</td>\n",
       "      <td>79</td>\n",
       "    </tr>\n",
       "    <tr>\n",
       "      <th>4</th>\n",
       "      <td>5</td>\n",
       "      <td>Just the Way You Are</td>\n",
       "      <td>Bruno Mars</td>\n",
       "      <td>pop</td>\n",
       "      <td>2010</td>\n",
       "      <td>109</td>\n",
       "      <td>84</td>\n",
       "      <td>64</td>\n",
       "      <td>-5</td>\n",
       "      <td>9</td>\n",
       "      <td>43</td>\n",
       "      <td>221</td>\n",
       "      <td>2</td>\n",
       "      <td>4</td>\n",
       "      <td>78</td>\n",
       "    </tr>\n",
       "  </tbody>\n",
       "</table>\n",
       "</div>"
      ],
      "text/plain": [
       "   Unnamed: 0                 title      artist        top genre  year  bpm  \\\n",
       "0           1      Hey, Soul Sister       Train       neo mellow  2010   97   \n",
       "1           2  Love The Way You Lie      Eminem  detroit hip hop  2010   87   \n",
       "2           3               TiK ToK       Kesha        dance pop  2010  120   \n",
       "3           4           Bad Romance   Lady Gaga        dance pop  2010  119   \n",
       "4           5  Just the Way You Are  Bruno Mars              pop  2010  109   \n",
       "\n",
       "   nrgy  dnce  dB  live  val  dur  acous  spch  pop  \n",
       "0    89    67  -4     8   80  217     19     4   83  \n",
       "1    93    75  -5    52   64  263     24    23   82  \n",
       "2    84    76  -3    29   71  200     10    14   80  \n",
       "3    92    70  -4     8   71  295      0     4   79  \n",
       "4    84    64  -5     9   43  221      2     4   78  "
      ]
     },
     "execution_count": 620,
     "metadata": {},
     "output_type": "execute_result"
    }
   ],
   "source": [
    "spotify_df = pd.read_csv('top10s.csv', encoding='latin-1')\n",
    "spotify_df.head()"
   ]
  },
  {
   "cell_type": "code",
   "execution_count": 621,
   "metadata": {},
   "outputs": [
    {
     "name": "stdout",
     "output_type": "stream",
     "text": [
      "Unnamed: 0    0\n",
      "title         0\n",
      "artist        0\n",
      "top genre     0\n",
      "year          0\n",
      "bpm           0\n",
      "nrgy          0\n",
      "dnce          0\n",
      "dB            0\n",
      "live          0\n",
      "val           0\n",
      "dur           0\n",
      "acous         0\n",
      "spch          0\n",
      "pop           0\n",
      "dtype: int64\n"
     ]
    }
   ],
   "source": [
    "# checking if any null values are present\n",
    "print(spotify_df.isnull().sum())"
   ]
  },
  {
   "cell_type": "code",
   "execution_count": 622,
   "metadata": {},
   "outputs": [
    {
     "data": {
      "text/plain": [
       "Unnamed: 0     int64\n",
       "title         object\n",
       "artist        object\n",
       "top genre     object\n",
       "year           int64\n",
       "bpm            int64\n",
       "nrgy           int64\n",
       "dnce           int64\n",
       "dB             int64\n",
       "live           int64\n",
       "val            int64\n",
       "dur            int64\n",
       "acous          int64\n",
       "spch           int64\n",
       "pop            int64\n",
       "dtype: object"
      ]
     },
     "execution_count": 622,
     "metadata": {},
     "output_type": "execute_result"
    }
   ],
   "source": [
    "spotify_df.dtypes"
   ]
  },
  {
   "cell_type": "code",
   "execution_count": 623,
   "metadata": {},
   "outputs": [
    {
     "name": "stdout",
     "output_type": "stream",
     "text": [
      "(587, 15)\n"
     ]
    }
   ],
   "source": [
    "spotify_df.drop_duplicates(subset=['title','artist'],inplace=True)\n",
    "spotify_df.drop(spotify_df[spotify_df['title'] == 'Adele'].index, inplace=True)\n",
    "print(spotify_df.shape)"
   ]
  },
  {
   "cell_type": "code",
   "execution_count": 624,
   "metadata": {},
   "outputs": [
    {
     "data": {
      "text/html": [
       "<div>\n",
       "<style scoped>\n",
       "    .dataframe tbody tr th:only-of-type {\n",
       "        vertical-align: middle;\n",
       "    }\n",
       "\n",
       "    .dataframe tbody tr th {\n",
       "        vertical-align: top;\n",
       "    }\n",
       "\n",
       "    .dataframe thead th {\n",
       "        text-align: right;\n",
       "    }\n",
       "</style>\n",
       "<table border=\"1\" class=\"dataframe\">\n",
       "  <thead>\n",
       "    <tr style=\"text-align: right;\">\n",
       "      <th></th>\n",
       "      <th>Unnamed: 0</th>\n",
       "      <th>title</th>\n",
       "      <th>artist</th>\n",
       "      <th>genre</th>\n",
       "      <th>year</th>\n",
       "      <th>bpm</th>\n",
       "      <th>nrgy</th>\n",
       "      <th>dnce</th>\n",
       "      <th>dB</th>\n",
       "      <th>live</th>\n",
       "      <th>val</th>\n",
       "      <th>dur</th>\n",
       "      <th>acous</th>\n",
       "      <th>spch</th>\n",
       "      <th>popularity</th>\n",
       "    </tr>\n",
       "  </thead>\n",
       "  <tbody>\n",
       "    <tr>\n",
       "      <th>0</th>\n",
       "      <td>1</td>\n",
       "      <td>Hey, Soul Sister</td>\n",
       "      <td>Train</td>\n",
       "      <td>neo mellow</td>\n",
       "      <td>2010</td>\n",
       "      <td>97</td>\n",
       "      <td>89</td>\n",
       "      <td>67</td>\n",
       "      <td>-4</td>\n",
       "      <td>8</td>\n",
       "      <td>80</td>\n",
       "      <td>217</td>\n",
       "      <td>19</td>\n",
       "      <td>4</td>\n",
       "      <td>83</td>\n",
       "    </tr>\n",
       "    <tr>\n",
       "      <th>1</th>\n",
       "      <td>2</td>\n",
       "      <td>Love The Way You Lie</td>\n",
       "      <td>Eminem</td>\n",
       "      <td>detroit hip hop</td>\n",
       "      <td>2010</td>\n",
       "      <td>87</td>\n",
       "      <td>93</td>\n",
       "      <td>75</td>\n",
       "      <td>-5</td>\n",
       "      <td>52</td>\n",
       "      <td>64</td>\n",
       "      <td>263</td>\n",
       "      <td>24</td>\n",
       "      <td>23</td>\n",
       "      <td>82</td>\n",
       "    </tr>\n",
       "    <tr>\n",
       "      <th>2</th>\n",
       "      <td>3</td>\n",
       "      <td>TiK ToK</td>\n",
       "      <td>Kesha</td>\n",
       "      <td>dance pop</td>\n",
       "      <td>2010</td>\n",
       "      <td>120</td>\n",
       "      <td>84</td>\n",
       "      <td>76</td>\n",
       "      <td>-3</td>\n",
       "      <td>29</td>\n",
       "      <td>71</td>\n",
       "      <td>200</td>\n",
       "      <td>10</td>\n",
       "      <td>14</td>\n",
       "      <td>80</td>\n",
       "    </tr>\n",
       "    <tr>\n",
       "      <th>3</th>\n",
       "      <td>4</td>\n",
       "      <td>Bad Romance</td>\n",
       "      <td>Lady Gaga</td>\n",
       "      <td>dance pop</td>\n",
       "      <td>2010</td>\n",
       "      <td>119</td>\n",
       "      <td>92</td>\n",
       "      <td>70</td>\n",
       "      <td>-4</td>\n",
       "      <td>8</td>\n",
       "      <td>71</td>\n",
       "      <td>295</td>\n",
       "      <td>0</td>\n",
       "      <td>4</td>\n",
       "      <td>79</td>\n",
       "    </tr>\n",
       "    <tr>\n",
       "      <th>4</th>\n",
       "      <td>5</td>\n",
       "      <td>Just the Way You Are</td>\n",
       "      <td>Bruno Mars</td>\n",
       "      <td>pop</td>\n",
       "      <td>2010</td>\n",
       "      <td>109</td>\n",
       "      <td>84</td>\n",
       "      <td>64</td>\n",
       "      <td>-5</td>\n",
       "      <td>9</td>\n",
       "      <td>43</td>\n",
       "      <td>221</td>\n",
       "      <td>2</td>\n",
       "      <td>4</td>\n",
       "      <td>78</td>\n",
       "    </tr>\n",
       "  </tbody>\n",
       "</table>\n",
       "</div>"
      ],
      "text/plain": [
       "   Unnamed: 0                 title      artist            genre  year  bpm  \\\n",
       "0           1      Hey, Soul Sister       Train       neo mellow  2010   97   \n",
       "1           2  Love The Way You Lie      Eminem  detroit hip hop  2010   87   \n",
       "2           3               TiK ToK       Kesha        dance pop  2010  120   \n",
       "3           4           Bad Romance   Lady Gaga        dance pop  2010  119   \n",
       "4           5  Just the Way You Are  Bruno Mars              pop  2010  109   \n",
       "\n",
       "   nrgy  dnce  dB  live  val  dur  acous  spch  popularity  \n",
       "0    89    67  -4     8   80  217     19     4          83  \n",
       "1    93    75  -5    52   64  263     24    23          82  \n",
       "2    84    76  -3    29   71  200     10    14          80  \n",
       "3    92    70  -4     8   71  295      0     4          79  \n",
       "4    84    64  -5     9   43  221      2     4          78  "
      ]
     },
     "execution_count": 624,
     "metadata": {},
     "output_type": "execute_result"
    }
   ],
   "source": [
    "# converting name of column top genre to genre\n",
    "spotify_df = spotify_df.rename(columns={'top genre': 'genre', 'pop': 'popularity'})\n",
    "spotify_df.head()"
   ]
  },
  {
   "cell_type": "code",
   "execution_count": 625,
   "metadata": {},
   "outputs": [
    {
     "data": {
      "text/html": [
       "<div>\n",
       "<style scoped>\n",
       "    .dataframe tbody tr th:only-of-type {\n",
       "        vertical-align: middle;\n",
       "    }\n",
       "\n",
       "    .dataframe tbody tr th {\n",
       "        vertical-align: top;\n",
       "    }\n",
       "\n",
       "    .dataframe thead th {\n",
       "        text-align: right;\n",
       "    }\n",
       "</style>\n",
       "<table border=\"1\" class=\"dataframe\">\n",
       "  <thead>\n",
       "    <tr style=\"text-align: right;\">\n",
       "      <th></th>\n",
       "      <th>genre</th>\n",
       "      <th>year</th>\n",
       "      <th>bpm</th>\n",
       "      <th>nrgy</th>\n",
       "      <th>dnce</th>\n",
       "      <th>dB</th>\n",
       "      <th>live</th>\n",
       "      <th>val</th>\n",
       "      <th>dur</th>\n",
       "      <th>acous</th>\n",
       "      <th>spch</th>\n",
       "      <th>popularity</th>\n",
       "    </tr>\n",
       "  </thead>\n",
       "  <tbody>\n",
       "    <tr>\n",
       "      <th>0</th>\n",
       "      <td>neo mellow</td>\n",
       "      <td>2010</td>\n",
       "      <td>97</td>\n",
       "      <td>89</td>\n",
       "      <td>67</td>\n",
       "      <td>-4</td>\n",
       "      <td>8</td>\n",
       "      <td>80</td>\n",
       "      <td>217</td>\n",
       "      <td>19</td>\n",
       "      <td>4</td>\n",
       "      <td>83</td>\n",
       "    </tr>\n",
       "    <tr>\n",
       "      <th>1</th>\n",
       "      <td>detroit hip hop</td>\n",
       "      <td>2010</td>\n",
       "      <td>87</td>\n",
       "      <td>93</td>\n",
       "      <td>75</td>\n",
       "      <td>-5</td>\n",
       "      <td>52</td>\n",
       "      <td>64</td>\n",
       "      <td>263</td>\n",
       "      <td>24</td>\n",
       "      <td>23</td>\n",
       "      <td>82</td>\n",
       "    </tr>\n",
       "    <tr>\n",
       "      <th>2</th>\n",
       "      <td>dance pop</td>\n",
       "      <td>2010</td>\n",
       "      <td>120</td>\n",
       "      <td>84</td>\n",
       "      <td>76</td>\n",
       "      <td>-3</td>\n",
       "      <td>29</td>\n",
       "      <td>71</td>\n",
       "      <td>200</td>\n",
       "      <td>10</td>\n",
       "      <td>14</td>\n",
       "      <td>80</td>\n",
       "    </tr>\n",
       "    <tr>\n",
       "      <th>3</th>\n",
       "      <td>dance pop</td>\n",
       "      <td>2010</td>\n",
       "      <td>119</td>\n",
       "      <td>92</td>\n",
       "      <td>70</td>\n",
       "      <td>-4</td>\n",
       "      <td>8</td>\n",
       "      <td>71</td>\n",
       "      <td>295</td>\n",
       "      <td>0</td>\n",
       "      <td>4</td>\n",
       "      <td>79</td>\n",
       "    </tr>\n",
       "    <tr>\n",
       "      <th>4</th>\n",
       "      <td>pop</td>\n",
       "      <td>2010</td>\n",
       "      <td>109</td>\n",
       "      <td>84</td>\n",
       "      <td>64</td>\n",
       "      <td>-5</td>\n",
       "      <td>9</td>\n",
       "      <td>43</td>\n",
       "      <td>221</td>\n",
       "      <td>2</td>\n",
       "      <td>4</td>\n",
       "      <td>78</td>\n",
       "    </tr>\n",
       "  </tbody>\n",
       "</table>\n",
       "</div>"
      ],
      "text/plain": [
       "             genre  year  bpm  nrgy  dnce  dB  live  val  dur  acous  spch  \\\n",
       "0       neo mellow  2010   97    89    67  -4     8   80  217     19     4   \n",
       "1  detroit hip hop  2010   87    93    75  -5    52   64  263     24    23   \n",
       "2        dance pop  2010  120    84    76  -3    29   71  200     10    14   \n",
       "3        dance pop  2010  119    92    70  -4     8   71  295      0     4   \n",
       "4              pop  2010  109    84    64  -5     9   43  221      2     4   \n",
       "\n",
       "   popularity  \n",
       "0          83  \n",
       "1          82  \n",
       "2          80  \n",
       "3          79  \n",
       "4          78  "
      ]
     },
     "execution_count": 625,
     "metadata": {},
     "output_type": "execute_result"
    }
   ],
   "source": [
    "# getting columns from spotify_df from bpm to artist_type via loc\n",
    "spotify_features = spotify_df\n",
    "\n",
    "spotify_features.drop(['title', 'Unnamed: 0', 'artist'], axis=1, inplace=True)\n",
    "spotify_features.head()\n"
   ]
  },
  {
   "cell_type": "code",
   "execution_count": 626,
   "metadata": {},
   "outputs": [
    {
     "data": {
      "text/html": [
       "<div>\n",
       "<style scoped>\n",
       "    .dataframe tbody tr th:only-of-type {\n",
       "        vertical-align: middle;\n",
       "    }\n",
       "\n",
       "    .dataframe tbody tr th {\n",
       "        vertical-align: top;\n",
       "    }\n",
       "\n",
       "    .dataframe thead th {\n",
       "        text-align: right;\n",
       "    }\n",
       "</style>\n",
       "<table border=\"1\" class=\"dataframe\">\n",
       "  <thead>\n",
       "    <tr style=\"text-align: right;\">\n",
       "      <th></th>\n",
       "      <th>year</th>\n",
       "      <th>bpm</th>\n",
       "      <th>nrgy</th>\n",
       "      <th>dnce</th>\n",
       "      <th>dB</th>\n",
       "      <th>live</th>\n",
       "      <th>val</th>\n",
       "      <th>dur</th>\n",
       "      <th>acous</th>\n",
       "      <th>spch</th>\n",
       "      <th>popularity</th>\n",
       "    </tr>\n",
       "  </thead>\n",
       "  <tbody>\n",
       "    <tr>\n",
       "      <th>year</th>\n",
       "      <td>1.000000</td>\n",
       "      <td>-0.111745</td>\n",
       "      <td>-0.217307</td>\n",
       "      <td>0.080448</td>\n",
       "      <td>-0.122844</td>\n",
       "      <td>-0.138404</td>\n",
       "      <td>-0.124887</td>\n",
       "      <td>-0.212110</td>\n",
       "      <td>0.096947</td>\n",
       "      <td>0.010335</td>\n",
       "      <td>0.239412</td>\n",
       "    </tr>\n",
       "    <tr>\n",
       "      <th>bpm</th>\n",
       "      <td>-0.111745</td>\n",
       "      <td>1.000000</td>\n",
       "      <td>0.133059</td>\n",
       "      <td>-0.137997</td>\n",
       "      <td>0.185836</td>\n",
       "      <td>0.083027</td>\n",
       "      <td>0.021445</td>\n",
       "      <td>-0.027561</td>\n",
       "      <td>-0.120706</td>\n",
       "      <td>0.080574</td>\n",
       "      <td>0.016044</td>\n",
       "    </tr>\n",
       "    <tr>\n",
       "      <th>nrgy</th>\n",
       "      <td>-0.217307</td>\n",
       "      <td>0.133059</td>\n",
       "      <td>1.000000</td>\n",
       "      <td>0.177081</td>\n",
       "      <td>0.539962</td>\n",
       "      <td>0.191469</td>\n",
       "      <td>0.418473</td>\n",
       "      <td>-0.143350</td>\n",
       "      <td>-0.554741</td>\n",
       "      <td>0.123890</td>\n",
       "      <td>-0.049752</td>\n",
       "    </tr>\n",
       "    <tr>\n",
       "      <th>dnce</th>\n",
       "      <td>0.080448</td>\n",
       "      <td>-0.137997</td>\n",
       "      <td>0.177081</td>\n",
       "      <td>1.000000</td>\n",
       "      <td>0.239853</td>\n",
       "      <td>-0.017635</td>\n",
       "      <td>0.496843</td>\n",
       "      <td>-0.176336</td>\n",
       "      <td>-0.246730</td>\n",
       "      <td>-0.017383</td>\n",
       "      <td>0.117833</td>\n",
       "    </tr>\n",
       "    <tr>\n",
       "      <th>dB</th>\n",
       "      <td>-0.122844</td>\n",
       "      <td>0.185836</td>\n",
       "      <td>0.539962</td>\n",
       "      <td>0.239853</td>\n",
       "      <td>1.000000</td>\n",
       "      <td>0.084294</td>\n",
       "      <td>0.290516</td>\n",
       "      <td>-0.107179</td>\n",
       "      <td>-0.188652</td>\n",
       "      <td>0.010517</td>\n",
       "      <td>0.164181</td>\n",
       "    </tr>\n",
       "    <tr>\n",
       "      <th>live</th>\n",
       "      <td>-0.138404</td>\n",
       "      <td>0.083027</td>\n",
       "      <td>0.191469</td>\n",
       "      <td>-0.017635</td>\n",
       "      <td>0.084294</td>\n",
       "      <td>1.000000</td>\n",
       "      <td>0.031468</td>\n",
       "      <td>0.095174</td>\n",
       "      <td>-0.105017</td>\n",
       "      <td>0.138595</td>\n",
       "      <td>-0.073269</td>\n",
       "    </tr>\n",
       "    <tr>\n",
       "      <th>val</th>\n",
       "      <td>-0.124887</td>\n",
       "      <td>0.021445</td>\n",
       "      <td>0.418473</td>\n",
       "      <td>0.496843</td>\n",
       "      <td>0.290516</td>\n",
       "      <td>0.031468</td>\n",
       "      <td>1.000000</td>\n",
       "      <td>-0.265264</td>\n",
       "      <td>-0.252798</td>\n",
       "      <td>0.127015</td>\n",
       "      <td>0.043589</td>\n",
       "    </tr>\n",
       "    <tr>\n",
       "      <th>dur</th>\n",
       "      <td>-0.212110</td>\n",
       "      <td>-0.027561</td>\n",
       "      <td>-0.143350</td>\n",
       "      <td>-0.176336</td>\n",
       "      <td>-0.107179</td>\n",
       "      <td>0.095174</td>\n",
       "      <td>-0.265264</td>\n",
       "      <td>1.000000</td>\n",
       "      <td>0.085115</td>\n",
       "      <td>0.034510</td>\n",
       "      <td>-0.099943</td>\n",
       "    </tr>\n",
       "    <tr>\n",
       "      <th>acous</th>\n",
       "      <td>0.096947</td>\n",
       "      <td>-0.120706</td>\n",
       "      <td>-0.554741</td>\n",
       "      <td>-0.246730</td>\n",
       "      <td>-0.188652</td>\n",
       "      <td>-0.105017</td>\n",
       "      <td>-0.252798</td>\n",
       "      <td>0.085115</td>\n",
       "      <td>1.000000</td>\n",
       "      <td>-0.018135</td>\n",
       "      <td>0.019930</td>\n",
       "    </tr>\n",
       "    <tr>\n",
       "      <th>spch</th>\n",
       "      <td>0.010335</td>\n",
       "      <td>0.080574</td>\n",
       "      <td>0.123890</td>\n",
       "      <td>-0.017383</td>\n",
       "      <td>0.010517</td>\n",
       "      <td>0.138595</td>\n",
       "      <td>0.127015</td>\n",
       "      <td>0.034510</td>\n",
       "      <td>-0.018135</td>\n",
       "      <td>1.000000</td>\n",
       "      <td>-0.041668</td>\n",
       "    </tr>\n",
       "    <tr>\n",
       "      <th>popularity</th>\n",
       "      <td>0.239412</td>\n",
       "      <td>0.016044</td>\n",
       "      <td>-0.049752</td>\n",
       "      <td>0.117833</td>\n",
       "      <td>0.164181</td>\n",
       "      <td>-0.073269</td>\n",
       "      <td>0.043589</td>\n",
       "      <td>-0.099943</td>\n",
       "      <td>0.019930</td>\n",
       "      <td>-0.041668</td>\n",
       "      <td>1.000000</td>\n",
       "    </tr>\n",
       "  </tbody>\n",
       "</table>\n",
       "</div>"
      ],
      "text/plain": [
       "                year       bpm      nrgy      dnce        dB      live  \\\n",
       "year        1.000000 -0.111745 -0.217307  0.080448 -0.122844 -0.138404   \n",
       "bpm        -0.111745  1.000000  0.133059 -0.137997  0.185836  0.083027   \n",
       "nrgy       -0.217307  0.133059  1.000000  0.177081  0.539962  0.191469   \n",
       "dnce        0.080448 -0.137997  0.177081  1.000000  0.239853 -0.017635   \n",
       "dB         -0.122844  0.185836  0.539962  0.239853  1.000000  0.084294   \n",
       "live       -0.138404  0.083027  0.191469 -0.017635  0.084294  1.000000   \n",
       "val        -0.124887  0.021445  0.418473  0.496843  0.290516  0.031468   \n",
       "dur        -0.212110 -0.027561 -0.143350 -0.176336 -0.107179  0.095174   \n",
       "acous       0.096947 -0.120706 -0.554741 -0.246730 -0.188652 -0.105017   \n",
       "spch        0.010335  0.080574  0.123890 -0.017383  0.010517  0.138595   \n",
       "popularity  0.239412  0.016044 -0.049752  0.117833  0.164181 -0.073269   \n",
       "\n",
       "                 val       dur     acous      spch  popularity  \n",
       "year       -0.124887 -0.212110  0.096947  0.010335    0.239412  \n",
       "bpm         0.021445 -0.027561 -0.120706  0.080574    0.016044  \n",
       "nrgy        0.418473 -0.143350 -0.554741  0.123890   -0.049752  \n",
       "dnce        0.496843 -0.176336 -0.246730 -0.017383    0.117833  \n",
       "dB          0.290516 -0.107179 -0.188652  0.010517    0.164181  \n",
       "live        0.031468  0.095174 -0.105017  0.138595   -0.073269  \n",
       "val         1.000000 -0.265264 -0.252798  0.127015    0.043589  \n",
       "dur        -0.265264  1.000000  0.085115  0.034510   -0.099943  \n",
       "acous      -0.252798  0.085115  1.000000 -0.018135    0.019930  \n",
       "spch        0.127015  0.034510 -0.018135  1.000000   -0.041668  \n",
       "popularity  0.043589 -0.099943  0.019930 -0.041668    1.000000  "
      ]
     },
     "execution_count": 626,
     "metadata": {},
     "output_type": "execute_result"
    }
   ],
   "source": [
    "# checking correlation table\n",
    "spotify_features.corr(method='pearson')"
   ]
  },
  {
   "cell_type": "code",
   "execution_count": 627,
   "metadata": {},
   "outputs": [],
   "source": [
    "from sklearn import preprocessing\n",
    "# le_artist = preprocessing.LabelEncoder()\n",
    "# le_artist.fit(spotify_features['artist'])\n",
    "# spotify_features['artist'] = le_artist.transform(spotify_features['artist'])\n",
    "\n",
    "le_genre = preprocessing.LabelEncoder()\n",
    "le_genre.fit(spotify_features['genre'])\n",
    "spotify_features['genre'] = le_genre.transform(spotify_features['genre'])\n"
   ]
  },
  {
   "cell_type": "code",
   "execution_count": 628,
   "metadata": {},
   "outputs": [
    {
     "name": "stdout",
     "output_type": "stream",
     "text": [
      "   genre  year  bpm  nrgy  dnce  dB  live  val  dur  acous  spch\n",
      "0     46  2010   97    89    67  -4     8   80  217     19     4\n",
      "1     27  2010   87    93    75  -5    52   64  263     24    23\n",
      "2     25  2010  120    84    76  -3    29   71  200     10    14\n",
      "3     25  2010  119    92    70  -4     8   71  295      0     4\n",
      "4     48  2010  109    84    64  -5     9   43  221      2     4\n"
     ]
    }
   ],
   "source": [
    "# splitting spotify_features into dependent and independent variables\n",
    "spotify_features_x = spotify_features.drop(['popularity'], axis=1)\n",
    "spotify_features_y = spotify_features['popularity']\n",
    "print(spotify_features_x.head())"
   ]
  },
  {
   "cell_type": "code",
   "execution_count": 629,
   "metadata": {},
   "outputs": [
    {
     "data": {
      "image/png": "[encoded data removed]",
      "text/plain": [
       "<Figure size 864x432 with 1 Axes>"
      ]
     },
     "metadata": {
      "needs_background": "light"
     },
     "output_type": "display_data"
    }
   ],
   "source": [
    "# Visulaizing the data before normalization\n",
    "fig = plt.figure(figsize=(12,6))\n",
    "plt.boxplot(spotify_features_x)\n",
    "plt.show()"
   ]
  },
  {
   "cell_type": "code",
   "execution_count": 630,
   "metadata": {},
   "outputs": [
    {
     "data": {
      "text/html": [
       "<div>\n",
       "<style scoped>\n",
       "    .dataframe tbody tr th:only-of-type {\n",
       "        vertical-align: middle;\n",
       "    }\n",
       "\n",
       "    .dataframe tbody tr th {\n",
       "        vertical-align: top;\n",
       "    }\n",
       "\n",
       "    .dataframe thead th {\n",
       "        text-align: right;\n",
       "    }\n",
       "</style>\n",
       "<table border=\"1\" class=\"dataframe\">\n",
       "  <thead>\n",
       "    <tr style=\"text-align: right;\">\n",
       "      <th></th>\n",
       "      <th>genre</th>\n",
       "      <th>year</th>\n",
       "      <th>bpm</th>\n",
       "      <th>nrgy</th>\n",
       "      <th>dnce</th>\n",
       "      <th>dB</th>\n",
       "      <th>live</th>\n",
       "      <th>val</th>\n",
       "      <th>dur</th>\n",
       "      <th>acous</th>\n",
       "      <th>spch</th>\n",
       "    </tr>\n",
       "  </thead>\n",
       "  <tbody>\n",
       "    <tr>\n",
       "      <th>0</th>\n",
       "      <td>46</td>\n",
       "      <td>0.0</td>\n",
       "      <td>0.470874</td>\n",
       "      <td>0.908163</td>\n",
       "      <td>0.690722</td>\n",
       "      <td>0.965517</td>\n",
       "      <td>0.108108</td>\n",
       "      <td>0.816327</td>\n",
       "      <td>0.286207</td>\n",
       "      <td>0.191919</td>\n",
       "      <td>0.083333</td>\n",
       "    </tr>\n",
       "    <tr>\n",
       "      <th>1</th>\n",
       "      <td>27</td>\n",
       "      <td>0.0</td>\n",
       "      <td>0.422330</td>\n",
       "      <td>0.948980</td>\n",
       "      <td>0.773196</td>\n",
       "      <td>0.948276</td>\n",
       "      <td>0.702703</td>\n",
       "      <td>0.653061</td>\n",
       "      <td>0.444828</td>\n",
       "      <td>0.242424</td>\n",
       "      <td>0.479167</td>\n",
       "    </tr>\n",
       "  </tbody>\n",
       "</table>\n",
       "</div>"
      ],
      "text/plain": [
       "   genre  year       bpm      nrgy      dnce        dB      live       val  \\\n",
       "0     46   0.0  0.470874  0.908163  0.690722  0.965517  0.108108  0.816327   \n",
       "1     27   0.0  0.422330  0.948980  0.773196  0.948276  0.702703  0.653061   \n",
       "\n",
       "        dur     acous      spch  \n",
       "0  0.286207  0.191919  0.083333  \n",
       "1  0.444828  0.242424  0.479167  "
      ]
     },
     "execution_count": 630,
     "metadata": {},
     "output_type": "execute_result"
    }
   ],
   "source": [
    "# normalizing spotify_features using min_max scaler\n",
    "from sklearn import preprocessing\n",
    "scaler = preprocessing.MinMaxScaler()\n",
    "spotify_features_scaled_x = spotify_features_x\n",
    "spotify_features_scaled_x.loc[:,'year':'spch'] = scaler.fit_transform(spotify_features_x.loc[:,'year':'spch'])\n",
    "spotify_features_scaled_x[0:2]"
   ]
  },
  {
   "cell_type": "code",
   "execution_count": 631,
   "metadata": {},
   "outputs": [
    {
     "data": {
      "image/png": "[encoded data removed]",
      "text/plain": [
       "<Figure size 864x432 with 1 Axes>"
      ]
     },
     "metadata": {
      "needs_background": "light"
     },
     "output_type": "display_data"
    }
   ],
   "source": [
    "# after normalization of data using min_max scaler\n",
    "# xticks_values = [0,'artist', 'genre', 'year', 'bpm', 'nrgy', 'dnce', 'dB', 'live', 'val', 'dur', 'acous', 'spch', 'artist_type']\n",
    "# print(len(xticks_values))\n",
    "fig = plt.figure(figsize=(12,6))\n",
    "plt.boxplot(spotify_features_scaled_x)\n",
    "# plt.xticks(range(0,len(xticks_values)), xticks_values)\n",
    "plt.show()\n"
   ]
  },
  {
   "cell_type": "code",
   "execution_count": 632,
   "metadata": {},
   "outputs": [
    {
     "name": "stdout",
     "output_type": "stream",
     "text": [
      "   genre  year       bpm      nrgy      dnce        dB      live       val  \\\n",
      "0     46   0.0  0.470874  0.908163  0.690722  0.965517  0.108108  0.816327   \n",
      "1     27   0.0  0.422330  0.948980  0.773196  0.948276  0.702703  0.653061   \n",
      "\n",
      "        dur     acous      spch  \n",
      "0  0.286207  0.191919  0.083333  \n",
      "1  0.444828  0.242424  0.479167  \n"
     ]
    }
   ],
   "source": [
    "spotify_features_x_np = spotify_features_scaled_x\n",
    "print(spotify_features_x_np[0:2])"
   ]
  },
  {
   "cell_type": "code",
   "execution_count": 633,
   "metadata": {},
   "outputs": [
    {
     "data": {
      "text/plain": [
       "array([1, 1, 1, 1, 1])"
      ]
     },
     "execution_count": 633,
     "metadata": {},
     "output_type": "execute_result"
    }
   ],
   "source": [
    "spotify_features_y = np.where(spotify_features_y >= 66, 1, 0)\n",
    "spotify_features_y[0:5]"
   ]
  },
  {
   "cell_type": "code",
   "execution_count": 634,
   "metadata": {},
   "outputs": [
    {
     "data": {
      "text/plain": [
       "array([1, 1, 1, 1, 1])"
      ]
     },
     "execution_count": 634,
     "metadata": {},
     "output_type": "execute_result"
    }
   ],
   "source": [
    "spotify_features_scaled_y = scaler.fit_transform(spotify_features_y.reshape(-1,1))\n",
    "spotify_features_scaled_y[0:2]\n",
    "\n",
    "spotify_features_y_np = spotify_features_y\n",
    "spotify_features_y_np[0:5]"
   ]
  },
  {
   "cell_type": "code",
   "execution_count": 635,
   "metadata": {},
   "outputs": [
    {
     "name": "stdout",
     "output_type": "stream",
     "text": [
      "   genre  year       bpm      nrgy      dnce        dB      live       val  \\\n",
      "0     46   0.0  0.470874  0.908163  0.690722  0.965517  0.108108  0.816327   \n",
      "1     27   0.0  0.422330  0.948980  0.773196  0.948276  0.702703  0.653061   \n",
      "\n",
      "        dur     acous      spch  \n",
      "0  0.286207  0.191919  0.083333  \n",
      "1  0.444828  0.242424  0.479167  \n",
      "[1 1]\n"
     ]
    }
   ],
   "source": [
    "print(spotify_features_x_np[0:2])\n",
    "print(spotify_features_y_np[0:2])\n"
   ]
  },
  {
   "cell_type": "code",
   "execution_count": 636,
   "metadata": {},
   "outputs": [],
   "source": [
    "from sklearn.model_selection import train_test_split\n",
    "x_train_knn, x_test_knn, y_train_knn, y_test_knn = train_test_split(spotify_features_x_np, spotify_features_y_np, test_size=0.45, random_state=42)"
   ]
  },
  {
   "cell_type": "code",
   "execution_count": 637,
   "metadata": {},
   "outputs": [
    {
     "data": {
      "text/plain": [
       "KNeighborsClassifier(n_neighbors=9)"
      ]
     },
     "execution_count": 637,
     "metadata": {},
     "output_type": "execute_result"
    }
   ],
   "source": [
    "from sklearn.neighbors import KNeighborsClassifier\n",
    "n = KNeighborsClassifier(n_neighbors=9).fit(x_train_knn, y_train_knn)\n",
    "n"
   ]
  },
  {
   "cell_type": "code",
   "execution_count": 638,
   "metadata": {},
   "outputs": [
    {
     "name": "stdout",
     "output_type": "stream",
     "text": [
      "[1 1 1 1 1 0 1 0 1 1 1 1 1 1 1 1 1 0 1 0]\n",
      "[1 1 1 0 1 0 1 0 0 1 0 1 1 0 0 1 1 1 1 0]\n"
     ]
    }
   ],
   "source": [
    "yhat_pred_knn = n.predict(x_test_knn)\n",
    "print(yhat_pred_knn[0:20])\n",
    "print(y_test_knn[0:20])"
   ]
  },
  {
   "cell_type": "code",
   "execution_count": 639,
   "metadata": {},
   "outputs": [
    {
     "data": {
      "text/plain": [
       "0.6075471698113207"
      ]
     },
     "execution_count": 639,
     "metadata": {},
     "output_type": "execute_result"
    }
   ],
   "source": [
    "from sklearn import metrics\n",
    "metrics.accuracy_score(y_test_knn, yhat_pred_knn)"
   ]
  },
  {
   "cell_type": "code",
   "execution_count": 640,
   "metadata": {},
   "outputs": [
    {
     "name": "stdout",
     "output_type": "stream",
     "text": [
      "[0.58490566 0.56226415 0.5509434  0.55471698 0.5509434  0.56981132\n",
      " 0.56981132 0.58490566 0.60754717 0.57735849 0.58490566 0.58867925\n",
      " 0.6        0.57358491 0.60377358 0.58113208 0.59245283 0.58867925\n",
      " 0.6        0.58867925 0.58867925 0.58490566 0.6        0.58867925\n",
      " 0.60754717 0.59245283 0.60754717 0.60377358 0.60377358]\n",
      "(array([ 8, 24, 26]),)\n"
     ]
    }
   ],
   "source": [
    "ks = 30\n",
    "mean_acc = np.zeros((ks-1))\n",
    "std_acc = np.zeros((ks-1))\n",
    "\n",
    "for n in range(1, ks):\n",
    "    neigh = KNeighborsClassifier(n_neighbors = n).fit(x_train_knn,y_train_knn)\n",
    "    yhat = neigh.predict(x_test_knn)\n",
    "    mean_acc[n-1] = metrics.accuracy_score(y_test_knn,yhat)\n",
    "    std_acc[n-1] = np.std(yhat==y_test_knn)/np.sqrt(yhat.shape[0])\n",
    "print(mean_acc)\n",
    "print(np.where(mean_acc == np.max(mean_acc)))"
   ]
  },
  {
   "cell_type": "code",
   "execution_count": 641,
   "metadata": {},
   "outputs": [
    {
     "name": "stdout",
     "output_type": "stream",
     "text": [
      "[[ 36  70]\n",
      " [ 34 125]]\n"
     ]
    }
   ],
   "source": [
    "cm_knn = confusion_matrix(y_test_knn, yhat_pred_knn)\n",
    "print(cm_knn)"
   ]
  },
  {
   "cell_type": "code",
   "execution_count": 642,
   "metadata": {},
   "outputs": [
    {
     "name": "stdout",
     "output_type": "stream",
     "text": [
      "Classification Report: \n",
      "               precision    recall  f1-score   support\n",
      "\n",
      "           0       0.51      0.34      0.41       106\n",
      "           1       0.64      0.79      0.71       159\n",
      "\n",
      "    accuracy                           0.61       265\n",
      "   macro avg       0.58      0.56      0.56       265\n",
      "weighted avg       0.59      0.61      0.59       265\n",
      "\n"
     ]
    }
   ],
   "source": [
    "print('Classification Report: \\n', metrics.classification_report(y_test_knn, yhat_pred_knn))"
   ]
  },
  {
   "cell_type": "code",
   "execution_count": 643,
   "metadata": {},
   "outputs": [],
   "source": [
    "error_rate = []\n",
    "for i in range(1,40):\n",
    "    Obj = KNeighborsClassifier(n_neighbors = i)\n",
    "    Obj.fit(x_train_knn,y_train_knn)\n",
    "    pred_i = Obj.predict(x_test_knn)\n",
    "    error_rate.append(np.mean(pred_i != y_test_knn))\n"
   ]
  },
  {
   "cell_type": "code",
   "execution_count": 644,
   "metadata": {},
   "outputs": [
    {
     "data": {
      "text/plain": [
       "Text(0, 0.5, 'Error Rate')"
      ]
     },
     "execution_count": 644,
     "metadata": {},
     "output_type": "execute_result"
    },
    {
     "data": {
      "image/png": "[encoded data removed]",
      "text/plain": [
       "<Figure size 720x432 with 1 Axes>"
      ]
     },
     "metadata": {
      "needs_background": "light"
     },
     "output_type": "display_data"
    }
   ],
   "source": [
    "plt.figure(figsize=(10,6))\n",
    "plt.plot(range(1,40),error_rate,color='red',linestyle='dashed',marker='o',markerfacecolor='blue',markersize=10)\n",
    "plt.title('Error Rate vs K Value')\n",
    "plt.xlabel('K')\n",
    "plt.ylabel('Error Rate')"
   ]
  },
  {
   "cell_type": "code",
   "execution_count": 645,
   "metadata": {},
   "outputs": [
    {
     "data": {
      "text/plain": [
       "array([0.50847458, 0.49152542, 0.40677966, 0.52542373, 0.54237288,\n",
       "       0.59322034, 0.52542373, 0.56896552, 0.56896552, 0.62068966])"
      ]
     },
     "execution_count": 645,
     "metadata": {},
     "output_type": "execute_result"
    }
   ],
   "source": [
    "from sklearn.model_selection import cross_val_score\n",
    "knn = KNeighborsClassifier(n_neighbors=7)\n",
    "scores = cross_val_score(knn, spotify_features_x_np, spotify_features_y_np, cv=10)\n",
    "scores"
   ]
  },
  {
   "cell_type": "code",
   "execution_count": 646,
   "metadata": {},
   "outputs": [
    {
     "name": "stdout",
     "output_type": "stream",
     "text": [
      "0.54 accuracy with a standard deviation of 0.06\n"
     ]
    }
   ],
   "source": [
    "print('%.2f accuracy with a standard deviation of %.2f' % (np.mean(scores), np.std(scores)))"
   ]
  },
  {
   "cell_type": "code",
   "execution_count": 647,
   "metadata": {},
   "outputs": [],
   "source": [
    "from sklearn.model_selection import cross_val_predict\n",
    "yhat_pred_knn_cross_val = cross_val_predict(knn, spotify_features_x_np, spotify_features_y_np, cv=10)"
   ]
  },
  {
   "cell_type": "code",
   "execution_count": 648,
   "metadata": {},
   "outputs": [
    {
     "data": {
      "text/plain": [
       "0.534923339011925"
      ]
     },
     "execution_count": 648,
     "metadata": {},
     "output_type": "execute_result"
    }
   ],
   "source": [
    "metrics.accuracy_score(spotify_features_y, yhat_pred_knn_cross_val)"
   ]
  },
  {
   "cell_type": "code",
   "execution_count": 649,
   "metadata": {},
   "outputs": [
    {
     "name": "stdout",
     "output_type": "stream",
     "text": [
      "[[ 79 149]\n",
      " [124 235]]\n"
     ]
    }
   ],
   "source": [
    "cm_cross_val_score = confusion_matrix(spotify_features_y, yhat_pred_knn_cross_val)\n",
    "print(cm_cross_val_score)"
   ]
  },
  {
   "cell_type": "code",
   "execution_count": 650,
   "metadata": {},
   "outputs": [
    {
     "name": "stdout",
     "output_type": "stream",
     "text": [
      "Classification Report: \n",
      "               precision    recall  f1-score   support\n",
      "\n",
      "           0       0.39      0.35      0.37       228\n",
      "           1       0.61      0.65      0.63       359\n",
      "\n",
      "    accuracy                           0.53       587\n",
      "   macro avg       0.50      0.50      0.50       587\n",
      "weighted avg       0.53      0.53      0.53       587\n",
      "\n"
     ]
    }
   ],
   "source": [
    "print('Classification Report: \\n', metrics.classification_report(spotify_features_y, yhat_pred_knn_cross_val))"
   ]
  }
 ],
 "metadata": {
  "interpreter": {
   "hash": "aee8b7b246df8f9039afb4144a1f6fd8d2ca17a180786b69acc140d282b71a49"
  },
  "kernelspec": {
   "display_name": "Python 3.10.4 64-bit",
   "language": "python",
   "name": "python3"
  },
  "language_info": {
   "codemirror_mode": {
    "name": "ipython",
    "version": 3
   },
   "file_extension": ".py",
   "mimetype": "text/x-python",
   "name": "python",
   "nbconvert_exporter": "python",
   "pygments_lexer": "ipython3",
   "version": "3.10.4"
  },
  "orig_nbformat": 4
 },
 "nbformat": 4,
 "nbformat_minor": 2
}
