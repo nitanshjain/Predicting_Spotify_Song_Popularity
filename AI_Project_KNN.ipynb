{
 "cells": [
  {
   "cell_type": "markdown",
   "metadata": {},
   "source": [
    "## AI Project UCS415 \n",
    "#### Finding Popularity of Spotify Songs\n",
    "Predicting which songs will have a popularity score over 75 using KNN \n",
    "\n",
    "Nitansh Jain  102017025"
   ]
  },
  {
   "cell_type": "code",
   "execution_count": 397,
   "metadata": {},
   "outputs": [],
   "source": [
    "import pandas as pd\n",
    "import numpy as np\n",
    "import matplotlib.pyplot as plt\n",
    "import seaborn as sns\n",
    "%matplotlib inline"
   ]
  },
  {
   "cell_type": "code",
   "execution_count": 398,
   "metadata": {},
   "outputs": [
    {
     "data": {
      "text/html": [
       "<div>\n",
       "<style scoped>\n",
       "    .dataframe tbody tr th:only-of-type {\n",
       "        vertical-align: middle;\n",
       "    }\n",
       "\n",
       "    .dataframe tbody tr th {\n",
       "        vertical-align: top;\n",
       "    }\n",
       "\n",
       "    .dataframe thead th {\n",
       "        text-align: right;\n",
       "    }\n",
       "</style>\n",
       "<table border=\"1\" class=\"dataframe\">\n",
       "  <thead>\n",
       "    <tr style=\"text-align: right;\">\n",
       "      <th></th>\n",
       "      <th>title</th>\n",
       "      <th>artist</th>\n",
       "      <th>top genre</th>\n",
       "      <th>year</th>\n",
       "      <th>added</th>\n",
       "      <th>bpm</th>\n",
       "      <th>nrgy</th>\n",
       "      <th>dnce</th>\n",
       "      <th>dB</th>\n",
       "      <th>live</th>\n",
       "      <th>val</th>\n",
       "      <th>dur</th>\n",
       "      <th>acous</th>\n",
       "      <th>spch</th>\n",
       "      <th>top year</th>\n",
       "      <th>artist_type</th>\n",
       "      <th>pop</th>\n",
       "    </tr>\n",
       "  </thead>\n",
       "  <tbody>\n",
       "    <tr>\n",
       "      <th>0</th>\n",
       "      <td>STARSTRUKK (feat. Katy Perry)</td>\n",
       "      <td>3OH!3</td>\n",
       "      <td>dance pop</td>\n",
       "      <td>2009</td>\n",
       "      <td>2022‑02‑17</td>\n",
       "      <td>140</td>\n",
       "      <td>81</td>\n",
       "      <td>61</td>\n",
       "      <td>-6</td>\n",
       "      <td>23</td>\n",
       "      <td>23</td>\n",
       "      <td>203</td>\n",
       "      <td>0</td>\n",
       "      <td>6</td>\n",
       "      <td>2010</td>\n",
       "      <td>Duo</td>\n",
       "      <td>70</td>\n",
       "    </tr>\n",
       "    <tr>\n",
       "      <th>1</th>\n",
       "      <td>My First Kiss (feat. Ke$ha)</td>\n",
       "      <td>3OH!3</td>\n",
       "      <td>dance pop</td>\n",
       "      <td>2010</td>\n",
       "      <td>2022‑02‑17</td>\n",
       "      <td>138</td>\n",
       "      <td>89</td>\n",
       "      <td>68</td>\n",
       "      <td>-4</td>\n",
       "      <td>36</td>\n",
       "      <td>83</td>\n",
       "      <td>192</td>\n",
       "      <td>1</td>\n",
       "      <td>8</td>\n",
       "      <td>2010</td>\n",
       "      <td>Duo</td>\n",
       "      <td>68</td>\n",
       "    </tr>\n",
       "    <tr>\n",
       "      <th>2</th>\n",
       "      <td>I Need A Dollar</td>\n",
       "      <td>Aloe Blacc</td>\n",
       "      <td>pop soul</td>\n",
       "      <td>2010</td>\n",
       "      <td>2022‑02‑17</td>\n",
       "      <td>95</td>\n",
       "      <td>48</td>\n",
       "      <td>84</td>\n",
       "      <td>-7</td>\n",
       "      <td>9</td>\n",
       "      <td>96</td>\n",
       "      <td>243</td>\n",
       "      <td>20</td>\n",
       "      <td>3</td>\n",
       "      <td>2010</td>\n",
       "      <td>Solo</td>\n",
       "      <td>72</td>\n",
       "    </tr>\n",
       "    <tr>\n",
       "      <th>3</th>\n",
       "      <td>Airplanes (feat. Hayley Williams of Paramore)</td>\n",
       "      <td>B.o.B</td>\n",
       "      <td>atl hip hop</td>\n",
       "      <td>2010</td>\n",
       "      <td>2022‑02‑17</td>\n",
       "      <td>93</td>\n",
       "      <td>87</td>\n",
       "      <td>66</td>\n",
       "      <td>-4</td>\n",
       "      <td>4</td>\n",
       "      <td>38</td>\n",
       "      <td>180</td>\n",
       "      <td>11</td>\n",
       "      <td>12</td>\n",
       "      <td>2010</td>\n",
       "      <td>Solo</td>\n",
       "      <td>80</td>\n",
       "    </tr>\n",
       "    <tr>\n",
       "      <th>4</th>\n",
       "      <td>Nothin' on You (feat. Bruno Mars)</td>\n",
       "      <td>B.o.B</td>\n",
       "      <td>atl hip hop</td>\n",
       "      <td>2010</td>\n",
       "      <td>2022‑02‑17</td>\n",
       "      <td>104</td>\n",
       "      <td>85</td>\n",
       "      <td>69</td>\n",
       "      <td>-6</td>\n",
       "      <td>9</td>\n",
       "      <td>74</td>\n",
       "      <td>268</td>\n",
       "      <td>39</td>\n",
       "      <td>5</td>\n",
       "      <td>2010</td>\n",
       "      <td>Solo</td>\n",
       "      <td>79</td>\n",
       "    </tr>\n",
       "  </tbody>\n",
       "</table>\n",
       "</div>"
      ],
      "text/plain": [
       "                                           title      artist    top genre  \\\n",
       "0                  STARSTRUKK (feat. Katy Perry)       3OH!3    dance pop   \n",
       "1                    My First Kiss (feat. Ke$ha)       3OH!3    dance pop   \n",
       "2                                I Need A Dollar  Aloe Blacc     pop soul   \n",
       "3  Airplanes (feat. Hayley Williams of Paramore)       B.o.B  atl hip hop   \n",
       "4              Nothin' on You (feat. Bruno Mars)       B.o.B  atl hip hop   \n",
       "\n",
       "   year       added  bpm  nrgy  dnce  dB  live  val  dur  acous  spch  \\\n",
       "0  2009  2022‑02‑17  140    81    61  -6    23   23  203      0     6   \n",
       "1  2010  2022‑02‑17  138    89    68  -4    36   83  192      1     8   \n",
       "2  2010  2022‑02‑17   95    48    84  -7     9   96  243     20     3   \n",
       "3  2010  2022‑02‑17   93    87    66  -4     4   38  180     11    12   \n",
       "4  2010  2022‑02‑17  104    85    69  -6     9   74  268     39     5   \n",
       "\n",
       "   top year artist_type  pop  \n",
       "0      2010         Duo   70  \n",
       "1      2010         Duo   68  \n",
       "2      2010        Solo   72  \n",
       "3      2010        Solo   80  \n",
       "4      2010        Solo   79  "
      ]
     },
     "execution_count": 398,
     "metadata": {},
     "output_type": "execute_result"
    }
   ],
   "source": [
    "spotify_df = pd.read_csv('spotify_data.csv')\n",
    "spotify_df.head()"
   ]
  },
  {
   "cell_type": "code",
   "execution_count": 399,
   "metadata": {},
   "outputs": [
    {
     "name": "stdout",
     "output_type": "stream",
     "text": [
      "title          0\n",
      "artist         0\n",
      "top genre      0\n",
      "year           0\n",
      "added          0\n",
      "bpm            0\n",
      "nrgy           0\n",
      "dnce           0\n",
      "dB             0\n",
      "live           0\n",
      "val            0\n",
      "dur            0\n",
      "acous          0\n",
      "spch           0\n",
      "top year       0\n",
      "artist_type    0\n",
      "pop            0\n",
      "dtype: int64\n"
     ]
    }
   ],
   "source": [
    "# checking if any null values are present\n",
    "print(spotify_df.isnull().sum())"
   ]
  },
  {
   "cell_type": "code",
   "execution_count": 400,
   "metadata": {},
   "outputs": [
    {
     "data": {
      "text/plain": [
       "title          object\n",
       "artist         object\n",
       "top genre      object\n",
       "year            int64\n",
       "added          object\n",
       "bpm             int64\n",
       "nrgy            int64\n",
       "dnce            int64\n",
       "dB              int64\n",
       "live            int64\n",
       "val             int64\n",
       "dur             int64\n",
       "acous           int64\n",
       "spch            int64\n",
       "top year        int64\n",
       "artist_type    object\n",
       "pop             int64\n",
       "dtype: object"
      ]
     },
     "execution_count": 400,
     "metadata": {},
     "output_type": "execute_result"
    }
   ],
   "source": [
    "spotify_df.dtypes"
   ]
  },
  {
   "cell_type": "code",
   "execution_count": 401,
   "metadata": {},
   "outputs": [
    {
     "name": "stdout",
     "output_type": "stream",
     "text": [
      "Solo          748\n",
      "Band/Group    169\n",
      "Duo            70\n",
      "Trio           13\n",
      "Name: artist_type, dtype: int64\n",
      "2    748\n",
      "0    169\n",
      "1     70\n",
      "3     13\n",
      "Name: artist_type, dtype: int64\n"
     ]
    }
   ],
   "source": [
    "# converting artist type column values to a number [0,1,2]\n",
    "print(spotify_df['artist_type'].value_counts())\n",
    "spotify_df['artist_type'] = spotify_df['artist_type'].astype('category').cat.codes\n",
    "print(spotify_df['artist_type'].value_counts())"
   ]
  },
  {
   "cell_type": "code",
   "execution_count": 402,
   "metadata": {},
   "outputs": [
    {
     "data": {
      "text/html": [
       "<div>\n",
       "<style scoped>\n",
       "    .dataframe tbody tr th:only-of-type {\n",
       "        vertical-align: middle;\n",
       "    }\n",
       "\n",
       "    .dataframe tbody tr th {\n",
       "        vertical-align: top;\n",
       "    }\n",
       "\n",
       "    .dataframe thead th {\n",
       "        text-align: right;\n",
       "    }\n",
       "</style>\n",
       "<table border=\"1\" class=\"dataframe\">\n",
       "  <thead>\n",
       "    <tr style=\"text-align: right;\">\n",
       "      <th></th>\n",
       "      <th>title</th>\n",
       "      <th>artist</th>\n",
       "      <th>genre</th>\n",
       "      <th>year</th>\n",
       "      <th>added</th>\n",
       "      <th>bpm</th>\n",
       "      <th>nrgy</th>\n",
       "      <th>dnce</th>\n",
       "      <th>dB</th>\n",
       "      <th>live</th>\n",
       "      <th>val</th>\n",
       "      <th>dur</th>\n",
       "      <th>acous</th>\n",
       "      <th>spch</th>\n",
       "      <th>top year</th>\n",
       "      <th>artist_type</th>\n",
       "      <th>popularity</th>\n",
       "    </tr>\n",
       "  </thead>\n",
       "  <tbody>\n",
       "    <tr>\n",
       "      <th>0</th>\n",
       "      <td>STARSTRUKK (feat. Katy Perry)</td>\n",
       "      <td>3OH!3</td>\n",
       "      <td>dance pop</td>\n",
       "      <td>2009</td>\n",
       "      <td>2022‑02‑17</td>\n",
       "      <td>140</td>\n",
       "      <td>81</td>\n",
       "      <td>61</td>\n",
       "      <td>-6</td>\n",
       "      <td>23</td>\n",
       "      <td>23</td>\n",
       "      <td>203</td>\n",
       "      <td>0</td>\n",
       "      <td>6</td>\n",
       "      <td>2010</td>\n",
       "      <td>1</td>\n",
       "      <td>70</td>\n",
       "    </tr>\n",
       "    <tr>\n",
       "      <th>1</th>\n",
       "      <td>My First Kiss (feat. Ke$ha)</td>\n",
       "      <td>3OH!3</td>\n",
       "      <td>dance pop</td>\n",
       "      <td>2010</td>\n",
       "      <td>2022‑02‑17</td>\n",
       "      <td>138</td>\n",
       "      <td>89</td>\n",
       "      <td>68</td>\n",
       "      <td>-4</td>\n",
       "      <td>36</td>\n",
       "      <td>83</td>\n",
       "      <td>192</td>\n",
       "      <td>1</td>\n",
       "      <td>8</td>\n",
       "      <td>2010</td>\n",
       "      <td>1</td>\n",
       "      <td>68</td>\n",
       "    </tr>\n",
       "    <tr>\n",
       "      <th>2</th>\n",
       "      <td>I Need A Dollar</td>\n",
       "      <td>Aloe Blacc</td>\n",
       "      <td>pop soul</td>\n",
       "      <td>2010</td>\n",
       "      <td>2022‑02‑17</td>\n",
       "      <td>95</td>\n",
       "      <td>48</td>\n",
       "      <td>84</td>\n",
       "      <td>-7</td>\n",
       "      <td>9</td>\n",
       "      <td>96</td>\n",
       "      <td>243</td>\n",
       "      <td>20</td>\n",
       "      <td>3</td>\n",
       "      <td>2010</td>\n",
       "      <td>2</td>\n",
       "      <td>72</td>\n",
       "    </tr>\n",
       "    <tr>\n",
       "      <th>3</th>\n",
       "      <td>Airplanes (feat. Hayley Williams of Paramore)</td>\n",
       "      <td>B.o.B</td>\n",
       "      <td>atl hip hop</td>\n",
       "      <td>2010</td>\n",
       "      <td>2022‑02‑17</td>\n",
       "      <td>93</td>\n",
       "      <td>87</td>\n",
       "      <td>66</td>\n",
       "      <td>-4</td>\n",
       "      <td>4</td>\n",
       "      <td>38</td>\n",
       "      <td>180</td>\n",
       "      <td>11</td>\n",
       "      <td>12</td>\n",
       "      <td>2010</td>\n",
       "      <td>2</td>\n",
       "      <td>80</td>\n",
       "    </tr>\n",
       "    <tr>\n",
       "      <th>4</th>\n",
       "      <td>Nothin' on You (feat. Bruno Mars)</td>\n",
       "      <td>B.o.B</td>\n",
       "      <td>atl hip hop</td>\n",
       "      <td>2010</td>\n",
       "      <td>2022‑02‑17</td>\n",
       "      <td>104</td>\n",
       "      <td>85</td>\n",
       "      <td>69</td>\n",
       "      <td>-6</td>\n",
       "      <td>9</td>\n",
       "      <td>74</td>\n",
       "      <td>268</td>\n",
       "      <td>39</td>\n",
       "      <td>5</td>\n",
       "      <td>2010</td>\n",
       "      <td>2</td>\n",
       "      <td>79</td>\n",
       "    </tr>\n",
       "  </tbody>\n",
       "</table>\n",
       "</div>"
      ],
      "text/plain": [
       "                                           title      artist        genre  \\\n",
       "0                  STARSTRUKK (feat. Katy Perry)       3OH!3    dance pop   \n",
       "1                    My First Kiss (feat. Ke$ha)       3OH!3    dance pop   \n",
       "2                                I Need A Dollar  Aloe Blacc     pop soul   \n",
       "3  Airplanes (feat. Hayley Williams of Paramore)       B.o.B  atl hip hop   \n",
       "4              Nothin' on You (feat. Bruno Mars)       B.o.B  atl hip hop   \n",
       "\n",
       "   year       added  bpm  nrgy  dnce  dB  live  val  dur  acous  spch  \\\n",
       "0  2009  2022‑02‑17  140    81    61  -6    23   23  203      0     6   \n",
       "1  2010  2022‑02‑17  138    89    68  -4    36   83  192      1     8   \n",
       "2  2010  2022‑02‑17   95    48    84  -7     9   96  243     20     3   \n",
       "3  2010  2022‑02‑17   93    87    66  -4     4   38  180     11    12   \n",
       "4  2010  2022‑02‑17  104    85    69  -6     9   74  268     39     5   \n",
       "\n",
       "   top year  artist_type  popularity  \n",
       "0      2010            1          70  \n",
       "1      2010            1          68  \n",
       "2      2010            2          72  \n",
       "3      2010            2          80  \n",
       "4      2010            2          79  "
      ]
     },
     "execution_count": 402,
     "metadata": {},
     "output_type": "execute_result"
    }
   ],
   "source": [
    "# converting name of column top genre to genre\n",
    "spotify_df = spotify_df.rename(columns={'top genre': 'genre', 'pop': 'popularity'})\n",
    "spotify_df.head()"
   ]
  },
  {
   "cell_type": "code",
   "execution_count": 403,
   "metadata": {},
   "outputs": [
    {
     "data": {
      "text/html": [
       "<div>\n",
       "<style scoped>\n",
       "    .dataframe tbody tr th:only-of-type {\n",
       "        vertical-align: middle;\n",
       "    }\n",
       "\n",
       "    .dataframe tbody tr th {\n",
       "        vertical-align: top;\n",
       "    }\n",
       "\n",
       "    .dataframe thead th {\n",
       "        text-align: right;\n",
       "    }\n",
       "</style>\n",
       "<table border=\"1\" class=\"dataframe\">\n",
       "  <thead>\n",
       "    <tr style=\"text-align: right;\">\n",
       "      <th></th>\n",
       "      <th>bpm</th>\n",
       "      <th>nrgy</th>\n",
       "      <th>dnce</th>\n",
       "      <th>dB</th>\n",
       "      <th>live</th>\n",
       "      <th>val</th>\n",
       "      <th>dur</th>\n",
       "      <th>acous</th>\n",
       "      <th>spch</th>\n",
       "      <th>popularity</th>\n",
       "    </tr>\n",
       "  </thead>\n",
       "  <tbody>\n",
       "    <tr>\n",
       "      <th>0</th>\n",
       "      <td>140</td>\n",
       "      <td>81</td>\n",
       "      <td>61</td>\n",
       "      <td>-6</td>\n",
       "      <td>23</td>\n",
       "      <td>23</td>\n",
       "      <td>203</td>\n",
       "      <td>0</td>\n",
       "      <td>6</td>\n",
       "      <td>70</td>\n",
       "    </tr>\n",
       "    <tr>\n",
       "      <th>1</th>\n",
       "      <td>138</td>\n",
       "      <td>89</td>\n",
       "      <td>68</td>\n",
       "      <td>-4</td>\n",
       "      <td>36</td>\n",
       "      <td>83</td>\n",
       "      <td>192</td>\n",
       "      <td>1</td>\n",
       "      <td>8</td>\n",
       "      <td>68</td>\n",
       "    </tr>\n",
       "    <tr>\n",
       "      <th>2</th>\n",
       "      <td>95</td>\n",
       "      <td>48</td>\n",
       "      <td>84</td>\n",
       "      <td>-7</td>\n",
       "      <td>9</td>\n",
       "      <td>96</td>\n",
       "      <td>243</td>\n",
       "      <td>20</td>\n",
       "      <td>3</td>\n",
       "      <td>72</td>\n",
       "    </tr>\n",
       "    <tr>\n",
       "      <th>3</th>\n",
       "      <td>93</td>\n",
       "      <td>87</td>\n",
       "      <td>66</td>\n",
       "      <td>-4</td>\n",
       "      <td>4</td>\n",
       "      <td>38</td>\n",
       "      <td>180</td>\n",
       "      <td>11</td>\n",
       "      <td>12</td>\n",
       "      <td>80</td>\n",
       "    </tr>\n",
       "    <tr>\n",
       "      <th>4</th>\n",
       "      <td>104</td>\n",
       "      <td>85</td>\n",
       "      <td>69</td>\n",
       "      <td>-6</td>\n",
       "      <td>9</td>\n",
       "      <td>74</td>\n",
       "      <td>268</td>\n",
       "      <td>39</td>\n",
       "      <td>5</td>\n",
       "      <td>79</td>\n",
       "    </tr>\n",
       "  </tbody>\n",
       "</table>\n",
       "</div>"
      ],
      "text/plain": [
       "   bpm  nrgy  dnce  dB  live  val  dur  acous  spch  popularity\n",
       "0  140    81    61  -6    23   23  203      0     6          70\n",
       "1  138    89    68  -4    36   83  192      1     8          68\n",
       "2   95    48    84  -7     9   96  243     20     3          72\n",
       "3   93    87    66  -4     4   38  180     11    12          80\n",
       "4  104    85    69  -6     9   74  268     39     5          79"
      ]
     },
     "execution_count": 403,
     "metadata": {},
     "output_type": "execute_result"
    }
   ],
   "source": [
    "# getting columns from spotify_df from bpm to artist_type via loc\n",
    "spotify_features = spotify_df\n",
    "\n",
    "# dropping column added and top year from dataframe\n",
    "spotify_features.drop(['title', 'artist', 'genre', 'added', 'year', 'top year', 'artist_type'], axis=1, inplace=True)\n",
    "spotify_df.head()\n"
   ]
  },
  {
   "cell_type": "code",
   "execution_count": 404,
   "metadata": {},
   "outputs": [
    {
     "data": {
      "text/html": [
       "<div>\n",
       "<style scoped>\n",
       "    .dataframe tbody tr th:only-of-type {\n",
       "        vertical-align: middle;\n",
       "    }\n",
       "\n",
       "    .dataframe tbody tr th {\n",
       "        vertical-align: top;\n",
       "    }\n",
       "\n",
       "    .dataframe thead th {\n",
       "        text-align: right;\n",
       "    }\n",
       "</style>\n",
       "<table border=\"1\" class=\"dataframe\">\n",
       "  <thead>\n",
       "    <tr style=\"text-align: right;\">\n",
       "      <th></th>\n",
       "      <th>bpm</th>\n",
       "      <th>nrgy</th>\n",
       "      <th>dnce</th>\n",
       "      <th>dB</th>\n",
       "      <th>live</th>\n",
       "      <th>val</th>\n",
       "      <th>dur</th>\n",
       "      <th>acous</th>\n",
       "      <th>spch</th>\n",
       "      <th>popularity</th>\n",
       "    </tr>\n",
       "  </thead>\n",
       "  <tbody>\n",
       "    <tr>\n",
       "      <th>bpm</th>\n",
       "      <td>1.000000</td>\n",
       "      <td>0.118557</td>\n",
       "      <td>-0.111660</td>\n",
       "      <td>0.089568</td>\n",
       "      <td>0.014672</td>\n",
       "      <td>0.021128</td>\n",
       "      <td>-0.016536</td>\n",
       "      <td>-0.124614</td>\n",
       "      <td>0.149368</td>\n",
       "      <td>-0.025058</td>\n",
       "    </tr>\n",
       "    <tr>\n",
       "      <th>nrgy</th>\n",
       "      <td>0.118557</td>\n",
       "      <td>1.000000</td>\n",
       "      <td>-0.129279</td>\n",
       "      <td>0.713428</td>\n",
       "      <td>0.184094</td>\n",
       "      <td>0.372866</td>\n",
       "      <td>-0.049662</td>\n",
       "      <td>-0.504083</td>\n",
       "      <td>-0.099790</td>\n",
       "      <td>-0.234011</td>\n",
       "    </tr>\n",
       "    <tr>\n",
       "      <th>dnce</th>\n",
       "      <td>-0.111660</td>\n",
       "      <td>-0.129279</td>\n",
       "      <td>1.000000</td>\n",
       "      <td>-0.040538</td>\n",
       "      <td>-0.113324</td>\n",
       "      <td>0.264781</td>\n",
       "      <td>-0.168483</td>\n",
       "      <td>-0.075999</td>\n",
       "      <td>0.161734</td>\n",
       "      <td>0.093176</td>\n",
       "    </tr>\n",
       "    <tr>\n",
       "      <th>dB</th>\n",
       "      <td>0.089568</td>\n",
       "      <td>0.713428</td>\n",
       "      <td>-0.040538</td>\n",
       "      <td>1.000000</td>\n",
       "      <td>0.128134</td>\n",
       "      <td>0.317128</td>\n",
       "      <td>-0.082541</td>\n",
       "      <td>-0.392393</td>\n",
       "      <td>-0.165838</td>\n",
       "      <td>-0.145403</td>\n",
       "    </tr>\n",
       "    <tr>\n",
       "      <th>live</th>\n",
       "      <td>0.014672</td>\n",
       "      <td>0.184094</td>\n",
       "      <td>-0.113324</td>\n",
       "      <td>0.128134</td>\n",
       "      <td>1.000000</td>\n",
       "      <td>0.028092</td>\n",
       "      <td>-0.003094</td>\n",
       "      <td>-0.116081</td>\n",
       "      <td>0.043516</td>\n",
       "      <td>-0.137305</td>\n",
       "    </tr>\n",
       "    <tr>\n",
       "      <th>val</th>\n",
       "      <td>0.021128</td>\n",
       "      <td>0.372866</td>\n",
       "      <td>0.264781</td>\n",
       "      <td>0.317128</td>\n",
       "      <td>0.028092</td>\n",
       "      <td>1.000000</td>\n",
       "      <td>-0.185863</td>\n",
       "      <td>-0.164048</td>\n",
       "      <td>0.013192</td>\n",
       "      <td>-0.003752</td>\n",
       "    </tr>\n",
       "    <tr>\n",
       "      <th>dur</th>\n",
       "      <td>-0.016536</td>\n",
       "      <td>-0.049662</td>\n",
       "      <td>-0.168483</td>\n",
       "      <td>-0.082541</td>\n",
       "      <td>-0.003094</td>\n",
       "      <td>-0.185863</td>\n",
       "      <td>1.000000</td>\n",
       "      <td>0.026474</td>\n",
       "      <td>-0.035451</td>\n",
       "      <td>0.009219</td>\n",
       "    </tr>\n",
       "    <tr>\n",
       "      <th>acous</th>\n",
       "      <td>-0.124614</td>\n",
       "      <td>-0.504083</td>\n",
       "      <td>-0.075999</td>\n",
       "      <td>-0.392393</td>\n",
       "      <td>-0.116081</td>\n",
       "      <td>-0.164048</td>\n",
       "      <td>0.026474</td>\n",
       "      <td>1.000000</td>\n",
       "      <td>-0.010204</td>\n",
       "      <td>0.128195</td>\n",
       "    </tr>\n",
       "    <tr>\n",
       "      <th>spch</th>\n",
       "      <td>0.149368</td>\n",
       "      <td>-0.099790</td>\n",
       "      <td>0.161734</td>\n",
       "      <td>-0.165838</td>\n",
       "      <td>0.043516</td>\n",
       "      <td>0.013192</td>\n",
       "      <td>-0.035451</td>\n",
       "      <td>-0.010204</td>\n",
       "      <td>1.000000</td>\n",
       "      <td>0.061441</td>\n",
       "    </tr>\n",
       "    <tr>\n",
       "      <th>popularity</th>\n",
       "      <td>-0.025058</td>\n",
       "      <td>-0.234011</td>\n",
       "      <td>0.093176</td>\n",
       "      <td>-0.145403</td>\n",
       "      <td>-0.137305</td>\n",
       "      <td>-0.003752</td>\n",
       "      <td>0.009219</td>\n",
       "      <td>0.128195</td>\n",
       "      <td>0.061441</td>\n",
       "      <td>1.000000</td>\n",
       "    </tr>\n",
       "  </tbody>\n",
       "</table>\n",
       "</div>"
      ],
      "text/plain": [
       "                 bpm      nrgy      dnce        dB      live       val  \\\n",
       "bpm         1.000000  0.118557 -0.111660  0.089568  0.014672  0.021128   \n",
       "nrgy        0.118557  1.000000 -0.129279  0.713428  0.184094  0.372866   \n",
       "dnce       -0.111660 -0.129279  1.000000 -0.040538 -0.113324  0.264781   \n",
       "dB          0.089568  0.713428 -0.040538  1.000000  0.128134  0.317128   \n",
       "live        0.014672  0.184094 -0.113324  0.128134  1.000000  0.028092   \n",
       "val         0.021128  0.372866  0.264781  0.317128  0.028092  1.000000   \n",
       "dur        -0.016536 -0.049662 -0.168483 -0.082541 -0.003094 -0.185863   \n",
       "acous      -0.124614 -0.504083 -0.075999 -0.392393 -0.116081 -0.164048   \n",
       "spch        0.149368 -0.099790  0.161734 -0.165838  0.043516  0.013192   \n",
       "popularity -0.025058 -0.234011  0.093176 -0.145403 -0.137305 -0.003752   \n",
       "\n",
       "                 dur     acous      spch  popularity  \n",
       "bpm        -0.016536 -0.124614  0.149368   -0.025058  \n",
       "nrgy       -0.049662 -0.504083 -0.099790   -0.234011  \n",
       "dnce       -0.168483 -0.075999  0.161734    0.093176  \n",
       "dB         -0.082541 -0.392393 -0.165838   -0.145403  \n",
       "live       -0.003094 -0.116081  0.043516   -0.137305  \n",
       "val        -0.185863 -0.164048  0.013192   -0.003752  \n",
       "dur         1.000000  0.026474 -0.035451    0.009219  \n",
       "acous       0.026474  1.000000 -0.010204    0.128195  \n",
       "spch       -0.035451 -0.010204  1.000000    0.061441  \n",
       "popularity  0.009219  0.128195  0.061441    1.000000  "
      ]
     },
     "execution_count": 404,
     "metadata": {},
     "output_type": "execute_result"
    }
   ],
   "source": [
    "# checking correlation table\n",
    "spotify_features.head()\n",
    "spotify_features.corr(method='pearson')"
   ]
  },
  {
   "cell_type": "code",
   "execution_count": 405,
   "metadata": {},
   "outputs": [],
   "source": [
    "# splitting spotify_features into dependent and independent variables\n",
    "spotify_features_x = spotify_features.drop('popularity', axis=1)\n",
    "spotify_features_y = spotify_features['popularity']"
   ]
  },
  {
   "cell_type": "code",
   "execution_count": 406,
   "metadata": {},
   "outputs": [
    {
     "data": {
      "image/png": "[encoded data removed]",
      "text/plain": [
       "<Figure size 864x432 with 1 Axes>"
      ]
     },
     "metadata": {
      "needs_background": "light"
     },
     "output_type": "display_data"
    }
   ],
   "source": [
    "# Visulaizing the data before normalization\n",
    "fig = plt.figure(figsize=(12,6))\n",
    "plt.boxplot(spotify_features_x)\n",
    "plt.show()"
   ]
  },
  {
   "cell_type": "code",
   "execution_count": 407,
   "metadata": {},
   "outputs": [
    {
     "data": {
      "text/plain": [
       "array([[0.53191489, 0.81521739, 0.54545455, 0.70588235, 0.25925926,\n",
       "        0.20430108, 0.15652174, 0.        , 0.07843137],\n",
       "       [0.5177305 , 0.90217391, 0.63636364, 0.82352941, 0.41975309,\n",
       "        0.84946237, 0.1373913 , 0.01020408, 0.11764706]])"
      ]
     },
     "execution_count": 407,
     "metadata": {},
     "output_type": "execute_result"
    }
   ],
   "source": [
    "# normalizing spotify_features using min_max scaler\n",
    "from sklearn import preprocessing\n",
    "scaler = preprocessing.MinMaxScaler()\n",
    "spotify_features_scaled_x = scaler.fit_transform(spotify_features_x)\n",
    "spotify_features_scaled_x[0:2]"
   ]
  },
  {
   "cell_type": "code",
   "execution_count": 408,
   "metadata": {},
   "outputs": [
    {
     "name": "stdout",
     "output_type": "stream",
     "text": [
      "10\n"
     ]
    },
    {
     "data": {
      "image/png": "[encoded data removed]",
      "text/plain": [
       "<Figure size 864x432 with 1 Axes>"
      ]
     },
     "metadata": {
      "needs_background": "light"
     },
     "output_type": "display_data"
    }
   ],
   "source": [
    "# after normalization of data using min_max scaler\n",
    "xticks_values = [0, 'bpm', 'nrgy', 'dnce', 'dB', 'live', 'val', 'dur', 'acous', 'spch']\n",
    "print(len(xticks_values))\n",
    "fig = plt.figure(figsize=(12,6))\n",
    "plt.boxplot(spotify_features_scaled_x)\n",
    "plt.xticks(range(0,len(xticks_values)), xticks_values)\n",
    "plt.show()\n"
   ]
  },
  {
   "cell_type": "code",
   "execution_count": 409,
   "metadata": {},
   "outputs": [
    {
     "name": "stdout",
     "output_type": "stream",
     "text": [
      "[[0.53191489 0.81521739 0.54545455 0.70588235 0.25925926 0.20430108\n",
      "  0.15652174 0.         0.07843137]\n",
      " [0.5177305  0.90217391 0.63636364 0.82352941 0.41975309 0.84946237\n",
      "  0.1373913  0.01020408 0.11764706]]\n"
     ]
    }
   ],
   "source": [
    "spotify_features_x_np = spotify_features_scaled_x[:,:]\n",
    "print(spotify_features_x_np[0:2])"
   ]
  },
  {
   "cell_type": "code",
   "execution_count": 410,
   "metadata": {},
   "outputs": [
    {
     "data": {
      "text/plain": [
       "array([0, 0, 0, 1, 1])"
      ]
     },
     "execution_count": 410,
     "metadata": {},
     "output_type": "execute_result"
    }
   ],
   "source": [
    "spotify_features_y = np.where(spotify_features_y > 75, 1, 0)\n",
    "spotify_features_y[0:5]"
   ]
  },
  {
   "cell_type": "code",
   "execution_count": 411,
   "metadata": {},
   "outputs": [
    {
     "data": {
      "text/plain": [
       "array([0., 0., 0., 1., 1.])"
      ]
     },
     "execution_count": 411,
     "metadata": {},
     "output_type": "execute_result"
    }
   ],
   "source": [
    "spotify_features_scaled_y = scaler.fit_transform(spotify_features_y.reshape(-1,1))\n",
    "spotify_features_scaled_y[0:2]\n",
    "\n",
    "spotify_features_y_np = spotify_features_scaled_y[:,0]\n",
    "spotify_features_y_np[0:5]"
   ]
  },
  {
   "cell_type": "code",
   "execution_count": 412,
   "metadata": {},
   "outputs": [
    {
     "name": "stdout",
     "output_type": "stream",
     "text": [
      "[[0.53191489 0.81521739 0.54545455 0.70588235 0.25925926 0.20430108\n",
      "  0.15652174 0.         0.07843137]\n",
      " [0.5177305  0.90217391 0.63636364 0.82352941 0.41975309 0.84946237\n",
      "  0.1373913  0.01020408 0.11764706]]\n",
      "[0. 0.]\n"
     ]
    }
   ],
   "source": [
    "print(spotify_features_x_np[0:2])\n",
    "print(spotify_features_y_np[0:2])\n"
   ]
  },
  {
   "cell_type": "code",
   "execution_count": 413,
   "metadata": {},
   "outputs": [],
   "source": [
    "# spotify_features_x_np = pd.DataFrame(spotify_features_x_np, columns=xticks_values[1:10])\n",
    "# spotify_features_x_np"
   ]
  },
  {
   "cell_type": "code",
   "execution_count": 423,
   "metadata": {},
   "outputs": [],
   "source": [
    "from sklearn.model_selection import train_test_split\n",
    "x_train_knn, x_test_knn, y_train_knn, y_test_knn = train_test_split(spotify_features_x_np, spotify_features_y_np, test_size=0.45, random_state=42)"
   ]
  },
  {
   "cell_type": "code",
   "execution_count": 428,
   "metadata": {},
   "outputs": [
    {
     "data": {
      "text/plain": [
       "KNeighborsClassifier(n_neighbors=8)"
      ]
     },
     "execution_count": 428,
     "metadata": {},
     "output_type": "execute_result"
    }
   ],
   "source": [
    "from sklearn.neighbors import KNeighborsClassifier\n",
    "n = KNeighborsClassifier(n_neighbors=8).fit(x_train_knn, y_train_knn)\n",
    "n"
   ]
  },
  {
   "cell_type": "code",
   "execution_count": 429,
   "metadata": {},
   "outputs": [
    {
     "name": "stdout",
     "output_type": "stream",
     "text": [
      "[0. 0. 0. 0. 1. 0. 0. 1. 1. 0.]\n",
      "[1. 1. 1. 1. 1. 0. 0. 1. 1. 0.]\n"
     ]
    }
   ],
   "source": [
    "yhat_pred_knn = n.predict(x_test_knn)\n",
    "print(yhat_pred_knn[0:10])\n",
    "print(y_test_knn[0:10])"
   ]
  },
  {
   "cell_type": "code",
   "execution_count": 430,
   "metadata": {},
   "outputs": [
    {
     "data": {
      "text/plain": [
       "0.5711111111111111"
      ]
     },
     "execution_count": 430,
     "metadata": {},
     "output_type": "execute_result"
    }
   ],
   "source": [
    "from sklearn import metrics\n",
    "metrics.accuracy_score(y_test_knn, yhat_pred_knn)"
   ]
  },
  {
   "cell_type": "code",
   "execution_count": 431,
   "metadata": {},
   "outputs": [
    {
     "name": "stdout",
     "output_type": "stream",
     "text": [
      "[0.52666667 0.50222222 0.51777778 0.53777778 0.54       0.54222222\n",
      " 0.53111111 0.57111111 0.55555556 0.55333333 0.54444444 0.54444444\n",
      " 0.54444444 0.54       0.54222222 0.54666667 0.56       0.54666667\n",
      " 0.55555556 0.56444444 0.56444444 0.56       0.54444444 0.54444444\n",
      " 0.54666667 0.53333333 0.55111111 0.55555556 0.54444444]\n",
      "(array([7]),)\n"
     ]
    }
   ],
   "source": [
    "ks = 30\n",
    "mean_acc = np.zeros((ks-1))\n",
    "std_acc = np.zeros((ks-1))\n",
    "\n",
    "for n in range(1, ks):\n",
    "    neigh = KNeighborsClassifier(n_neighbors = n).fit(x_train_knn,y_train_knn)\n",
    "    yhat = neigh.predict(x_test_knn)\n",
    "    mean_acc[n-1] = metrics.accuracy_score(y_test_knn,yhat)\n",
    "    std_acc[n-1] = np.std(yhat==y_test_knn)/np.sqrt(yhat.shape[0])\n",
    "print(mean_acc)\n",
    "print(np.where(mean_acc == np.max(mean_acc)))"
   ]
  },
  {
   "cell_type": "code",
   "execution_count": 432,
   "metadata": {},
   "outputs": [
    {
     "data": {
      "text/plain": [
       "array([0.56, 0.53, 0.57, 0.53, 0.57, 0.57, 0.51, 0.55, 0.51, 0.45])"
      ]
     },
     "execution_count": 432,
     "metadata": {},
     "output_type": "execute_result"
    }
   ],
   "source": [
    "from sklearn.model_selection import cross_val_score\n",
    "knn = KNeighborsClassifier(n_neighbors=8)\n",
    "scores = cross_val_score(knn, spotify_features_x_np, spotify_features_y_np, cv=10)\n",
    "scores"
   ]
  },
  {
   "cell_type": "code",
   "execution_count": 435,
   "metadata": {},
   "outputs": [
    {
     "name": "stdout",
     "output_type": "stream",
     "text": [
      "0.54 accuracy with a standard deviation of 0.04\n"
     ]
    }
   ],
   "source": [
    "print('%.2f accuracy with a standard deviation of %.2f' % (np.mean(scores), np.std(scores)))"
   ]
  },
  {
   "cell_type": "code",
   "execution_count": 440,
   "metadata": {},
   "outputs": [
    {
     "name": "stdout",
     "output_type": "stream",
     "text": [
      "(1000, 1)\n",
      "(1000,)\n"
     ]
    }
   ],
   "source": [
    "from sklearn.model_selection import cross_val_predict\n",
    "yhat_pred_knn_cross_val = cross_val_predict(knn, spotify_features_x_np, spotify_features_y_np, cv=10)\n"
   ]
  },
  {
   "cell_type": "code",
   "execution_count": 441,
   "metadata": {},
   "outputs": [
    {
     "data": {
      "text/plain": [
       "0.535"
      ]
     },
     "execution_count": 441,
     "metadata": {},
     "output_type": "execute_result"
    }
   ],
   "source": [
    "metrics.accuracy_score(spotify_features_scaled_y, yhat_pred_knn_cross_val)"
   ]
  }
 ],
 "metadata": {
  "interpreter": {
   "hash": "aee8b7b246df8f9039afb4144a1f6fd8d2ca17a180786b69acc140d282b71a49"
  },
  "kernelspec": {
   "display_name": "Python 3.10.4 64-bit",
   "language": "python",
   "name": "python3"
  },
  "language_info": {
   "codemirror_mode": {
    "name": "ipython",
    "version": 3
   },
   "file_extension": ".py",
   "mimetype": "text/x-python",
   "name": "python",
   "nbconvert_exporter": "python",
   "pygments_lexer": "ipython3",
   "version": "3.10.4"
  },
  "orig_nbformat": 4
 },
 "nbformat": 4,
 "nbformat_minor": 2
}
