{
 "cells": [
  {
   "cell_type": "markdown",
   "metadata": {},
   "source": [
    "## AI Project UCS415 \n",
    "#### Finding Popularity of Spotify Songs \n",
    "Nitansh Jain  102017025"
   ]
  },
  {
   "cell_type": "code",
   "execution_count": 113,
   "metadata": {},
   "outputs": [],
   "source": [
    "import pandas as pd\n",
    "import numpy as np\n",
    "import matplotlib.pyplot as plt\n",
    "import seaborn as sns\n",
    "import scipy as sc\n",
    "# import sklearn"
   ]
  },
  {
   "cell_type": "code",
   "execution_count": 114,
   "metadata": {},
   "outputs": [
    {
     "data": {
      "text/html": [
       "<div>\n",
       "<style scoped>\n",
       "    .dataframe tbody tr th:only-of-type {\n",
       "        vertical-align: middle;\n",
       "    }\n",
       "\n",
       "    .dataframe tbody tr th {\n",
       "        vertical-align: top;\n",
       "    }\n",
       "\n",
       "    .dataframe thead th {\n",
       "        text-align: right;\n",
       "    }\n",
       "</style>\n",
       "<table border=\"1\" class=\"dataframe\">\n",
       "  <thead>\n",
       "    <tr style=\"text-align: right;\">\n",
       "      <th></th>\n",
       "      <th>track_name</th>\n",
       "      <th>artist_name</th>\n",
       "      <th>artist_pop</th>\n",
       "      <th>artist_genres</th>\n",
       "      <th>album</th>\n",
       "      <th>danceability</th>\n",
       "      <th>energy</th>\n",
       "      <th>loudness</th>\n",
       "      <th>speechiness</th>\n",
       "      <th>acousticness</th>\n",
       "      <th>...</th>\n",
       "      <th>sad lo-fi</th>\n",
       "      <th>sad rap</th>\n",
       "      <th>a cappella</th>\n",
       "      <th>world worship</th>\n",
       "      <th>roots worship</th>\n",
       "      <th>cartoon</th>\n",
       "      <th>assamese pop</th>\n",
       "      <th>children's music</th>\n",
       "      <th>hi-nrg</th>\n",
       "      <th>track_pop</th>\n",
       "    </tr>\n",
       "  </thead>\n",
       "  <tbody>\n",
       "    <tr>\n",
       "      <th>0</th>\n",
       "      <td>You Right</td>\n",
       "      <td>Doja Cat</td>\n",
       "      <td>88</td>\n",
       "      <td>['dance pop', 'pop']</td>\n",
       "      <td>Planet Her</td>\n",
       "      <td>0.828</td>\n",
       "      <td>0.621</td>\n",
       "      <td>-6.414</td>\n",
       "      <td>0.0565</td>\n",
       "      <td>0.016400</td>\n",
       "      <td>...</td>\n",
       "      <td>0</td>\n",
       "      <td>0</td>\n",
       "      <td>0</td>\n",
       "      <td>0</td>\n",
       "      <td>0</td>\n",
       "      <td>0</td>\n",
       "      <td>0</td>\n",
       "      <td>0</td>\n",
       "      <td>0</td>\n",
       "      <td>86</td>\n",
       "    </tr>\n",
       "    <tr>\n",
       "      <th>1</th>\n",
       "      <td>Wild Side (feat. Cardi B)</td>\n",
       "      <td>Normani</td>\n",
       "      <td>68</td>\n",
       "      <td>['dance pop', 'pop', 'post-teen pop', 'r&amp;b', '...</td>\n",
       "      <td>Wild Side (feat. Cardi B)</td>\n",
       "      <td>0.740</td>\n",
       "      <td>0.576</td>\n",
       "      <td>-6.744</td>\n",
       "      <td>0.1460</td>\n",
       "      <td>0.024900</td>\n",
       "      <td>...</td>\n",
       "      <td>0</td>\n",
       "      <td>0</td>\n",
       "      <td>0</td>\n",
       "      <td>0</td>\n",
       "      <td>0</td>\n",
       "      <td>0</td>\n",
       "      <td>0</td>\n",
       "      <td>0</td>\n",
       "      <td>0</td>\n",
       "      <td>7</td>\n",
       "    </tr>\n",
       "    <tr>\n",
       "      <th>2</th>\n",
       "      <td>Peaches (feat. Daniel Caesar &amp; Giveon)</td>\n",
       "      <td>Justin Bieber</td>\n",
       "      <td>90</td>\n",
       "      <td>['canadian pop', 'pop']</td>\n",
       "      <td>Justice</td>\n",
       "      <td>0.677</td>\n",
       "      <td>0.696</td>\n",
       "      <td>-6.181</td>\n",
       "      <td>0.1190</td>\n",
       "      <td>0.321000</td>\n",
       "      <td>...</td>\n",
       "      <td>0</td>\n",
       "      <td>0</td>\n",
       "      <td>0</td>\n",
       "      <td>0</td>\n",
       "      <td>0</td>\n",
       "      <td>0</td>\n",
       "      <td>0</td>\n",
       "      <td>0</td>\n",
       "      <td>0</td>\n",
       "      <td>87</td>\n",
       "    </tr>\n",
       "    <tr>\n",
       "      <th>3</th>\n",
       "      <td>Chicken Lemon Rice</td>\n",
       "      <td>Priya Ragu</td>\n",
       "      <td>42</td>\n",
       "      <td>['zurich indie']</td>\n",
       "      <td>damnshestamil</td>\n",
       "      <td>0.516</td>\n",
       "      <td>0.895</td>\n",
       "      <td>-5.770</td>\n",
       "      <td>0.0919</td>\n",
       "      <td>0.000376</td>\n",
       "      <td>...</td>\n",
       "      <td>0</td>\n",
       "      <td>0</td>\n",
       "      <td>0</td>\n",
       "      <td>0</td>\n",
       "      <td>0</td>\n",
       "      <td>0</td>\n",
       "      <td>0</td>\n",
       "      <td>0</td>\n",
       "      <td>0</td>\n",
       "      <td>38</td>\n",
       "    </tr>\n",
       "    <tr>\n",
       "      <th>4</th>\n",
       "      <td>LALA (Unlocked) (feat. Swae Lee)</td>\n",
       "      <td>Alicia Keys</td>\n",
       "      <td>76</td>\n",
       "      <td>['hip pop', 'neo soul', 'pop', 'r&amp;b', 'urban c...</td>\n",
       "      <td>LALA (Unlocked) (feat. Swae Lee)</td>\n",
       "      <td>0.615</td>\n",
       "      <td>0.560</td>\n",
       "      <td>-4.938</td>\n",
       "      <td>0.1840</td>\n",
       "      <td>0.088900</td>\n",
       "      <td>...</td>\n",
       "      <td>0</td>\n",
       "      <td>0</td>\n",
       "      <td>0</td>\n",
       "      <td>0</td>\n",
       "      <td>0</td>\n",
       "      <td>0</td>\n",
       "      <td>0</td>\n",
       "      <td>0</td>\n",
       "      <td>0</td>\n",
       "      <td>48</td>\n",
       "    </tr>\n",
       "  </tbody>\n",
       "</table>\n",
       "<p>5 rows × 676 columns</p>\n",
       "</div>"
      ],
      "text/plain": [
       "                               track_name    artist_name  artist_pop  \\\n",
       "0                               You Right       Doja Cat          88   \n",
       "1               Wild Side (feat. Cardi B)        Normani          68   \n",
       "2  Peaches (feat. Daniel Caesar & Giveon)  Justin Bieber          90   \n",
       "3                      Chicken Lemon Rice     Priya Ragu          42   \n",
       "4        LALA (Unlocked) (feat. Swae Lee)    Alicia Keys          76   \n",
       "\n",
       "                                       artist_genres  \\\n",
       "0                               ['dance pop', 'pop']   \n",
       "1  ['dance pop', 'pop', 'post-teen pop', 'r&b', '...   \n",
       "2                            ['canadian pop', 'pop']   \n",
       "3                                   ['zurich indie']   \n",
       "4  ['hip pop', 'neo soul', 'pop', 'r&b', 'urban c...   \n",
       "\n",
       "                              album  danceability  energy  loudness  \\\n",
       "0                        Planet Her         0.828   0.621    -6.414   \n",
       "1         Wild Side (feat. Cardi B)         0.740   0.576    -6.744   \n",
       "2                           Justice         0.677   0.696    -6.181   \n",
       "3                     damnshestamil         0.516   0.895    -5.770   \n",
       "4  LALA (Unlocked) (feat. Swae Lee)         0.615   0.560    -4.938   \n",
       "\n",
       "   speechiness  acousticness  ...  sad lo-fi  sad rap  a cappella  \\\n",
       "0       0.0565      0.016400  ...          0        0           0   \n",
       "1       0.1460      0.024900  ...          0        0           0   \n",
       "2       0.1190      0.321000  ...          0        0           0   \n",
       "3       0.0919      0.000376  ...          0        0           0   \n",
       "4       0.1840      0.088900  ...          0        0           0   \n",
       "\n",
       "   world worship  roots worship  cartoon  assamese pop  children's music  \\\n",
       "0              0              0        0             0                 0   \n",
       "1              0              0        0             0                 0   \n",
       "2              0              0        0             0                 0   \n",
       "3              0              0        0             0                 0   \n",
       "4              0              0        0             0                 0   \n",
       "\n",
       "   hi-nrg  track_pop  \n",
       "0       0         86  \n",
       "1       0          7  \n",
       "2       0         87  \n",
       "3       0         38  \n",
       "4       0         48  \n",
       "\n",
       "[5 rows x 676 columns]"
      ]
     },
     "execution_count": 114,
     "metadata": {},
     "output_type": "execute_result"
    }
   ],
   "source": [
    "spotify_df = pd.read_csv('songs_playlist_df.csv')\n",
    "spotify_df.head()"
   ]
  },
  {
   "cell_type": "code",
   "execution_count": 115,
   "metadata": {},
   "outputs": [
    {
     "name": "stdout",
     "output_type": "stream",
     "text": [
      "track_name          0\n",
      "artist_name         0\n",
      "artist_pop          0\n",
      "artist_genres       0\n",
      "album               0\n",
      "                   ..\n",
      "cartoon             0\n",
      "assamese pop        0\n",
      "children's music    0\n",
      "hi-nrg              0\n",
      "track_pop           0\n",
      "Length: 676, dtype: int64\n"
     ]
    }
   ],
   "source": [
    "# checking if any null values are present\n",
    "print(spotify_df.isnull().sum())"
   ]
  },
  {
   "cell_type": "code",
   "execution_count": 116,
   "metadata": {},
   "outputs": [
    {
     "data": {
      "text/plain": [
       "track_name          object\n",
       "artist_name         object\n",
       "artist_pop           int64\n",
       "artist_genres       object\n",
       "album               object\n",
       "                     ...  \n",
       "cartoon              int64\n",
       "assamese pop         int64\n",
       "children's music     int64\n",
       "hi-nrg               int64\n",
       "track_pop            int64\n",
       "Length: 676, dtype: object"
      ]
     },
     "execution_count": 116,
     "metadata": {},
     "output_type": "execute_result"
    }
   ],
   "source": [
    "spotify_df.dtypes"
   ]
  },
  {
   "cell_type": "code",
   "execution_count": 117,
   "metadata": {},
   "outputs": [
    {
     "data": {
      "text/plain": [
       "track_name          156\n",
       "artist_name         156\n",
       "artist_pop          156\n",
       "artist_genres       156\n",
       "album               156\n",
       "                   ... \n",
       "cartoon             156\n",
       "assamese pop        156\n",
       "children's music    156\n",
       "hi-nrg              156\n",
       "track_pop           156\n",
       "Length: 676, dtype: int64"
      ]
     },
     "execution_count": 117,
     "metadata": {},
     "output_type": "execute_result"
    }
   ],
   "source": [
    "spotify_df[spotify_df['track_pop']==0].count()"
   ]
  },
  {
   "cell_type": "code",
   "execution_count": 118,
   "metadata": {},
   "outputs": [],
   "source": [
    "spotify_df.drop(spotify_df.index[spotify_df['track_pop']<20], axis=0, inplace=True)"
   ]
  },
  {
   "cell_type": "code",
   "execution_count": 119,
   "metadata": {},
   "outputs": [
    {
     "data": {
      "text/plain": [
       "-0.06792105513618235"
      ]
     },
     "execution_count": 119,
     "metadata": {},
     "output_type": "execute_result"
    }
   ],
   "source": [
    "spotify_df.track_pop.skew()"
   ]
  },
  {
   "cell_type": "code",
   "execution_count": 120,
   "metadata": {},
   "outputs": [],
   "source": [
    "spotify_df.drop(spotify_df.iloc[:,17:675], inplace=True, axis=1)"
   ]
  },
  {
   "cell_type": "code",
   "execution_count": 121,
   "metadata": {},
   "outputs": [
    {
     "data": {
      "text/plain": [
       "Index(['track_name', 'artist_name', 'artist_pop', 'artist_genres', 'album',\n",
       "       'danceability', 'energy', 'loudness', 'speechiness', 'acousticness',\n",
       "       'instrumentalness', 'liveness', 'valence', 'tempo', 'duration_ms',\n",
       "       'time_signature', 'genre_score', 'track_pop'],\n",
       "      dtype='object')"
      ]
     },
     "execution_count": 121,
     "metadata": {},
     "output_type": "execute_result"
    }
   ],
   "source": [
    "spotify_df.columns"
   ]
  },
  {
   "cell_type": "code",
   "execution_count": 122,
   "metadata": {},
   "outputs": [
    {
     "data": {
      "text/html": [
       "<div>\n",
       "<style scoped>\n",
       "    .dataframe tbody tr th:only-of-type {\n",
       "        vertical-align: middle;\n",
       "    }\n",
       "\n",
       "    .dataframe tbody tr th {\n",
       "        vertical-align: top;\n",
       "    }\n",
       "\n",
       "    .dataframe thead th {\n",
       "        text-align: right;\n",
       "    }\n",
       "</style>\n",
       "<table border=\"1\" class=\"dataframe\">\n",
       "  <thead>\n",
       "    <tr style=\"text-align: right;\">\n",
       "      <th></th>\n",
       "      <th>track_name</th>\n",
       "      <th>artist_name</th>\n",
       "      <th>artist_pop</th>\n",
       "      <th>artist_genres</th>\n",
       "      <th>album</th>\n",
       "      <th>danceability</th>\n",
       "      <th>energy</th>\n",
       "      <th>loudness</th>\n",
       "      <th>speechiness</th>\n",
       "      <th>acousticness</th>\n",
       "      <th>instrumentalness</th>\n",
       "      <th>liveness</th>\n",
       "      <th>valence</th>\n",
       "      <th>tempo</th>\n",
       "      <th>duration_ms</th>\n",
       "      <th>time_signature</th>\n",
       "      <th>genre_score</th>\n",
       "      <th>track_pop</th>\n",
       "    </tr>\n",
       "  </thead>\n",
       "  <tbody>\n",
       "    <tr>\n",
       "      <th>0</th>\n",
       "      <td>You Right</td>\n",
       "      <td>Doja Cat</td>\n",
       "      <td>88</td>\n",
       "      <td>['dance pop', 'pop']</td>\n",
       "      <td>Planet Her</td>\n",
       "      <td>0.828</td>\n",
       "      <td>0.621</td>\n",
       "      <td>-6.414</td>\n",
       "      <td>0.0565</td>\n",
       "      <td>0.016400</td>\n",
       "      <td>0.002330</td>\n",
       "      <td>0.0845</td>\n",
       "      <td>0.436</td>\n",
       "      <td>128.986</td>\n",
       "      <td>186173</td>\n",
       "      <td>4</td>\n",
       "      <td>868</td>\n",
       "      <td>86</td>\n",
       "    </tr>\n",
       "    <tr>\n",
       "      <th>2</th>\n",
       "      <td>Peaches (feat. Daniel Caesar &amp; Giveon)</td>\n",
       "      <td>Justin Bieber</td>\n",
       "      <td>90</td>\n",
       "      <td>['canadian pop', 'pop']</td>\n",
       "      <td>Justice</td>\n",
       "      <td>0.677</td>\n",
       "      <td>0.696</td>\n",
       "      <td>-6.181</td>\n",
       "      <td>0.1190</td>\n",
       "      <td>0.321000</td>\n",
       "      <td>0.000000</td>\n",
       "      <td>0.4200</td>\n",
       "      <td>0.464</td>\n",
       "      <td>90.030</td>\n",
       "      <td>198082</td>\n",
       "      <td>4</td>\n",
       "      <td>607</td>\n",
       "      <td>87</td>\n",
       "    </tr>\n",
       "    <tr>\n",
       "      <th>3</th>\n",
       "      <td>Chicken Lemon Rice</td>\n",
       "      <td>Priya Ragu</td>\n",
       "      <td>42</td>\n",
       "      <td>['zurich indie']</td>\n",
       "      <td>damnshestamil</td>\n",
       "      <td>0.516</td>\n",
       "      <td>0.895</td>\n",
       "      <td>-5.770</td>\n",
       "      <td>0.0919</td>\n",
       "      <td>0.000376</td>\n",
       "      <td>0.540000</td>\n",
       "      <td>0.4920</td>\n",
       "      <td>0.694</td>\n",
       "      <td>199.923</td>\n",
       "      <td>153019</td>\n",
       "      <td>4</td>\n",
       "      <td>3</td>\n",
       "      <td>38</td>\n",
       "    </tr>\n",
       "    <tr>\n",
       "      <th>4</th>\n",
       "      <td>LALA (Unlocked) (feat. Swae Lee)</td>\n",
       "      <td>Alicia Keys</td>\n",
       "      <td>76</td>\n",
       "      <td>['hip pop', 'neo soul', 'pop', 'r&amp;b', 'urban c...</td>\n",
       "      <td>LALA (Unlocked) (feat. Swae Lee)</td>\n",
       "      <td>0.615</td>\n",
       "      <td>0.560</td>\n",
       "      <td>-4.938</td>\n",
       "      <td>0.1840</td>\n",
       "      <td>0.088900</td>\n",
       "      <td>0.000114</td>\n",
       "      <td>0.3140</td>\n",
       "      <td>0.330</td>\n",
       "      <td>139.441</td>\n",
       "      <td>266937</td>\n",
       "      <td>4</td>\n",
       "      <td>681</td>\n",
       "      <td>48</td>\n",
       "    </tr>\n",
       "    <tr>\n",
       "      <th>5</th>\n",
       "      <td>Good Love 2.0</td>\n",
       "      <td>Priya Ragu</td>\n",
       "      <td>42</td>\n",
       "      <td>['zurich indie']</td>\n",
       "      <td>damnshestamil</td>\n",
       "      <td>0.782</td>\n",
       "      <td>0.568</td>\n",
       "      <td>-4.750</td>\n",
       "      <td>0.0756</td>\n",
       "      <td>0.045300</td>\n",
       "      <td>0.000666</td>\n",
       "      <td>0.3990</td>\n",
       "      <td>0.516</td>\n",
       "      <td>106.463</td>\n",
       "      <td>174063</td>\n",
       "      <td>4</td>\n",
       "      <td>3</td>\n",
       "      <td>44</td>\n",
       "    </tr>\n",
       "  </tbody>\n",
       "</table>\n",
       "</div>"
      ],
      "text/plain": [
       "                               track_name    artist_name  artist_pop  \\\n",
       "0                               You Right       Doja Cat          88   \n",
       "2  Peaches (feat. Daniel Caesar & Giveon)  Justin Bieber          90   \n",
       "3                      Chicken Lemon Rice     Priya Ragu          42   \n",
       "4        LALA (Unlocked) (feat. Swae Lee)    Alicia Keys          76   \n",
       "5                           Good Love 2.0     Priya Ragu          42   \n",
       "\n",
       "                                       artist_genres  \\\n",
       "0                               ['dance pop', 'pop']   \n",
       "2                            ['canadian pop', 'pop']   \n",
       "3                                   ['zurich indie']   \n",
       "4  ['hip pop', 'neo soul', 'pop', 'r&b', 'urban c...   \n",
       "5                                   ['zurich indie']   \n",
       "\n",
       "                              album  danceability  energy  loudness  \\\n",
       "0                        Planet Her         0.828   0.621    -6.414   \n",
       "2                           Justice         0.677   0.696    -6.181   \n",
       "3                     damnshestamil         0.516   0.895    -5.770   \n",
       "4  LALA (Unlocked) (feat. Swae Lee)         0.615   0.560    -4.938   \n",
       "5                     damnshestamil         0.782   0.568    -4.750   \n",
       "\n",
       "   speechiness  acousticness  instrumentalness  liveness  valence    tempo  \\\n",
       "0       0.0565      0.016400          0.002330    0.0845    0.436  128.986   \n",
       "2       0.1190      0.321000          0.000000    0.4200    0.464   90.030   \n",
       "3       0.0919      0.000376          0.540000    0.4920    0.694  199.923   \n",
       "4       0.1840      0.088900          0.000114    0.3140    0.330  139.441   \n",
       "5       0.0756      0.045300          0.000666    0.3990    0.516  106.463   \n",
       "\n",
       "   duration_ms  time_signature  genre_score  track_pop  \n",
       "0       186173               4          868         86  \n",
       "2       198082               4          607         87  \n",
       "3       153019               4            3         38  \n",
       "4       266937               4          681         48  \n",
       "5       174063               4            3         44  "
      ]
     },
     "execution_count": 122,
     "metadata": {},
     "output_type": "execute_result"
    }
   ],
   "source": [
    "spotify_df.head()"
   ]
  },
  {
   "cell_type": "code",
   "execution_count": 123,
   "metadata": {},
   "outputs": [
    {
     "data": {
      "text/html": [
       "<div>\n",
       "<style scoped>\n",
       "    .dataframe tbody tr th:only-of-type {\n",
       "        vertical-align: middle;\n",
       "    }\n",
       "\n",
       "    .dataframe tbody tr th {\n",
       "        vertical-align: top;\n",
       "    }\n",
       "\n",
       "    .dataframe thead th {\n",
       "        text-align: right;\n",
       "    }\n",
       "</style>\n",
       "<table border=\"1\" class=\"dataframe\">\n",
       "  <thead>\n",
       "    <tr style=\"text-align: right;\">\n",
       "      <th></th>\n",
       "      <th>artist_pop</th>\n",
       "      <th>danceability</th>\n",
       "      <th>energy</th>\n",
       "      <th>loudness</th>\n",
       "      <th>speechiness</th>\n",
       "      <th>acousticness</th>\n",
       "      <th>instrumentalness</th>\n",
       "      <th>liveness</th>\n",
       "      <th>valence</th>\n",
       "      <th>tempo</th>\n",
       "      <th>duration_ms</th>\n",
       "      <th>time_signature</th>\n",
       "      <th>genre_score</th>\n",
       "      <th>track_pop</th>\n",
       "    </tr>\n",
       "  </thead>\n",
       "  <tbody>\n",
       "    <tr>\n",
       "      <th>0</th>\n",
       "      <td>88</td>\n",
       "      <td>0.828</td>\n",
       "      <td>0.621</td>\n",
       "      <td>-6.414</td>\n",
       "      <td>0.0565</td>\n",
       "      <td>0.016400</td>\n",
       "      <td>0.002330</td>\n",
       "      <td>0.0845</td>\n",
       "      <td>0.436</td>\n",
       "      <td>128.986</td>\n",
       "      <td>186173</td>\n",
       "      <td>4</td>\n",
       "      <td>868</td>\n",
       "      <td>86</td>\n",
       "    </tr>\n",
       "    <tr>\n",
       "      <th>2</th>\n",
       "      <td>90</td>\n",
       "      <td>0.677</td>\n",
       "      <td>0.696</td>\n",
       "      <td>-6.181</td>\n",
       "      <td>0.1190</td>\n",
       "      <td>0.321000</td>\n",
       "      <td>0.000000</td>\n",
       "      <td>0.4200</td>\n",
       "      <td>0.464</td>\n",
       "      <td>90.030</td>\n",
       "      <td>198082</td>\n",
       "      <td>4</td>\n",
       "      <td>607</td>\n",
       "      <td>87</td>\n",
       "    </tr>\n",
       "    <tr>\n",
       "      <th>3</th>\n",
       "      <td>42</td>\n",
       "      <td>0.516</td>\n",
       "      <td>0.895</td>\n",
       "      <td>-5.770</td>\n",
       "      <td>0.0919</td>\n",
       "      <td>0.000376</td>\n",
       "      <td>0.540000</td>\n",
       "      <td>0.4920</td>\n",
       "      <td>0.694</td>\n",
       "      <td>199.923</td>\n",
       "      <td>153019</td>\n",
       "      <td>4</td>\n",
       "      <td>3</td>\n",
       "      <td>38</td>\n",
       "    </tr>\n",
       "    <tr>\n",
       "      <th>4</th>\n",
       "      <td>76</td>\n",
       "      <td>0.615</td>\n",
       "      <td>0.560</td>\n",
       "      <td>-4.938</td>\n",
       "      <td>0.1840</td>\n",
       "      <td>0.088900</td>\n",
       "      <td>0.000114</td>\n",
       "      <td>0.3140</td>\n",
       "      <td>0.330</td>\n",
       "      <td>139.441</td>\n",
       "      <td>266937</td>\n",
       "      <td>4</td>\n",
       "      <td>681</td>\n",
       "      <td>48</td>\n",
       "    </tr>\n",
       "    <tr>\n",
       "      <th>5</th>\n",
       "      <td>42</td>\n",
       "      <td>0.782</td>\n",
       "      <td>0.568</td>\n",
       "      <td>-4.750</td>\n",
       "      <td>0.0756</td>\n",
       "      <td>0.045300</td>\n",
       "      <td>0.000666</td>\n",
       "      <td>0.3990</td>\n",
       "      <td>0.516</td>\n",
       "      <td>106.463</td>\n",
       "      <td>174063</td>\n",
       "      <td>4</td>\n",
       "      <td>3</td>\n",
       "      <td>44</td>\n",
       "    </tr>\n",
       "  </tbody>\n",
       "</table>\n",
       "</div>"
      ],
      "text/plain": [
       "   artist_pop  danceability  energy  loudness  speechiness  acousticness  \\\n",
       "0          88         0.828   0.621    -6.414       0.0565      0.016400   \n",
       "2          90         0.677   0.696    -6.181       0.1190      0.321000   \n",
       "3          42         0.516   0.895    -5.770       0.0919      0.000376   \n",
       "4          76         0.615   0.560    -4.938       0.1840      0.088900   \n",
       "5          42         0.782   0.568    -4.750       0.0756      0.045300   \n",
       "\n",
       "   instrumentalness  liveness  valence    tempo  duration_ms  time_signature  \\\n",
       "0          0.002330    0.0845    0.436  128.986       186173               4   \n",
       "2          0.000000    0.4200    0.464   90.030       198082               4   \n",
       "3          0.540000    0.4920    0.694  199.923       153019               4   \n",
       "4          0.000114    0.3140    0.330  139.441       266937               4   \n",
       "5          0.000666    0.3990    0.516  106.463       174063               4   \n",
       "\n",
       "   genre_score  track_pop  \n",
       "0          868         86  \n",
       "2          607         87  \n",
       "3            3         38  \n",
       "4          681         48  \n",
       "5            3         44  "
      ]
     },
     "execution_count": 123,
     "metadata": {},
     "output_type": "execute_result"
    }
   ],
   "source": [
    "spotify_reg = spotify_df.select_dtypes(include=['int64', 'float64'])\n",
    "spotify_reg.head()"
   ]
  },
  {
   "cell_type": "code",
   "execution_count": 124,
   "metadata": {},
   "outputs": [],
   "source": [
    "X = spotify_reg.iloc[:,0:13]\n",
    "Y = spotify_reg.iloc[:,13:14]"
   ]
  },
  {
   "cell_type": "code",
   "execution_count": 125,
   "metadata": {},
   "outputs": [],
   "source": [
    "from sklearn.preprocessing import StandardScaler, PolynomialFeatures\n",
    "from sklearn.model_selection import GridSearchCV, KFold, cross_val_score, train_test_split\n",
    "from sklearn.linear_model import LinearRegression, LassoCV, Ridge, Lasso\n",
    "from sklearn.metrics import r2_score\n",
    "from sklearn.pipeline import Pipeline"
   ]
  },
  {
   "cell_type": "code",
   "execution_count": 126,
   "metadata": {},
   "outputs": [],
   "source": [
    "scaler = StandardScaler()\n",
    "X_Scaled = scaler.fit_transform(X)\n",
    "X_Scaled = pd.DataFrame(data=X_Scaled, columns=X.columns)\n",
    "y = Y.squeeze()"
   ]
  },
  {
   "cell_type": "code",
   "execution_count": 127,
   "metadata": {},
   "outputs": [],
   "source": [
    "kf = KFold(shuffle=True, random_state=72018, n_splits=10)"
   ]
  },
  {
   "cell_type": "markdown",
   "metadata": {},
   "source": [
    "<p>GridSearchCV for Linear Regression</p>"
   ]
  },
  {
   "cell_type": "code",
   "execution_count": 128,
   "metadata": {},
   "outputs": [],
   "source": [
    "estimator_lr = Pipeline([(\"polynomial_features\", PolynomialFeatures()),\n",
    "                    (\"linear_regression\", LinearRegression())])\n",
    "\n",
    "params_lr = {\n",
    "    \"polynomial_features__degree\": [1,2,3,4,5]\n",
    "}\n",
    "\n",
    "grid_lr = GridSearchCV(estimator_lr, params_lr, cv=kf)"
   ]
  },
  {
   "cell_type": "code",
   "execution_count": 129,
   "metadata": {},
   "outputs": [
    {
     "data": {
      "text/plain": [
       "GridSearchCV(cv=KFold(n_splits=10, random_state=72018, shuffle=True),\n",
       "             estimator=Pipeline(steps=[('polynomial_features',\n",
       "                                        PolynomialFeatures()),\n",
       "                                       ('linear_regression',\n",
       "                                        LinearRegression())]),\n",
       "             param_grid={'polynomial_features__degree': [1, 2, 3, 4, 5]})"
      ]
     },
     "execution_count": 129,
     "metadata": {},
     "output_type": "execute_result"
    }
   ],
   "source": [
    "grid_lr.fit(X_Scaled, y)"
   ]
  },
  {
   "cell_type": "code",
   "execution_count": 130,
   "metadata": {},
   "outputs": [
    {
     "data": {
      "text/plain": [
       "(0.5829448026745813, {'polynomial_features__degree': 2})"
      ]
     },
     "execution_count": 130,
     "metadata": {},
     "output_type": "execute_result"
    }
   ],
   "source": [
    "grid_lr.best_score_, grid_lr.best_params_"
   ]
  },
  {
   "cell_type": "code",
   "execution_count": 131,
   "metadata": {},
   "outputs": [],
   "source": [
    "y_pred_lr = grid_lr.predict(X_Scaled)"
   ]
  },
  {
   "cell_type": "code",
   "execution_count": 132,
   "metadata": {},
   "outputs": [
    {
     "data": {
      "text/html": [
       "<div>\n",
       "<style scoped>\n",
       "    .dataframe tbody tr th:only-of-type {\n",
       "        vertical-align: middle;\n",
       "    }\n",
       "\n",
       "    .dataframe tbody tr th {\n",
       "        vertical-align: top;\n",
       "    }\n",
       "\n",
       "    .dataframe thead th {\n",
       "        text-align: right;\n",
       "    }\n",
       "</style>\n",
       "<table border=\"1\" class=\"dataframe\">\n",
       "  <thead>\n",
       "    <tr style=\"text-align: right;\">\n",
       "      <th></th>\n",
       "      <th>artist_pop</th>\n",
       "      <th>danceability</th>\n",
       "      <th>energy</th>\n",
       "      <th>loudness</th>\n",
       "      <th>speechiness</th>\n",
       "      <th>acousticness</th>\n",
       "      <th>instrumentalness</th>\n",
       "      <th>liveness</th>\n",
       "      <th>valence</th>\n",
       "      <th>tempo</th>\n",
       "      <th>duration_ms</th>\n",
       "      <th>time_signature</th>\n",
       "      <th>genre_score</th>\n",
       "    </tr>\n",
       "  </thead>\n",
       "  <tbody>\n",
       "    <tr>\n",
       "      <th>0</th>\n",
       "      <td>1.476986</td>\n",
       "      <td>1.490477</td>\n",
       "      <td>0.131450</td>\n",
       "      <td>0.378754</td>\n",
       "      <td>-0.241098</td>\n",
       "      <td>-0.968974</td>\n",
       "      <td>-0.283552</td>\n",
       "      <td>-0.654499</td>\n",
       "      <td>-0.160383</td>\n",
       "      <td>0.382372</td>\n",
       "      <td>-0.540965</td>\n",
       "      <td>0.213551</td>\n",
       "      <td>1.243377</td>\n",
       "    </tr>\n",
       "    <tr>\n",
       "      <th>1</th>\n",
       "      <td>1.580222</td>\n",
       "      <td>0.489791</td>\n",
       "      <td>0.458148</td>\n",
       "      <td>0.437036</td>\n",
       "      <td>0.610229</td>\n",
       "      <td>-0.008049</td>\n",
       "      <td>-0.295606</td>\n",
       "      <td>1.994213</td>\n",
       "      <td>-0.042038</td>\n",
       "      <td>-0.956096</td>\n",
       "      <td>-0.346617</td>\n",
       "      <td>0.213551</td>\n",
       "      <td>0.559960</td>\n",
       "    </tr>\n",
       "    <tr>\n",
       "      <th>2</th>\n",
       "      <td>-0.897432</td>\n",
       "      <td>-0.577166</td>\n",
       "      <td>1.324987</td>\n",
       "      <td>0.539843</td>\n",
       "      <td>0.241094</td>\n",
       "      <td>-1.019525</td>\n",
       "      <td>2.498047</td>\n",
       "      <td>2.562640</td>\n",
       "      <td>0.930079</td>\n",
       "      <td>2.819658</td>\n",
       "      <td>-1.082019</td>\n",
       "      <td>0.213551</td>\n",
       "      <td>-1.021589</td>\n",
       "    </tr>\n",
       "    <tr>\n",
       "      <th>3</th>\n",
       "      <td>0.857573</td>\n",
       "      <td>0.078913</td>\n",
       "      <td>-0.134265</td>\n",
       "      <td>0.747958</td>\n",
       "      <td>1.495609</td>\n",
       "      <td>-0.740257</td>\n",
       "      <td>-0.295017</td>\n",
       "      <td>1.157363</td>\n",
       "      <td>-0.608402</td>\n",
       "      <td>0.741590</td>\n",
       "      <td>0.777056</td>\n",
       "      <td>0.213551</td>\n",
       "      <td>0.753725</td>\n",
       "    </tr>\n",
       "    <tr>\n",
       "      <th>4</th>\n",
       "      <td>-0.897432</td>\n",
       "      <td>1.185633</td>\n",
       "      <td>-0.099417</td>\n",
       "      <td>0.794984</td>\n",
       "      <td>0.019068</td>\n",
       "      <td>-0.877802</td>\n",
       "      <td>-0.292161</td>\n",
       "      <td>1.828422</td>\n",
       "      <td>0.177745</td>\n",
       "      <td>-0.391484</td>\n",
       "      <td>-0.738593</td>\n",
       "      <td>0.213551</td>\n",
       "      <td>-1.021589</td>\n",
       "    </tr>\n",
       "  </tbody>\n",
       "</table>\n",
       "</div>"
      ],
      "text/plain": [
       "   artist_pop  danceability    energy  loudness  speechiness  acousticness  \\\n",
       "0    1.476986      1.490477  0.131450  0.378754    -0.241098     -0.968974   \n",
       "1    1.580222      0.489791  0.458148  0.437036     0.610229     -0.008049   \n",
       "2   -0.897432     -0.577166  1.324987  0.539843     0.241094     -1.019525   \n",
       "3    0.857573      0.078913 -0.134265  0.747958     1.495609     -0.740257   \n",
       "4   -0.897432      1.185633 -0.099417  0.794984     0.019068     -0.877802   \n",
       "\n",
       "   instrumentalness  liveness   valence     tempo  duration_ms  \\\n",
       "0         -0.283552 -0.654499 -0.160383  0.382372    -0.540965   \n",
       "1         -0.295606  1.994213 -0.042038 -0.956096    -0.346617   \n",
       "2          2.498047  2.562640  0.930079  2.819658    -1.082019   \n",
       "3         -0.295017  1.157363 -0.608402  0.741590     0.777056   \n",
       "4         -0.292161  1.828422  0.177745 -0.391484    -0.738593   \n",
       "\n",
       "   time_signature  genre_score  \n",
       "0        0.213551     1.243377  \n",
       "1        0.213551     0.559960  \n",
       "2        0.213551    -1.021589  \n",
       "3        0.213551     0.753725  \n",
       "4        0.213551    -1.021589  "
      ]
     },
     "execution_count": 132,
     "metadata": {},
     "output_type": "execute_result"
    }
   ],
   "source": [
    "X_Scaled.head()"
   ]
  },
  {
   "cell_type": "code",
   "execution_count": 133,
   "metadata": {},
   "outputs": [
    {
     "name": "stdout",
     "output_type": "stream",
     "text": [
      "Mean Square Error: 102.77\n",
      "Root Mean Square Error: 10.14\n",
      "Mean Absolute Error: 7.74\n",
      "R2 score: 0.64\n"
     ]
    }
   ],
   "source": [
    "print('Mean Square Error: %.2f' % np.mean((y - y_pred_lr) ** 2))\n",
    "print('Root Mean Square Error: %.2f' % np.sqrt(np.mean((y - y_pred_lr) ** 2)))\n",
    "print('Mean Absolute Error: %.2f' % np.mean(np.abs(y - y_pred_lr)))\n",
    "print('R2 score: %.2f' % r2_score(y, y_pred_lr))"
   ]
  },
  {
   "cell_type": "markdown",
   "metadata": {},
   "source": [
    "<p>GridSearchCV for Ridge Regression</p>"
   ]
  },
  {
   "cell_type": "code",
   "execution_count": 134,
   "metadata": {},
   "outputs": [],
   "source": [
    "estimator_rr = Pipeline([(\"polynomial_features\", PolynomialFeatures()),\n",
    "                    (\"ridge_regression\", Ridge())])\n",
    "\n",
    "params_rr = {\n",
    "    \"polynomial_features__degree\": [1,2,3,4,5],\n",
    "    \"ridge_regression__alpha\": [0.0001, 0.001,0.01, 0.1, 1, 10],\n",
    "}\n",
    "\n",
    "grid_rr = GridSearchCV(estimator_rr, params_rr, cv=kf)"
   ]
  },
  {
   "cell_type": "code",
   "execution_count": 135,
   "metadata": {},
   "outputs": [
    {
     "name": "stderr",
     "output_type": "stream",
     "text": [
      "/Library/Frameworks/Python.framework/Versions/3.10/lib/python3.10/site-packages/sklearn/linear_model/_ridge.py:194: LinAlgWarning: Ill-conditioned matrix (rcond=8.62086e-17): result may not be accurate.\n",
      "  dual_coef = linalg.solve(K, y, sym_pos=True, overwrite_a=False)\n",
      "/Library/Frameworks/Python.framework/Versions/3.10/lib/python3.10/site-packages/sklearn/linear_model/_ridge.py:194: LinAlgWarning: Ill-conditioned matrix (rcond=4.32343e-17): result may not be accurate.\n",
      "  dual_coef = linalg.solve(K, y, sym_pos=True, overwrite_a=False)\n",
      "/Library/Frameworks/Python.framework/Versions/3.10/lib/python3.10/site-packages/sklearn/linear_model/_ridge.py:194: LinAlgWarning: Ill-conditioned matrix (rcond=4.3172e-17): result may not be accurate.\n",
      "  dual_coef = linalg.solve(K, y, sym_pos=True, overwrite_a=False)\n",
      "/Library/Frameworks/Python.framework/Versions/3.10/lib/python3.10/site-packages/sklearn/linear_model/_ridge.py:194: LinAlgWarning: Ill-conditioned matrix (rcond=4.32574e-17): result may not be accurate.\n",
      "  dual_coef = linalg.solve(K, y, sym_pos=True, overwrite_a=False)\n",
      "/Library/Frameworks/Python.framework/Versions/3.10/lib/python3.10/site-packages/sklearn/linear_model/_ridge.py:194: LinAlgWarning: Ill-conditioned matrix (rcond=4.31484e-17): result may not be accurate.\n",
      "  dual_coef = linalg.solve(K, y, sym_pos=True, overwrite_a=False)\n",
      "/Library/Frameworks/Python.framework/Versions/3.10/lib/python3.10/site-packages/sklearn/linear_model/_ridge.py:194: LinAlgWarning: Ill-conditioned matrix (rcond=4.31728e-17): result may not be accurate.\n",
      "  dual_coef = linalg.solve(K, y, sym_pos=True, overwrite_a=False)\n",
      "/Library/Frameworks/Python.framework/Versions/3.10/lib/python3.10/site-packages/sklearn/linear_model/_ridge.py:194: LinAlgWarning: Ill-conditioned matrix (rcond=8.62537e-17): result may not be accurate.\n",
      "  dual_coef = linalg.solve(K, y, sym_pos=True, overwrite_a=False)\n",
      "/Library/Frameworks/Python.framework/Versions/3.10/lib/python3.10/site-packages/sklearn/linear_model/_ridge.py:194: LinAlgWarning: Ill-conditioned matrix (rcond=4.31947e-17): result may not be accurate.\n",
      "  dual_coef = linalg.solve(K, y, sym_pos=True, overwrite_a=False)\n",
      "/Library/Frameworks/Python.framework/Versions/3.10/lib/python3.10/site-packages/sklearn/linear_model/_ridge.py:194: LinAlgWarning: Ill-conditioned matrix (rcond=4.316e-17): result may not be accurate.\n",
      "  dual_coef = linalg.solve(K, y, sym_pos=True, overwrite_a=False)\n"
     ]
    },
    {
     "data": {
      "text/plain": [
       "GridSearchCV(cv=KFold(n_splits=10, random_state=72018, shuffle=True),\n",
       "             estimator=Pipeline(steps=[('polynomial_features',\n",
       "                                        PolynomialFeatures()),\n",
       "                                       ('ridge_regression', Ridge())]),\n",
       "             param_grid={'polynomial_features__degree': [1, 2, 3, 4, 5],\n",
       "                         'ridge_regression__alpha': [0.0001, 0.001, 0.01, 0.1,\n",
       "                                                     1, 10]})"
      ]
     },
     "execution_count": 135,
     "metadata": {},
     "output_type": "execute_result"
    }
   ],
   "source": [
    "grid_rr.fit(X_Scaled, y)"
   ]
  },
  {
   "cell_type": "code",
   "execution_count": 136,
   "metadata": {},
   "outputs": [
    {
     "data": {
      "text/plain": [
       "(0.5858722614965843,\n",
       " {'polynomial_features__degree': 2, 'ridge_regression__alpha': 10})"
      ]
     },
     "execution_count": 136,
     "metadata": {},
     "output_type": "execute_result"
    }
   ],
   "source": [
    "grid_rr.best_score_, grid_rr.best_params_"
   ]
  },
  {
   "cell_type": "code",
   "execution_count": 137,
   "metadata": {},
   "outputs": [],
   "source": [
    "y_pred_rr = grid_rr.predict(X_Scaled)"
   ]
  },
  {
   "cell_type": "code",
   "execution_count": 138,
   "metadata": {},
   "outputs": [
    {
     "name": "stdout",
     "output_type": "stream",
     "text": [
      "Mean Square Error: 102.79\n",
      "Root Mean Square Error: 10.14\n",
      "Mean Absolute Error: 7.74\n",
      "R2 score: 0.64\n"
     ]
    }
   ],
   "source": [
    "print('Mean Square Error: %.2f' % np.mean((y - y_pred_rr) ** 2))\n",
    "print('Root Mean Square Error: %.2f' % np.sqrt(np.mean((y - y_pred_rr) ** 2)))\n",
    "print('Mean Absolute Error: %.2f' % np.mean(np.abs(y - y_pred_rr)))\n",
    "print('R2 score: %.2f' % r2_score(y, y_pred_rr))"
   ]
  },
  {
   "cell_type": "markdown",
   "metadata": {},
   "source": [
    "<p>GridSearchCV for Lasso Regression</p>"
   ]
  },
  {
   "cell_type": "code",
   "execution_count": 139,
   "metadata": {},
   "outputs": [],
   "source": [
    "X_train, X_test, y_train, y_test = train_test_split(X_Scaled, y, test_size = 0.3, random_state = 42)\n"
   ]
  },
  {
   "cell_type": "code",
   "execution_count": 140,
   "metadata": {},
   "outputs": [],
   "source": [
    "alpha_space = np.logspace(-4, 0, 30)"
   ]
  },
  {
   "cell_type": "code",
   "execution_count": 141,
   "metadata": {},
   "outputs": [],
   "source": [
    "lasso_scores = []\n",
    "lasso = Lasso()\n",
    "for alpha in alpha_space:\n",
    "    lasso.alpha = alpha\n",
    "    val = np.mean(cross_val_score(lasso, X_Scaled, y, cv = 10))\n",
    "    lasso_scores.append(val)"
   ]
  },
  {
   "cell_type": "code",
   "execution_count": 142,
   "metadata": {},
   "outputs": [
    {
     "name": "stdout",
     "output_type": "stream",
     "text": [
      "{'alpha': 0.572236765935022}\n",
      "0.3585719194886188\n"
     ]
    }
   ],
   "source": [
    "params = {'alpha': (np.logspace(-8, 8, 100))} # It will check from 1e-08 to 1e+08\n",
    "lasso = Lasso()\n",
    "lasso_model = GridSearchCV(lasso, params, cv = 10)\n",
    "lasso_model.fit(X_Scaled, y)\n",
    "print(lasso_model.best_params_)\n",
    "print(lasso_model.best_score_)"
   ]
  },
  {
   "cell_type": "code",
   "execution_count": 143,
   "metadata": {},
   "outputs": [],
   "source": [
    "y_pred_lar = lasso_model.predict(X_Scaled)"
   ]
  },
  {
   "cell_type": "code",
   "execution_count": 144,
   "metadata": {},
   "outputs": [
    {
     "name": "stdout",
     "output_type": "stream",
     "text": [
      "Mean Square Error: 118.12\n",
      "Root Mean Square Error: 10.87\n",
      "Mean Absolute Error: 8.44\n",
      "R2 score: 0.59\n"
     ]
    }
   ],
   "source": [
    "print('Mean Square Error: %.2f' % np.mean((y - y_pred_lar) ** 2))\n",
    "print('Root Mean Square Error: %.2f' % np.sqrt(np.mean((y - y_pred_lar) ** 2)))\n",
    "print('Mean Absolute Error: %.2f' % np.mean(np.abs(y - y_pred_lar)))\n",
    "print('R2 score: %.2f' % r2_score(y, y_pred_lar))"
   ]
  },
  {
   "cell_type": "code",
   "execution_count": 145,
   "metadata": {},
   "outputs": [
    {
     "name": "stdout",
     "output_type": "stream",
     "text": [
      "Magnitude of Lasso coefficients: 14.345524046765538\n",
      "Number of coeffients not equal to 0 for Lasso: 3\n",
      "Magnitude of Linear Regression coefficients: 62.027911283479064\n",
      "Number of coeffients not equal to 0 for Linear Regression: 105\n",
      "Magnitude of Ridge Regression coefficients: 62.027911283479064\n",
      "Number of coeffients not equal to 0 for Ridge Regression: 105\n"
     ]
    }
   ],
   "source": [
    "print('Magnitude of Lasso coefficients:', abs(lasso_model.best_estimator_.coef_).sum())\n",
    "print('Number of coeffients not equal to 0 for Lasso:', (lasso_model.best_estimator_.coef_!=0).sum())\n",
    "\n",
    "print('Magnitude of Linear Regression coefficients:', abs(grid_lr.best_estimator_.steps[1][1].coef_).sum())\n",
    "print('Number of coeffients not equal to 0 for Linear Regression:', (grid_lr.best_estimator_.steps[1][1].coef_!=0).sum())\n",
    "\n",
    "print('Magnitude of Ridge Regression coefficients:', abs(grid_lr.best_estimator_.steps[1][1].coef_).sum())\n",
    "print('Number of coeffients not equal to 0 for Ridge Regression:', (grid_lr.best_estimator_.steps[1][1].coef_!=0).sum())"
   ]
  }
 ],
 "metadata": {
  "interpreter": {
   "hash": "aee8b7b246df8f9039afb4144a1f6fd8d2ca17a180786b69acc140d282b71a49"
  },
  "kernelspec": {
   "display_name": "Python 3.10.4 64-bit",
   "language": "python",
   "name": "python3"
  },
  "language_info": {
   "codemirror_mode": {
    "name": "ipython",
    "version": 3
   },
   "file_extension": ".py",
   "mimetype": "text/x-python",
   "name": "python",
   "nbconvert_exporter": "python",
   "pygments_lexer": "ipython3",
   "version": "3.10.4"
  },
  "orig_nbformat": 4
 },
 "nbformat": 4,
 "nbformat_minor": 2
}
